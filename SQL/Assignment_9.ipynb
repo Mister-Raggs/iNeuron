{
 "cells": [
  {
   "cell_type": "raw",
   "metadata": {},
   "source": [
    "1) SELECT TOP(5) * FROM WORKER"
   ]
  },
  {
   "cell_type": "raw",
   "metadata": {},
   "source": [
    "2) SELECT * FROM WORKER ORDER BY Salary DESC LIMIT 4,1"
   ]
  },
  {
   "cell_type": "raw",
   "metadata": {},
   "source": []
  }
 ],
 "metadata": {
  "kernelspec": {
   "display_name": "Python 3",
   "language": "python",
   "name": "python3"
  },
  "language_info": {
   "codemirror_mode": {
    "name": "ipython",
    "version": 3
   },
   "file_extension": ".py",
   "mimetype": "text/x-python",
   "name": "python",
   "nbconvert_exporter": "python",
   "pygments_lexer": "ipython3",
   "version": "3.8.5"
  }
 },
 "nbformat": 4,
 "nbformat_minor": 4
}
