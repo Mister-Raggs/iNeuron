{
 "cells": [
  {
   "cell_type": "raw",
   "metadata": {},
   "source": [
    "1) SELECT RTRIM(FIRST_NAME) FROM WORKER"
   ]
  },
  {
   "cell_type": "raw",
   "metadata": {},
   "source": [
    "2) SELECT DISTINCT(FIRST_NAME), LEN(FIRST_NAME)\n",
    "FROM WORKER"
   ]
  },
  {
   "cell_type": "raw",
   "metadata": {},
   "source": [
    "3) SELECT MAX(SALARY)\n",
    "FROM WORKER\n",
    "LIMIT N"
   ]
  },
  {
   "cell_type": "code",
   "execution_count": null,
   "metadata": {},
   "outputs": [],
   "source": []
  }
 ],
 "metadata": {
  "kernelspec": {
   "display_name": "Python 3",
   "language": "python",
   "name": "python3"
  },
  "language_info": {
   "codemirror_mode": {
    "name": "ipython",
    "version": 3
   },
   "file_extension": ".py",
   "mimetype": "text/x-python",
   "name": "python",
   "nbconvert_exporter": "python",
   "pygments_lexer": "ipython3",
   "version": "3.8.5"
  }
 },
 "nbformat": 4,
 "nbformat_minor": 4
}
