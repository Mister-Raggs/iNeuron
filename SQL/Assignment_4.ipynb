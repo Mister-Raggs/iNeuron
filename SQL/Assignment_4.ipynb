{
 "cells": [
  {
   "cell_type": "raw",
   "metadata": {},
   "source": [
    "1)SELECT REPLACE(FIRST_NAME,'a','A'\n",
    "  FROM WORKER\n"
   ]
  },
  {
   "cell_type": "raw",
   "metadata": {},
   "source": [
    "2)SELECT * \n",
    "  FROM WORKER\n",
    "  ORDER BY FIRST_NAME asc DEPARTMENT desc"
   ]
  },
  {
   "cell_type": "raw",
   "metadata": {},
   "source": [
    "3)SELECT FIRST_NAME\n",
    "  FROM WORKER\n",
    "  WHERE SALARY=(SELECT MAX(SALARY) FROM WORKER)"
   ]
  },
  {
   "cell_type": "code",
   "execution_count": null,
   "metadata": {},
   "outputs": [],
   "source": []
  }
 ],
 "metadata": {
  "kernelspec": {
   "display_name": "Python 3",
   "language": "python",
   "name": "python3"
  },
  "language_info": {
   "codemirror_mode": {
    "name": "ipython",
    "version": 3
   },
   "file_extension": ".py",
   "mimetype": "text/x-python",
   "name": "python",
   "nbconvert_exporter": "python",
   "pygments_lexer": "ipython3",
   "version": "3.8.5"
  }
 },
 "nbformat": 4,
 "nbformat_minor": 4
}
