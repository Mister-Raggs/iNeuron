{
 "cells": [
  {
   "cell_type": "raw",
   "metadata": {},
   "source": [
    "1) SELECT FIRST_NAME as WORKER_NAME FROM WORKER"
   ]
  },
  {
   "cell_type": "raw",
   "metadata": {},
   "source": [
    "2) SELECT DISTINCT(DEPARTMENT) FROM WORKER"
   ]
  },
  {
   "cell_type": "raw",
   "metadata": {},
   "source": [
    "3) SELECT TOP 5 FROM WORKER ORDER BY id desc"
   ]
  },
  {
   "cell_type": "code",
   "execution_count": null,
   "metadata": {},
   "outputs": [],
   "source": []
  }
 ],
 "metadata": {
  "kernelspec": {
   "display_name": "Python 3",
   "language": "python",
   "name": "python3"
  },
  "language_info": {
   "codemirror_mode": {
    "name": "ipython",
    "version": 3
   },
   "file_extension": ".py",
   "mimetype": "text/x-python",
   "name": "python",
   "nbconvert_exporter": "python",
   "pygments_lexer": "ipython3",
   "version": "3.8.5"
  }
 },
 "nbformat": 4,
 "nbformat_minor": 4
}
