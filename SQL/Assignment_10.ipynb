{
 "cells": [
  {
   "cell_type": "raw",
   "metadata": {},
   "source": [
    "1) SELECT salary FROM ( SELECT WORKER.salary, ROW_NUMBER() OVER (ORDER BY salary DESC) rn FROM Employee e ) WHERE rn = 5"
   ]
  },
  {
   "cell_type": "raw",
   "metadata": {},
   "source": [
    "2) SELECT NAME,SALARY,COUNT(SALARY) FROM WORKER \n",
    "WHERE SALARY IN (SELECT SALARY FROM WORKER GROUP BY SALARY HAVING COUNT(SALARY)>1) \n",
    "GROUP BY NAME, SALARY"
   ]
  },
  {
   "cell_type": "code",
   "execution_count": null,
   "metadata": {},
   "outputs": [],
   "source": []
  }
 ],
 "metadata": {
  "kernelspec": {
   "display_name": "Python 3",
   "language": "python",
   "name": "python3"
  },
  "language_info": {
   "codemirror_mode": {
    "name": "ipython",
    "version": 3
   },
   "file_extension": ".py",
   "mimetype": "text/x-python",
   "name": "python",
   "nbconvert_exporter": "python",
   "pygments_lexer": "ipython3",
   "version": "3.8.5"
  }
 },
 "nbformat": 4,
 "nbformat_minor": 4
}
