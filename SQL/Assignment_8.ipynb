{
 "cells": [
  {
   "cell_type": "raw",
   "metadata": {},
   "source": [
    "1) SELECT * FROM table1 T1 INNER JOIN table2 T2 ON T1.id=T2.id"
   ]
  },
  {
   "cell_type": "raw",
   "metadata": {},
   "source": [
    "2) SELECT AGENT_CODE FROM AGENT\n",
    "WHERE AGENT_CODE NOT IN (SELECT AGENT.AGENT_CODE FROM AGENT INNER JOIN test ON AGENT.AGENT_CODE=test.AGENT_CODE) "
   ]
  },
  {
   "cell_type": "code",
   "execution_count": null,
   "metadata": {},
   "outputs": [],
   "source": []
  }
 ],
 "metadata": {
  "kernelspec": {
   "display_name": "Python 3",
   "language": "python",
   "name": "python3"
  },
  "language_info": {
   "codemirror_mode": {
    "name": "ipython",
    "version": 3
   },
   "file_extension": ".py",
   "mimetype": "text/x-python",
   "name": "python",
   "nbconvert_exporter": "python",
   "pygments_lexer": "ipython3",
   "version": "3.8.5"
  }
 },
 "nbformat": 4,
 "nbformat_minor": 4
}
