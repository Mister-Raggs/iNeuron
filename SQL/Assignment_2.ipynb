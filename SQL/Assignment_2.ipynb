{
 "cells": [
  {
   "cell_type": "raw",
   "metadata": {},
   "source": [
    "1) SELECT LEFT(FIRST_NAME,3) FROM WORKER"
   ]
  },
  {
   "cell_type": "raw",
   "metadata": {},
   "source": [
    "2) SELECT CHARINDEX('a', 'Amitabh')\n",
    "    FROM cus_table"
   ]
  },
  {
   "cell_type": "raw",
   "metadata": {},
   "source": [
    "3) SELECT FIRST_NAME,DEPARTMENT, MAX(SALARY)\n",
    "    FROM WORKER\n",
    "    GROUP BY FIRST_NAME,DEPARTMENT"
   ]
  },
  {
   "cell_type": "code",
   "execution_count": null,
   "metadata": {},
   "outputs": [],
   "source": []
  }
 ],
 "metadata": {
  "kernelspec": {
   "display_name": "Python 3",
   "language": "python",
   "name": "python3"
  },
  "language_info": {
   "codemirror_mode": {
    "name": "ipython",
    "version": 3
   },
   "file_extension": ".py",
   "mimetype": "text/x-python",
   "name": "python",
   "nbconvert_exporter": "python",
   "pygments_lexer": "ipython3",
   "version": "3.8.5"
  }
 },
 "nbformat": 4,
 "nbformat_minor": 4
}
