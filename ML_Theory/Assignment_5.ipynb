{
 "cells": [
  {
   "cell_type": "raw",
   "id": "2072a6b3",
   "metadata": {},
   "source": [
    "ques 1) Data preprocessing in Machine Learning refers to the technique of preparing (cleaning and organizing) the raw data to make it suitable for a building and training Machine Learning models."
   ]
  },
  {
   "cell_type": "raw",
   "id": "cf0a6f4c",
   "metadata": {},
   "source": [
    "ques 2) Quantitative data is anything that can be counted or measured; it refers to numerical data. Qualitative data is descriptive, referring to things that can be observed but not measured—such as colors or emotions"
   ]
  },
  {
   "cell_type": "raw",
   "id": "48d136e3",
   "metadata": {},
   "source": [
    "ques 4) 1) Understanding Which Processes Need Automation.\n",
    "2) Lack of Quality Data.\n",
    "3) Inadequate Infrastructure.\n",
    "4) Implementation.\n",
    "5) Lack of Skilled Resources."
   ]
  },
  {
   "cell_type": "raw",
   "id": "3fc12618",
   "metadata": {},
   "source": [
    "ques 5) Data exploration is the first step of data analysis used to explore and visualize data to uncover insights from the start or identify areas or patterns to dig into more. Using interactive dashboards and point-and-click data exploration, users can better understand the bigger picture and get to insights faster"
   ]
  },
  {
   "cell_type": "raw",
   "id": "8d892a67",
   "metadata": {},
   "source": [
    "ques 6) Missing data present various problems. First, the absence of data reduces statistical power, which refers to the probability that the test will reject the null hypothesis when it is false. Second, the lost data can cause bias in the estimation of parameters. Third, it can reduce the representativeness of the samples."
   ]
  },
  {
   "cell_type": "raw",
   "id": "867e767c",
   "metadata": {},
   "source": [
    "ques 7) The imputation method develops reasonable guesses for missing data. It’s most useful when the percentage of missing data is low. If the portion of missing data is too high, the results lack natural variation that could result in an effective model.\n",
    "\n",
    "The other option is to remove data. When dealing with data that is missing at random, related data can be deleted to reduce bias. Removing data may not be the best option if there are not enough observations to result in a reliable analysis. In some situations, observation of specific events or factors may be required."
   ]
  },
  {
   "cell_type": "raw",
   "id": "01cc7491",
   "metadata": {},
   "source": [
    "ques 8) Data Cleaning/Cleansing. Cleaning “dirty” data. Real-world data tend to be incomplete, noisy, and inconsistent. ...\n",
    "Data Integration. Combining data from multiple sources.\n",
    "Data Transformation. Constructing data cube.\n",
    "Data Reduction. Reducing representation of data set."
   ]
  },
  {
   "cell_type": "code",
   "execution_count": null,
   "id": "67151c00",
   "metadata": {},
   "outputs": [],
   "source": [
    "ques 9) The interquartile range is calculated in much the same way as the range. All you do to find it is subtract the first quartile from the third quartile: IQR = Q3 – Q1. The interquartile range shows how the data is spread about the median.\n",
    "    \n",
    "    "
   ]
  }
 ],
 "metadata": {
  "kernelspec": {
   "display_name": "Python 3 (ipykernel)",
   "language": "python",
   "name": "python3"
  },
  "language_info": {
   "codemirror_mode": {
    "name": "ipython",
    "version": 3
   },
   "file_extension": ".py",
   "mimetype": "text/x-python",
   "name": "python",
   "nbconvert_exporter": "python",
   "pygments_lexer": "ipython3",
   "version": "3.8.0"
  }
 },
 "nbformat": 4,
 "nbformat_minor": 5
}
