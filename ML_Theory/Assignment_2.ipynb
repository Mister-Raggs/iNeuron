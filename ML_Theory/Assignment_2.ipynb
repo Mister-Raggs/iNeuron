{
 "cells": [
  {
   "cell_type": "raw",
   "metadata": {},
   "source": [
    "ques 1)\n",
    "It is the form of learning which requires higher order mental processes like thinking, reasoning, intelligence, etc. We learn things from our childhood. For example when we see a cat we assign it a term cat, When we birds we assign the word birds."
   ]
  },
  {
   "cell_type": "raw",
   "metadata": {},
   "source": [
    "ques 2)\n",
    "The three major types of learning described by behavioral psychology are classical conditioning, operant conditioning, and observational learning. Yes classical conditioning can behave like supervised learning of ML as the human is directed to learn that this particular object belongs to this category.(Just like in supervised learning)."
   ]
  },
  {
   "cell_type": "raw",
   "metadata": {},
   "source": [
    "ques 3)\n",
    "Machine learning is a type of artificial intelligence that allows software applications to become more accurate at predicting outcomes without being explicitly programmed to do so. Machine learning is important because it gives enterprises a view of trends in customer behavior and business operational patterns, as well as supports the development of new products and many more. It is part of our day to day life."
   ]
  },
  {
   "cell_type": "raw",
   "metadata": {},
   "source": [
    "ques 4)\n",
    "In Reinforcement Learning, agents are trained on a reward and punishment mechanism. The agent is rewarded for correct moves and punished for the wrong ones. In doing so, the agent tries to minimize wrong moves and maximize the right ones."
   ]
  },
  {
   "cell_type": "raw",
   "metadata": {},
   "source": [
    "ques 5)\n",
    "Concept learning can be viewed as the task of searching through a large space of hypothesis implicitly defined by the hypothesis representation. The goal of the concept learning search is to find the hypothesis that best fits the training examples."
   ]
  },
  {
   "cell_type": "raw",
   "metadata": {},
   "source": [
    "ques 6)\n",
    "The purpose of machine learning is to discover patterns in your data and then make predictions based on often complex patterns to answer business questions, detect and analyse trends and help solve problems. Even humans learn complex things with thehelp of pattern."
   ]
  },
  {
   "cell_type": "raw",
   "metadata": {},
   "source": [
    "ques 7)\n",
    "Machine learning can also be used in the prediction systems. Considering the loan example, to compute the probability of a fault, the system will need to classify the available data in groups. It is defined by a set of rules prescribed by the analysts. Once the classification is done, we can calculate the probability of the fault. These computations can compute across all the sectors for varied purposes. Making predictions is one of the best machine learning applications."
   ]
  },
  {
   "cell_type": "raw",
   "metadata": {},
   "source": [
    "#ques 8)\n",
    "from abc import ABC, abstractmethod\n",
    "class Animal(ABC):\n",
    " \n",
    "    def move(self):\n",
    "        pass\n",
    "class Human(Animal):\n",
    " \n",
    "    def move(self):\n",
    "        print(\"I can walk and run\")\n",
    "class Snake(Animal):\n",
    " \n",
    "    def move(self):\n",
    "        print(\"I can crawl\")\n",
    " \n",
    "\n",
    "         \n",
    "# Driver code\n",
    "R = Human()\n",
    "R.move()\n",
    " \n",
    "K = Snake()\n",
    "K.move()\n"
   ]
  },
  {
   "cell_type": "raw",
   "metadata": {},
   "source": [
    "ques 9)\n",
    "In machine learning, generalization is a definition to demonstrate how well is a trained model to classify or forecast unseen data. Training a generalized machine learning model means, in general, it works for all subset of unseen data. "
   ]
  },
  {
   "cell_type": "raw",
   "metadata": {},
   "source": [
    "ques 10)\n",
    "Classification is the task of predicting a discrete class label. Regression is the task of predicting a continuous quantity."
   ]
  },
  {
   "cell_type": "raw",
   "metadata": {},
   "source": [
    "ques 11)\n",
    "Regression analysis is a powerful statistical method that allows you to examine the relationship between two or more variables of interest.\n",
    "A simple linear regression real life example could mean you finding a relationship between the revenue and temperature, with a sample size for revenue as the dependent variable."
   ]
  },
  {
   "cell_type": "raw",
   "metadata": {},
   "source": [
    "ques 12)\n",
    "Clustering is the task of dividing the population or data points into a number of groups such that data points in the same groups are more similar to other data points in the same group than those in other groups."
   ]
  },
  {
   "cell_type": "raw",
   "metadata": {},
   "source": [
    "ques 13)\n",
    "ii) Supervised learning, as the name indicates, has the presence of a supervisor as a teacher. Basically supervised learning is when we teach or train the machine using data that is well labeled. Which means some data is already tagged with the correct answer. After that, the machine is provided with a new set of examples(data) so that the supervised learning algorithm analyses the training data(set of training examples) and produces a correct outcome from labeled data.\n",
    "iii) Unsupervised learning is the training of a machine using information that is neither classified nor labeled and allowing the algorithm to act on that information without guidance. Here the task of the machine is to group unsorted information according to similarities, patterns, and differences without any prior training of data. \n",
    "\n",
    "Unlike supervised learning, no teacher is provided that means no training will be given to the machine. Therefore the machine is restricted to find the hidden structure in unlabeled data by itself. "
   ]
  },
  {
   "cell_type": "code",
   "execution_count": null,
   "metadata": {},
   "outputs": [],
   "source": []
  }
 ],
 "metadata": {
  "kernelspec": {
   "display_name": "Python 3",
   "language": "python",
   "name": "python3"
  },
  "language_info": {
   "codemirror_mode": {
    "name": "ipython",
    "version": 3
   },
   "file_extension": ".py",
   "mimetype": "text/x-python",
   "name": "python",
   "nbconvert_exporter": "python",
   "pygments_lexer": "ipython3",
   "version": "3.8.5"
  }
 },
 "nbformat": 4,
 "nbformat_minor": 4
}
