{
 "cells": [
  {
   "cell_type": "raw",
   "metadata": {},
   "source": [
    "ques1) Prior probability shows the likelihood of an outcome in a given dataset. For example, in the mortgage case, P(Y) is the default rate on a home mortgage, which is 2%. P(Y|X) is called the conditional probability, which provides the probability of an outcome given the evidence, that is, when the value of X is known."
   ]
  },
  {
   "cell_type": "raw",
   "metadata": {},
   "source": [
    "ques2) In Bayesian statistics, the posterior probability of a random event or an uncertain proposition is the conditional probability given the relevant evidence or background. \"Posterior\", in this context, means after taking into account the relevant evidence related to the particular case being examined."
   ]
  },
  {
   "cell_type": "raw",
   "metadata": {},
   "source": [
    "ques3) Probability is about a finite set of possible outcomes, given a probability. Likelihood is about an infinite set of possible probabilities, given an outcome"
   ]
  },
  {
   "cell_type": "raw",
   "metadata": {},
   "source": [
    "ques4) Naive Bayes is a simple and powerful algorithm for predictive modeling.Naive Bayes is called naive because it assumes that each input variable is independent. This is a strong assumption and unrealistic for real data; however, the technique is very effective on a large range of complex problems."
   ]
  },
  {
   "cell_type": "raw",
   "metadata": {},
   "source": [
    "ques5)The Bayes Optimal Classifier is a probabilistic model that makes the most probable prediction for a new example.Bayes Optimal Classifier is a probabilistic model that finds the most probable prediction using the training data and space of hypotheses to make a prediction for a new data instance. "
   ]
  },
  {
   "cell_type": "raw",
   "metadata": {},
   "source": [
    "ques6) 1.Training examples have an incremental effect on estimated probabilities of hypothesis correctness.\n",
    "2 .Prior knowledge and observed data combined to determine probabilities of hypotheses.\n",
    "3. Hypotheses can make probabilistic predictions."
   ]
  },
  {
   "cell_type": "raw",
   "metadata": {},
   "source": [
    "ques7) Consistent Learners. • A learner L using a hypothesis H and training data D is said to be a consistent learner if it always outputs a hypothesis with zero error on D whenever H contains such a hypothesis. • By definition, a consistent learner must produce a hypothesis in the version space for H given D."
   ]
  },
  {
   "cell_type": "raw",
   "metadata": {},
   "source": [
    "ques8) It is simple and easy to implement. It doesn't require as much training data. It handles both continuous and discrete data. It is highly scalable with the number of predictors and data points."
   ]
  },
  {
   "cell_type": "raw",
   "metadata": {},
   "source": [
    "ques9) Naive Bayes assumes that all predictors (or features) are independent, rarely happening in real life.\n",
    "This algorithm faces the 'zero-frequency problem' where it assigns zero probability to a categorical variable whose category in the test data set wasn't available in the training dataset."
   ]
  },
  {
   "cell_type": "raw",
   "metadata": {},
   "source": [
    "ques10) Naive Bayes is a learning algorithm commonly applied to text classification. Some of the applications of the Naive Bayes classifier are: (Automatic) Classification of emails in folders, so incoming email messages go into folders such as: “Family”, “Friends”, “Updates”, “Promotions”, etc.\n",
    "Naive Bayes classifiers are a popular statistical technique of e-mail filtering. ... Naive Bayes classifiers work by correlating the use of tokens (typically words, or sometimes other things), with spam and non-spam e-mails and then using Bayes' theorem to calculate a probability that an email is or is not spam.\n"
   ]
  }
 ],
 "metadata": {
  "kernelspec": {
   "display_name": "Python 3",
   "language": "python",
   "name": "python3"
  },
  "language_info": {
   "codemirror_mode": {
    "name": "ipython",
    "version": 3
   },
   "file_extension": ".py",
   "mimetype": "text/x-python",
   "name": "python",
   "nbconvert_exporter": "python",
   "pygments_lexer": "ipython3",
   "version": "3.8.5"
  }
 },
 "nbformat": 4,
 "nbformat_minor": 4
}
