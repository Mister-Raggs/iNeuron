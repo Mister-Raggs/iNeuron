{
 "cells": [
  {
   "cell_type": "raw",
   "metadata": {},
   "source": [
    "ques 1)\n",
    "Machine learning is an application of artificial intelligence (AI) that provides systems the ability to automatically learn and improve from experience without being explicitly programmed. Two applications in bussiness of ML are Chatbots Systems and Customer segmentation.\n",
    "AI presents three major areas of ethical concern for society: privacy and surveillance, bias and discrimination."
   ]
  },
  {
   "cell_type": "raw",
   "metadata": {},
   "source": [
    "ques3) Advertisement Popularity, Spam Classification, Recommender Systems"
   ]
  },
  {
   "cell_type": "raw",
   "metadata": {},
   "source": [
    "ques 4)\n",
    "These are three types of machine learning: supervised learning, unsupervised learning, and reinforcement learning."
   ]
  },
  {
   "cell_type": "raw",
   "metadata": {},
   "source": [
    "ques 5)\n",
    "Well Posed Learning Problem – A computer program is said to learn from experience E in context to some task T and some performance measure P, if its performance on T, as was measured by P, upgrades with experience E. \n",
    "Main features are Tasks, Features, Experience."
   ]
  },
  {
   "cell_type": "raw",
   "metadata": {},
   "source": [
    "ques 6)\n",
    "No ML cannot solve all problems as there are several limitations to ML models.\n",
    "Some of the limitations are - Ethics, Data, Misapplication, Deterministic Problems, Interpretability."
   ]
  },
  {
   "cell_type": "raw",
   "metadata": {},
   "source": [
    "ques 7)\n",
    "Machine learning uses two types of techniques: supervised learning, which trains a model on known input and output data so that it can predict future outputs, and unsupervised learning, which finds hidden patterns or intrinsic structures in input data"
   ]
  },
  {
   "cell_type": "raw",
   "metadata": {},
   "source": [
    "ques 8)\n",
    "Different types of supervised learning are Regression, Classification. \n",
    "In regression, a single output value is produced using training data. This value is a probabilistic interpretation, which is ascertained after considering the strength of correlation among the input variables. For example, regression can help predict the price of a house based on its locality, size, etc. "
   ]
  },
  {
   "cell_type": "raw",
   "metadata": {},
   "source": [
    "ques 9) Supervised machine learning builds a model that makes predictions based on evidence in the presence of uncertainty. A supervised learning algorithm takes a known set of input data and known responses to the data (output) and trains a model to generate reasonable predictions for the response to new data. Use supervised learning if you have known data for the output you are trying to predict.\n",
    "\n",
    "Unsupervised learning finds hidden patterns or intrinsic structures in data. It is used to draw inferences from datasets consisting of input data without labeled responses."
   ]
  },
  {
   "cell_type": "raw",
   "metadata": {},
   "source": [
    "ques 10) Deep learning is assisting medical professionals and researchers to discover the hidden opportunities in data and to serve the healthcare industry better. Deep learning in healthcare provides doctors the analysis of any disease accurately and helps them treat them better, thus resulting in better medical decisions.\n",
    "\n",
    "In regression, a single output value is produced using training data. This value is a probabilistic interpretation, which is ascertained after considering the strength of correlation among the input variables. For example, regression can help predict the price of a house based on its locality, size, etc. "
   ]
  },
  {
   "cell_type": "raw",
   "metadata": {},
   "source": [
    "ques 11) It involves grouping the data into classes.  If you are thinking of extending credit to a person, you can use classification to determine whether or not a person would be a loan defaulter. When the supervised learning algorithm labels input data into two distinct classes, it is called binary classification. Multiple classifications means categorizing data into more than two classes.\n",
    "\n",
    "In regression, a single output value is produced using training data. This value is a probabilistic interpretation, which is ascertained after considering the strength of correlation among the input variables. For example, regression can help predict the price of a house based on its locality, size, etc."
   ]
  },
  {
   "cell_type": "code",
   "execution_count": null,
   "metadata": {},
   "outputs": [],
   "source": []
  }
 ],
 "metadata": {
  "kernelspec": {
   "display_name": "Python 3 (ipykernel)",
   "language": "python",
   "name": "python3"
  },
  "language_info": {
   "codemirror_mode": {
    "name": "ipython",
    "version": 3
   },
   "file_extension": ".py",
   "mimetype": "text/x-python",
   "name": "python",
   "nbconvert_exporter": "python",
   "pygments_lexer": "ipython3",
   "version": "3.8.0"
  }
 },
 "nbformat": 4,
 "nbformat_minor": 4
}
