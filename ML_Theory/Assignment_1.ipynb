{
 "cells": [
  {
   "cell_type": "raw",
   "metadata": {},
   "source": [
    "#ques 1\n",
    "Machine Learning can be defined as the capability of the machine to automatically learn and improve from experience without being explicitly programmed. The machine takes the input data to learn the patterns and form sorts of relationship to establish a connection. "
   ]
  },
  {
   "cell_type": "raw",
   "metadata": {},
   "source": [
    "#ques2\n",
    "Machine Learning shines in multiple fields like Medical Diagnosis, Internet Search Engines, Anomaly Detection etc"
   ]
  },
  {
   "cell_type": "raw",
   "metadata": {},
   "source": [
    "#ques 3\n",
    "A labelled training set is the dataset where the output or the dependent variable is given. The algorithms learns the pattern of how each independent variable is affection the output variable and later when the data is provided of independent variables then from the past learnings the algorithm is able to provide the best suitable answer of the output variable.\n"
   ]
  },
  {
   "cell_type": "raw",
   "metadata": {},
   "source": [
    "#ques 4\n",
    "THe two most important task of supervised are Regression and Classification."
   ]
  },
  {
   "cell_type": "raw",
   "metadata": {},
   "source": [
    "#ques 5\n",
    "Four tasks of unsupervised are Clustering, Visualization, Dimensionality Reduction, Association Rule Learning "
   ]
  },
  {
   "cell_type": "raw",
   "metadata": {},
   "source": [
    "#ques 6\n",
    "Supervised Models or Reinforcement Learning"
   ]
  },
  {
   "cell_type": "raw",
   "metadata": {},
   "source": [
    "#ques 7\n",
    "Clustering"
   ]
  },
  {
   "cell_type": "raw",
   "metadata": {},
   "source": [
    "#ques 8\n",
    "Supervised Learning"
   ]
  },
  {
   "cell_type": "raw",
   "metadata": {},
   "source": [
    "#ques 9\n",
    "An online learning system learns from new data on-the-fly. As a result, the system is trained incrementally either by using one example at a time or using a mini-batch approach. This keeps each learning step cheap and memory efficient."
   ]
  },
  {
   "cell_type": "raw",
   "metadata": {},
   "source": [
    "#ques 10\n",
    "The term out-of-core typically refers to processing data that is too large to fit into a computer’s main memory. "
   ]
  },
  {
   "cell_type": "raw",
   "metadata": {},
   "source": [
    "#ques 11\n",
    "Clustering"
   ]
  },
  {
   "cell_type": "raw",
   "metadata": {},
   "source": [
    "#ques 12\n",
    "Model Parameters are set automatically from the dataset but model hyperparameters are something which needs to me set manually and also tuned to get better results."
   ]
  },
  {
   "cell_type": "raw",
   "metadata": {},
   "source": [
    "#ques 13\n",
    "The goal for a model-based algorithm is to be able to generalize to new examples. To do this, model based algorithms search for optimal values for the model's parameters, often called theta. This searching, or \"learning\", is what machine learning is all about. Model-based system learn by minimizing a cost function that measures how bad the system is at making predicitons on new data, plus a penalty for model complexity if the model is regularized. To make a prediction, a new instance's features are fed into a hypothesis function which uses the minimized theta found by repeatedly running the cost function."
   ]
  },
  {
   "cell_type": "raw",
   "metadata": {},
   "source": [
    "#ques 14\n",
    "1)Not gathering enough data, or sampling noise. Sampling noise means we'll have non-representative data as a result of chance.\n",
    "2) Your dataset is full of missing values, outliers, and noise (poor measurments). The features in your dataset are irrelevant. Garbage in, garbage out.\n",
    "3) When your model performs well on the training data, but not on test data, you've over fit your model. Models that suffer from overfitting do not generalize well to new examples. Overfitting happens when the model is too complex relative to the amount and noisiness of the data.\n",
    "4) When your model is too simple to learn the underlying structure of the data you've underfit your model."
   ]
  },
  {
   "cell_type": "raw",
   "metadata": {},
   "source": [
    "#ques 15\n",
    "This is because of overfitting. 3 solutions are : 1) Reduce the feature variables. 2) gather more data. 3) Remove outliers and noise from the data"
   ]
  },
  {
   "cell_type": "raw",
   "metadata": {},
   "source": [
    "#ques 16\n",
    "We build the model on our training set. And when we are satisfied with our model we can test our model against the testing set to check the generalization error. This error tells us how well our model performs on examples it has never seen before."
   ]
  },
  {
   "cell_type": "raw",
   "metadata": {},
   "source": [
    "#ques 17\n",
    "Validation set actually can be regarded as a part of training set, because it is used to build your model, neural networks or others. It is usually used for parameter selection and to avoild overfitting. Validation set is used for tuning the parameters of a model. Test set is used for performance evaluation."
   ]
  },
  {
   "cell_type": "raw",
   "metadata": {},
   "source": [
    "#ques 18\n",
    "The goal of dev-set is to rank the models in term of their accuracy and helps us decide which model to proceed further with. Using Dev set we rank all our models in terms of their accuracy and pick the best performing model."
   ]
  },
  {
   "cell_type": "raw",
   "metadata": {},
   "source": [
    "#ques 19\n",
    "Your model will not be generalizable to new examples."
   ]
  },
  {
   "cell_type": "raw",
   "metadata": {},
   "source": []
  }
 ],
 "metadata": {
  "kernelspec": {
   "display_name": "Python 3",
   "language": "python",
   "name": "python3"
  },
  "language_info": {
   "codemirror_mode": {
    "name": "ipython",
    "version": 3
   },
   "file_extension": ".py",
   "mimetype": "text/x-python",
   "name": "python",
   "nbconvert_exporter": "python",
   "pygments_lexer": "ipython3",
   "version": "3.8.5"
  }
 },
 "nbformat": 4,
 "nbformat_minor": 4
}
