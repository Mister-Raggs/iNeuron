{
 "cells": [
  {
   "cell_type": "raw",
   "id": "507c0c5f",
   "metadata": {},
   "source": [
    "ques 1) 1 - Data Collection.\n",
    "2 - Data Preparation.\n",
    "3 - Choose a Model.\n",
    "4 - Train the Model.\n",
    "5 - Evaluate the Model.\n",
    "6 - Parameter Tuning.\n",
    "7 - Make Predictions."
   ]
  },
  {
   "cell_type": "raw",
   "id": "896e39cf",
   "metadata": {},
   "source": [
    "ques 2) Most data can be categorized into 4 basic types from a Machine Learning perspective: numerical data, categorical data, time-series data, and text."
   ]
  },
  {
   "cell_type": "raw",
   "id": "7c1b06b6",
   "metadata": {},
   "source": [
    "ques 3) Categorical data refers to a data type that can be stored and identified based on the names or labels given to them. Numerical data refers to the data that is in the form of numbers, and not in any language or descriptive form. Also known as qualitative data as it qualifies data before classifying it.\n",
    "\n",
    "While both methods are used for reducing the number of features in a dataset, there is an important difference. Feature selection is simply selecting and excluding given features without changing them. Dimensionality reduction transforms features into a lower dimension."
   ]
  },
  {
   "cell_type": "raw",
   "id": "a0ae855c",
   "metadata": {},
   "source": [
    "ques 4) A scatter plot (also called a scatterplot, scatter graph, scatter chart, scattergram, or scatter diagram) is a type of plot or mathematical diagram using Cartesian coordinates to display values for typically two variables for a set of\n",
    "data.\n",
    "\n",
    "Principal component analysis (PCA) is a technique for reducing the dimensionality of such datasets, increasing interpretability but at the same time minimizing information loss. It does so by creating new uncorrelated variables that successively maximize variance."
   ]
  },
  {
   "cell_type": "raw",
   "id": "38d9222c",
   "metadata": {},
   "source": [
    "ques 5) Quantitative research methods are designed to collect numerical data that can be used to measure variables.  Quantitative data is structured and statistical; its results are objective and conclusive. It uses a grounded theory method that relies on data collection that is systematically analyzed. Quantitative research is a methodology that provides support when you need to draw general conclusions from your research and predict outcomes.\n",
    "\n",
    "Qualitative research is a methodology designed to collect non-numerical data to gain insights. It is non-statistical and unstructured or semi-structured. It relies on data collected based on a research design that answers the question “why.”"
   ]
  },
  {
   "cell_type": "raw",
   "id": "b154aef4",
   "metadata": {},
   "source": [
    "ques 6) A histogram is a chart that plots the distribution of a numeric variable's values as a series of bars. Each bar typically covers a range of numeric values called a bin or class; a bar's height indicates the frequency of data points with a value within the corresponding bin"
   ]
  },
  {
   "cell_type": "raw",
   "id": "46f854d4",
   "metadata": {},
   "source": [
    "ques 7) If our dataset is small, we can detect the outlier by just looking at the dataset. But what if we have a huge dataset, how do we identify the outliers then? We need to use visualization and mathematical techniques.\n",
    "\n",
    "Below are some of the techniques of detecting outliers\n",
    "\n",
    "Boxplots\n",
    "Z-score\n",
    "Inter Quantile Range(IQR)"
   ]
  },
  {
   "cell_type": "raw",
   "id": "cabef4a8",
   "metadata": {},
   "source": [
    "ques 8) There are three main measures of central tendency: the mode, the median and the mean. Each of these measures describes a different indication of the typical or central value in the distribution\n",
    "    \n",
    "No matter what value we add to the set, the mean, median, and mode will shift by that amount but the range and the IQR will remain the same. The same will be true if we subtract an amount from every data point in the set: the mean, median, and mode will shift to the left but the range and IQR will stay the same."
   ]
  },
  {
   "cell_type": "code",
   "execution_count": null,
   "id": "af9a3994",
   "metadata": {},
   "outputs": [],
   "source": [
    "ques 9) "
   ]
  }
 ],
 "metadata": {
  "kernelspec": {
   "display_name": "Python 3 (ipykernel)",
   "language": "python",
   "name": "python3"
  },
  "language_info": {
   "codemirror_mode": {
    "name": "ipython",
    "version": 3
   },
   "file_extension": ".py",
   "mimetype": "text/x-python",
   "name": "python",
   "nbconvert_exporter": "python",
   "pygments_lexer": "ipython3",
   "version": "3.8.0"
  }
 },
 "nbformat": 4,
 "nbformat_minor": 5
}
