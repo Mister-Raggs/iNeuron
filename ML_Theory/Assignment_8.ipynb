{
 "cells": [
  {
   "cell_type": "raw",
   "metadata": {},
   "source": [
    "ques1) In machine learning and pattern recognition, a feature is an individual measurable property or characteristic of a phenomenon."
   ]
  },
  {
   "cell_type": "raw",
   "metadata": {},
   "source": [
    "ques 2) Feature construction involves transforming a given set of input features to generate a new set of more power- ful features which are then used for prediction. This may be done either to compress the dataset by reducing the number of features or to improve the prediction performance"
   ]
  },
  {
   "cell_type": "raw",
   "metadata": {},
   "source": [
    "ques3) A column with nominal data has values that cannot be ordered in any meaningful way. Nominal data is most often one-hot (aka dummy) encoded, but there are many options that might perform better for machine learning. Rank. In contrast, ordinal data can be rank ordered."
   ]
  },
  {
   "cell_type": "code",
   "execution_count": 1,
   "metadata": {},
   "outputs": [
    {
     "ename": "SyntaxError",
     "evalue": "unmatched ')' (<ipython-input-1-0cd78450f4a2>, line 1)",
     "output_type": "error",
     "traceback": [
      "\u001b[1;36m  File \u001b[1;32m\"<ipython-input-1-0cd78450f4a2>\"\u001b[1;36m, line \u001b[1;32m1\u001b[0m\n\u001b[1;33m    ques4)\u001b[0m\n\u001b[1;37m         ^\u001b[0m\n\u001b[1;31mSyntaxError\u001b[0m\u001b[1;31m:\u001b[0m unmatched ')'\n"
     ]
    }
   ],
   "source": [
    "ques4) "
   ]
  },
  {
   "cell_type": "raw",
   "metadata": {},
   "source": [
    "ques5) In wrapper methods, the feature selection process is based on a specific machine learning algorithm that we are trying to fit on a given dataset.Finally, it selects the combination of features that gives the optimal results for the specified machine learning algorithm."
   ]
  },
  {
   "cell_type": "raw",
   "metadata": {},
   "source": [
    "ques6) Strong relevance implies that the feature is indispensable in the sense that it cannot be removed without loss of prediction accuracy. are irrelevant otherwise. Irrelevant features can never contribute to prediction accuracy"
   ]
  },
  {
   "cell_type": "raw",
   "metadata": {},
   "source": [
    "ques7) if two features {X1, X2} are highly correlated, then the two features become redundant features since they have same information in terms of correlation measure. In other words, the correlation measure provides statistical association between any given a pair of features."
   ]
  },
  {
   "cell_type": "raw",
   "metadata": {},
   "source": [
    "ques8) The Jaccard distance measures the similarity of the two data set items as the intersection of those items divided by the union of the data items. When p = 2, Minkowski distance is same as the Euclidean distance. When p = 1, Minkowski distance is same as the Manhattan distance"
   ]
  },
  {
   "cell_type": "raw",
   "metadata": {},
   "source": [
    "ques9) Euclidean distance is the shortest path between source and destination which is a straight line but Manhattan distance is sum of all the real distances between source(s) and destination(d) and each distance are always the straight lines"
   ]
  },
  {
   "cell_type": "raw",
   "metadata": {},
   "source": [
    "ques10) Feature extraction creates a new, smaller set of features that captures most of the useful information in the data. The main difference between them is Feature selection keeps a subset of the original features while feature extraction creates new ones."
   ]
  },
  {
   "cell_type": "code",
   "execution_count": null,
   "metadata": {},
   "outputs": [],
   "source": [
    "q"
   ]
  }
 ],
 "metadata": {
  "kernelspec": {
   "display_name": "Python 3",
   "language": "python",
   "name": "python3"
  },
  "language_info": {
   "codemirror_mode": {
    "name": "ipython",
    "version": 3
   },
   "file_extension": ".py",
   "mimetype": "text/x-python",
   "name": "python",
   "nbconvert_exporter": "python",
   "pygments_lexer": "ipython3",
   "version": "3.8.5"
  }
 },
 "nbformat": 4,
 "nbformat_minor": 4
}
