{
 "cells": [
  {
   "cell_type": "raw",
   "metadata": {},
   "source": [
    "ques1) Bayesian probability is an interpretation of the concept of probability, in which, instead of frequency or propensity of some phenomenon, probability is interpreted as reasonable expectation representing a state of knowledge or as quantification of a personal belief."
   ]
  },
  {
   "cell_type": "raw",
   "metadata": {},
   "source": [
    "ques2) The probability of the union of two events E and F equals the sum of the probability of E and the probability of F minus the probability of E and F occurring together."
   ]
  },
  {
   "cell_type": "raw",
   "metadata": {},
   "source": [
    "ques3) Probabilities are combined using multiplication, therefore the joint probability of independent events is calculated as the probability of event A multiplied by the probability of event B. This can be stated formally as follows: Joint Probability: P(A and B) = P(A) * P(B)"
   ]
  },
  {
   "cell_type": "raw",
   "metadata": {},
   "source": [
    "ques4) In probability theory, the chain rule permits the calculation of any member of the joint distribution of a set of random variables using only conditional probabilities. The rule is useful in the study of Bayesian networks, which describe a probability distribution in terms of conditional probabilities."
   ]
  },
  {
   "cell_type": "raw",
   "metadata": {},
   "source": [
    "ques5) Conditional probability: p(A|B) is the probability of event A occurring, given that event B occurs.It is the probability of the intersection of two or more events. The probability of the intersection of A and B may be written p(A ∩ B)."
   ]
  },
  {
   "cell_type": "raw",
   "metadata": {},
   "source": [
    "quess6) A continuous random variable is one which takes an infinite number of possible values. Continuous random variables are usually measurements. Examples include height, weight, the amount of sugar in an orange, the time required to run a mile."
   ]
  },
  {
   "cell_type": "raw",
   "metadata": {},
   "source": [
    "ques7) In probability theory and statistics, the Bernoulli distributionis the discrete probability distribution of a random variable which takes the value 1 with probability p and the value 0 with probability q."
   ]
  },
  {
   "cell_type": "raw",
   "metadata": {},
   "source": [
    "ques8) Binomial distribution can be thought of as simply the probability of a SUCCESS or FAILURE outcome in an experiment or survey that is repeated multiple times. The binomial is a type of distribution that has two possible outcomes (the prefix “bi” means two, or twice). For example, a coin toss has only two possible outcomes: heads or tails and taking a test could have two possible outcomes: pass or fail."
   ]
  },
  {
   "cell_type": "raw",
   "metadata": {},
   "source": [
    "ques9) The Poisson distribution is a discrete distribution that measures the probability of a given number of events happening in a specified time period. "
   ]
  },
  {
   "cell_type": "raw",
   "metadata": {},
   "source": [
    "ques10) In probability theory and statistics, covariance is a measure of the joint variability of two random variables. If the greater values of one variable mainly correspond with the greater values of the other variable, and the same holds for the lesser values, the covariance is positive."
   ]
  },
  {
   "cell_type": "raw",
   "metadata": {},
   "source": [
    "ques11) In statistics, correlation or dependence is any statistical relationship, whether causal or not, between two random variables or bivariate data. In the broadest sense correlation is any statistical association, though it actually refers to the degree to which a pair of variables are linearly related."
   ]
  },
  {
   "cell_type": "raw",
   "metadata": {},
   "source": [
    "ques12) Sampling with replacement is used to find probability with replacement. In other words, you want to find the probability of some event where there's a number of balls, cards or other objects, and you replace the item each time you choose one."
   ]
  },
  {
   "cell_type": "raw",
   "metadata": {},
   "source": [
    "ques13) In sampling without replacement, each sample unit of the population has only one chance to be selected in the sample. For example, if one draws a simple random sample such that no unit occurs more than one time in the sample, the sample is drawn without replacement. "
   ]
  },
  {
   "cell_type": "raw",
   "metadata": {},
   "source": [
    "ques14) A hypothesis has classical been referred to as an educated guess. For example, someone might say, \"I have a theory about why John won't go out to play football with Billy.\" Since there is no data to support this explanation, this is actually a hypothesis."
   ]
  },
  {
   "cell_type": "code",
   "execution_count": null,
   "metadata": {},
   "outputs": [],
   "source": []
  }
 ],
 "metadata": {
  "kernelspec": {
   "display_name": "Python 3",
   "language": "python",
   "name": "python3"
  },
  "language_info": {
   "codemirror_mode": {
    "name": "ipython",
    "version": 3
   },
   "file_extension": ".py",
   "mimetype": "text/x-python",
   "name": "python",
   "nbconvert_exporter": "python",
   "pygments_lexer": "ipython3",
   "version": "3.8.5"
  }
 },
 "nbformat": 4,
 "nbformat_minor": 4
}
