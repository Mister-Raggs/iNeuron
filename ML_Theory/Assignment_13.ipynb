{
 "cells": [
  {
   "cell_type": "raw",
   "metadata": {},
   "source": [
    "ques1) Prior - in the mortgage case, P(Y) is the default rate on a home mortgage, which is 2%. P(Y|X) is called the conditional probability, which provides the probability of an outcome given the evidence, that is, when the value of X is known.in the mortgage case, P(Y) is the default rate on a home mortgage, which is 2%. P(Y|X) is called the conditional probability, which provides the probability of an outcome given the evidence, that is, when the value of X is known.\n",
    "Posterior -  historical data suggests that around 60% of students who start college will graduate within 6 years. This is the prior probability. However, you think that figure is actually much lower, so set out to collect new data. The evidence you collect suggests that the true figure is actually closer to 50%; This is the posterior probability."
   ]
  },
  {
   "cell_type": "raw",
   "metadata": {},
   "source": [
    "ques2) Bayes Theorem is a method to determine conditional probabilities – that is, the probability of one event occurring given that another event has already occurred. ... Thus, conditional probabilities are a must in determining accurate predictions and probabilities in Machine Learning."
   ]
  },
  {
   "cell_type": "raw",
   "metadata": {},
   "source": [
    "ques3) As this algorithm is fast and efficient, you can use it to make real-time predictions.\n",
    "This algorithm is popular for multi-class predictions.\n",
    "Email services (like Gmail) use this algorithm to figure out whether an email is a spam or not."
   ]
  },
  {
   "cell_type": "raw",
   "metadata": {},
   "source": [
    "ques4) Can handle both numeric and categorical data. Naive Bayes is a classifier and will therefore perform better with categorical data. Although numeric data will also suffice, it assumes all numeric data are normally distributed which is unlikely in real world data."
   ]
  },
  {
   "cell_type": "raw",
   "metadata": {},
   "source": [
    "ques5) Bayesian Belief Network is a graphical representation of different probabilistic relationships among random variables in a particular set. It is a classifier with no dependency on attributes i.e it is condition independent."
   ]
  }
 ],
 "metadata": {
  "kernelspec": {
   "display_name": "Python 3",
   "language": "python",
   "name": "python3"
  },
  "language_info": {
   "codemirror_mode": {
    "name": "ipython",
    "version": 3
   },
   "file_extension": ".py",
   "mimetype": "text/x-python",
   "name": "python",
   "nbconvert_exporter": "python",
   "pygments_lexer": "ipython3",
   "version": "3.8.5"
  }
 },
 "nbformat": 4,
 "nbformat_minor": 4
}
