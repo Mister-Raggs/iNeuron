{
 "cells": [
  {
   "cell_type": "code",
   "execution_count": 2,
   "metadata": {},
   "outputs": [
    {
     "name": "stdout",
     "output_type": "stream",
     "text": [
      "1\n",
      "10\n",
      "3\n"
     ]
    },
    {
     "data": {
      "text/plain": [
       "[3, 6, 9]"
      ]
     },
     "execution_count": 2,
     "metadata": {},
     "output_type": "execute_result"
    }
   ],
   "source": [
    "def list_operation(n1,n2,n3):\n",
    "    l=[]\n",
    "    for i in range(n1,n2+1):\n",
    "        if i%n3==0:\n",
    "            l.append(i)\n",
    "        else:\n",
    "            continue\n",
    "    return l\n",
    "n1=int(input(\"\"))\n",
    "n2=int(input(\"\"))\n",
    "n3=int(input(\"\"))\n",
    "list_operation(n1,n2,n3)"
   ]
  },
  {
   "cell_type": "code",
   "execution_count": 13,
   "metadata": {},
   "outputs": [
    {
     "name": "stdout",
     "output_type": "stream",
     "text": [
      "1,2,3,4,5\n",
      "0,1,2,3,4\n"
     ]
    },
    {
     "data": {
      "text/plain": [
       "True"
      ]
     },
     "execution_count": 13,
     "metadata": {},
     "output_type": "execute_result"
    }
   ],
   "source": [
    "def simon_says(n1,n2):\n",
    "    l=[]\n",
    "    u=[]\n",
    "    for i in range(0,len(n1)-1):\n",
    "        l.append(n1[i])\n",
    "    for j in range(1,len(n2)):\n",
    "        u.append(n2[j])\n",
    "    if l==u:\n",
    "        return True\n",
    "    else:\n",
    "        return False\n",
    "n1=input(\"\").split(sep=\",\")        \n",
    "n2=input(\"\").split(sep=\",\")\n",
    "simon_says(n1,n2)"
   ]
  },
  {
   "cell_type": "code",
   "execution_count": 35,
   "metadata": {},
   "outputs": [
    {
     "name": "stdout",
     "output_type": "stream",
     "text": [
      "Phoebe,Chandler,Rachel,Ross,Monica,Joey\n",
      "['Phoebe', 'Chandler', 'Rachel', 'Ross', 'Monica', 'Joey']\n",
      "CJMPRR"
     ]
    }
   ],
   "source": [
    "def society_names(a):\n",
    "    l=[]\n",
    "    print(a)\n",
    "    for i in range(len(a)):\n",
    "            l.append(a[i][0])\n",
    "    l.sort()\n",
    "    for j in l:\n",
    "        print(j,end=\"\")\n",
    "        \n",
    "a=input(\"\").split(sep=\",\")\n",
    "society_names(a)"
   ]
  },
  {
   "cell_type": "code",
   "execution_count": 61,
   "metadata": {},
   "outputs": [
    {
     "data": {
      "text/plain": [
       "['c', 'o', 'n', 's', 'e', 'c', 'u', 't', 'i', 'v', 'e']"
      ]
     },
     "execution_count": 61,
     "metadata": {},
     "output_type": "execute_result"
    }
   ],
   "source": [
    "def is_isogram(a):\n",
    "    l=[]\n",
    "    m=re.search(\"[A-Z]\",a)\n",
    "    if m:\n",
    "        print(\"Not case sensitive\")\n",
    "    else:\n",
    "        for i in a:\n",
    "            l.append(i)\n",
    "            \n",
    "        \n",
    "    return l\n",
    "a=\"consecutive\"          \n",
    "is_isogram(a)"
   ]
  },
  {
   "cell_type": "code",
   "execution_count": null,
   "metadata": {},
   "outputs": [],
   "source": [
    "\n"
   ]
  },
  {
   "cell_type": "code",
   "execution_count": 1,
   "metadata": {},
   "outputs": [
    {
     "name": "stdout",
     "output_type": "stream",
     "text": [
      "xyzz\n"
     ]
    },
    {
     "data": {
      "text/plain": [
       "True"
      ]
     },
     "execution_count": 1,
     "metadata": {},
     "output_type": "execute_result"
    }
   ],
   "source": [
    "def is_in_order(n):\n",
    "    l=[]\n",
    "    l1=l.copy()\n",
    "    for i in n:\n",
    "        l.append(i)\n",
    "        l1.append(i)\n",
    "    l.sort()\n",
    "    if l==l1:\n",
    "        return True\n",
    "    else: return False\n",
    "n=input(\"\")\n",
    "is_in_order(n)"
   ]
  },
  {
   "cell_type": "code",
   "execution_count": null,
   "metadata": {},
   "outputs": [],
   "source": []
  },
  {
   "cell_type": "code",
   "execution_count": null,
   "metadata": {},
   "outputs": [],
   "source": []
  }
 ],
 "metadata": {
  "kernelspec": {
   "display_name": "Python 3",
   "language": "python",
   "name": "python3"
  },
  "language_info": {
   "codemirror_mode": {
    "name": "ipython",
    "version": 3
   },
   "file_extension": ".py",
   "mimetype": "text/x-python",
   "name": "python",
   "nbconvert_exporter": "python",
   "pygments_lexer": "ipython3",
   "version": "3.8.5"
  }
 },
 "nbformat": 4,
 "nbformat_minor": 4
}
