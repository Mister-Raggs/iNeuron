{
 "cells": [
  {
   "cell_type": "code",
   "execution_count": 3,
   "metadata": {},
   "outputs": [
    {
     "name": "stdout",
     "output_type": "stream",
     "text": [
      "A,0,Edabit,1729,1729\n"
     ]
    },
    {
     "data": {
      "text/plain": [
       "[0, 1729, 1729]"
      ]
     },
     "execution_count": 3,
     "metadata": {},
     "output_type": "execute_result"
    }
   ],
   "source": [
    "def filter_list(n):\n",
    "    l=[]\n",
    "    for i in n:\n",
    "        if i.isdigit():\n",
    "            l.append(int(i))\n",
    "        else:continue\n",
    "    return l\n",
    "n=input(\"\").split(sep=\",\")\n",
    "filter_list(n)"
   ]
  },
  {
   "cell_type": "code",
   "execution_count": 10,
   "metadata": {},
   "outputs": [
    {
     "name": "stdout",
     "output_type": "stream",
     "text": [
      "0,1,2\n"
     ]
    },
    {
     "data": {
      "text/plain": [
       "[0, 2, 4]"
      ]
     },
     "execution_count": 10,
     "metadata": {},
     "output_type": "execute_result"
    }
   ],
   "source": [
    "def add_indexes(n):\n",
    "    l=[]\n",
    "    w=[]\n",
    "    for i in n:\n",
    "        l.append(int(i))\n",
    "    for j in range(len(l)):\n",
    "        a=l[j]+j\n",
    "        w.append(a)\n",
    "    return w\n",
    "n=input(\"\").split(sep=\",\")\n",
    "add_indexes(n)"
   ]
  },
  {
   "cell_type": "code",
   "execution_count": 13,
   "metadata": {},
   "outputs": [
    {
     "name": "stdout",
     "output_type": "stream",
     "text": [
      "Input height: 15\n",
      "Input radius: 6\n"
     ]
    },
    {
     "data": {
      "text/plain": [
       "565.49"
      ]
     },
     "execution_count": 13,
     "metadata": {},
     "output_type": "execute_result"
    }
   ],
   "source": [
    "import numpy as np\n",
    "def vol_cone(h,r):\n",
    "    vol=(1/3)*np.pi*(r**2)*h\n",
    "    return round(vol,2)\n",
    "h=int(input(\"Input height: \"))\n",
    "r=int(input(\"Input radius: \"))\n",
    "vol_cone(h,r)"
   ]
  },
  {
   "cell_type": "code",
   "execution_count": 16,
   "metadata": {},
   "outputs": [
    {
     "data": {
      "text/plain": [
       "15"
      ]
     },
     "execution_count": 16,
     "metadata": {},
     "output_type": "execute_result"
    }
   ],
   "source": [
    "def triangle(n):\n",
    "    sum=0\n",
    "    for i in range(1,n+1):\n",
    "        sum=sum+i\n",
    "    return sum\n",
    "triangle(5)"
   ]
  },
  {
   "cell_type": "code",
   "execution_count": 21,
   "metadata": {},
   "outputs": [
    {
     "name": "stdout",
     "output_type": "stream",
     "text": [
      "1,2,3,5,7,6,9,10,8\n",
      "4\n"
     ]
    }
   ],
   "source": [
    "def miss_num(n):\n",
    "    l=[]\n",
    "    for i in range(1,11):\n",
    "        l.append(str(i))\n",
    "    for j in l:\n",
    "        if j  in n:\n",
    "            continue\n",
    "        else:\n",
    "            print(j)\n",
    "n=input(\"\").split(sep=\",\")\n",
    "miss_num(n)"
   ]
  },
  {
   "cell_type": "code",
   "execution_count": null,
   "metadata": {},
   "outputs": [],
   "source": []
  }
 ],
 "metadata": {
  "kernelspec": {
   "display_name": "Python 3",
   "language": "python",
   "name": "python3"
  },
  "language_info": {
   "codemirror_mode": {
    "name": "ipython",
    "version": 3
   },
   "file_extension": ".py",
   "mimetype": "text/x-python",
   "name": "python",
   "nbconvert_exporter": "python",
   "pygments_lexer": "ipython3",
   "version": "3.8.5"
  }
 },
 "nbformat": 4,
 "nbformat_minor": 4
}
