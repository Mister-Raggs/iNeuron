{
 "cells": [
  {
   "cell_type": "markdown",
   "metadata": {},
   "source": [
    "# Python Basic Prog Asg 6"
   ]
  },
  {
   "cell_type": "code",
   "execution_count": 8,
   "metadata": {},
   "outputs": [
    {
     "name": "stdout",
     "output_type": "stream",
     "text": [
      "Enter number of terms:5\n",
      "Fibonacci sequence:\n",
      "0\n",
      "1\n",
      "1\n",
      "2\n",
      "3\n"
     ]
    }
   ],
   "source": [
    "#ques 1\n",
    "def fibonacci(n):\n",
    "    if(n <= 1):\n",
    "        return n\n",
    "    else:\n",
    "        return(fibonacci(n-1) + fibonacci(n-2))\n",
    "n = int(input(\"Enter number of terms:\"))\n",
    "print(\"Fibonacci sequence:\")\n",
    "for i in range(n):\n",
    "    print(fibonacci(i))"
   ]
  },
  {
   "cell_type": "code",
   "execution_count": 10,
   "metadata": {},
   "outputs": [
    {
     "name": "stdout",
     "output_type": "stream",
     "text": [
      "Factorial of?  8\n",
      "The factorial of 8 is 40320\n"
     ]
    }
   ],
   "source": [
    "#ques 2\n",
    "def recur_factorial(n):\n",
    "    if n == 1:\n",
    "        return n\n",
    "    else:\n",
    "        return n*recur_factorial(n-1)\n",
    "num = int(input(\"Factorial of?  \"))\n",
    "if num < 0:\n",
    "    print(\"Sorry, factorial does not exist for negative numbers\")\n",
    "elif num == 0:\n",
    "    print(\"The factorial of 0 is 1\")\n",
    "else:\n",
    "    print(\"The factorial of\", num, \"is\", recur_factorial(num))\n"
   ]
  },
  {
   "cell_type": "code",
   "execution_count": 16,
   "metadata": {},
   "outputs": [
    {
     "name": "stdout",
     "output_type": "stream",
     "text": [
      "Please enter your height in metres :  1.78\n",
      "Please enter your weight in kg :  64\n",
      "Your BMI Score is : 20.2 Class : Normal\n"
     ]
    }
   ],
   "source": [
    "#ques 3\n",
    "Height=float(input(\"Please enter your height in metres :  \"))\n",
    "Weight=float(input(\"Please enter your weight in kg :  \"))\n",
    "H=Height**2\n",
    "BMI_score= round(Weight/H,2)\n",
    "if BMI_score<18.5:\n",
    "    print(\"Your BMI Score is :\",BMI_score, \"Class : Underweight\")\n",
    "elif 18.5<=BMI_score<=24.9:\n",
    "    print(\"Your BMI Score is :\",BMI_score, \"Class : Normal\")\n",
    "elif 25<=BMI_score<=29.9:\n",
    "    print(\"Your BMI Score is :\",BMI_score, \"Class : Overweight\")\n",
    "else:\n",
    "    print(\"Your BMI Score is :\",BMI_score, \"Class : Obese\")\n",
    "    "
   ]
  },
  {
   "cell_type": "code",
   "execution_count": 17,
   "metadata": {},
   "outputs": [
    {
     "data": {
      "text/plain": [
       "2.6390573296152584"
      ]
     },
     "execution_count": 17,
     "metadata": {},
     "output_type": "execute_result"
    }
   ],
   "source": [
    "#ques 4\n",
    "import math\n",
    "def natural_log(n):\n",
    "    return (math.log(n))\n",
    "natural_log(14)\n"
   ]
  },
  {
   "cell_type": "code",
   "execution_count": 20,
   "metadata": {},
   "outputs": [
    {
     "name": "stdout",
     "output_type": "stream",
     "text": [
      "9\n",
      "2025\n"
     ]
    }
   ],
   "source": [
    "#ques 5\n",
    "n=int(input(\"\"))\n",
    "l=[]\n",
    "sum=0\n",
    "for i in range(1,n+1):\n",
    "    cube=i**3\n",
    "    l.append(cube)\n",
    "for j in l:\n",
    "    sum=sum+j\n",
    "print(sum)"
   ]
  },
  {
   "cell_type": "code",
   "execution_count": null,
   "metadata": {},
   "outputs": [],
   "source": []
  }
 ],
 "metadata": {
  "kernelspec": {
   "display_name": "Python 3",
   "language": "python",
   "name": "python3"
  },
  "language_info": {
   "codemirror_mode": {
    "name": "ipython",
    "version": 3
   },
   "file_extension": ".py",
   "mimetype": "text/x-python",
   "name": "python",
   "nbconvert_exporter": "python",
   "pygments_lexer": "ipython3",
   "version": "3.8.5"
  }
 },
 "nbformat": 4,
 "nbformat_minor": 4
}
