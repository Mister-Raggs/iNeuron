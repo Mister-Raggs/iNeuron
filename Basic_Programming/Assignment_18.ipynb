{
 "cells": [
  {
   "cell_type": "code",
   "execution_count": 8,
   "metadata": {},
   "outputs": [
    {
     "name": "stdout",
     "output_type": "stream",
     "text": [
      "1,3,4224,fwsfwrf,5334,3\n"
     ]
    },
    {
     "data": {
      "text/plain": [
       "[1, 3, 4224, 5334, 3]"
      ]
     },
     "execution_count": 8,
     "metadata": {},
     "output_type": "execute_result"
    }
   ],
   "source": [
    "#ques 1\n",
    "def filter_list(a):\n",
    "    l=[]\n",
    "    for i in a:\n",
    "        if i.isdigit():\n",
    "            l.append(int(i))\n",
    "        else:continue\n",
    "    return l\n",
    "a=list(input(\"\").split(sep=\",\"))\n",
    "filter_list(a)"
   ]
  },
  {
   "cell_type": "code",
   "execution_count": 39,
   "metadata": {},
   "outputs": [
    {
     "name": "stdout",
     "output_type": "stream",
     "text": [
      "Hello World\n",
      "DLROwOLLEh"
     ]
    }
   ],
   "source": [
    "#ques 2\n",
    "def reverse(a):\n",
    "    l=[]\n",
    "    for j in range(len(a)):\n",
    "        for i in a[j]:\n",
    "            if i.isupper():\n",
    "                l.append(i.casefold())\n",
    "            elif i.islower():\n",
    "                l.append(i.capitalize())\n",
    "    print(*l[::-1],sep=\"\",end=(\"\"))\n",
    "a=input(\"\").split()\n",
    "reverse(a)"
   ]
  },
  {
   "cell_type": "code",
   "execution_count": 41,
   "metadata": {},
   "outputs": [
    {
     "data": {
      "text/plain": [
       "[2, 3, 4, 5]"
      ]
     },
     "execution_count": 41,
     "metadata": {},
     "output_type": "execute_result"
    }
   ],
   "source": [
    "#ques 3\n",
    "lst = [1, 2, 3, 4, 5, 6]\n",
    "middle = lst[1:-1]\n",
    "middle"
   ]
  },
  {
   "cell_type": "code",
   "execution_count": 45,
   "metadata": {},
   "outputs": [
    {
     "name": "stdout",
     "output_type": "stream",
     "text": [
      "0\n"
     ]
    },
    {
     "data": {
      "text/plain": [
       "1"
      ]
     },
     "execution_count": 45,
     "metadata": {},
     "output_type": "execute_result"
    }
   ],
   "source": [
    "#ques 4\n",
    "def factorial(n):\n",
    "    fact=1\n",
    "    if n==0:\n",
    "        return 1\n",
    "    else:\n",
    "        for i in range(1,n+1):\n",
    "            fact=fact*i\n",
    "        return fact\n",
    "n=int(input(\"\"))\n",
    "factorial(n)"
   ]
  },
  {
   "cell_type": "code",
   "execution_count": 71,
   "metadata": {},
   "outputs": [
    {
     "name": "stdout",
     "output_type": "stream",
     "text": [
      "1,1,1,1,1,1,1,2\n",
      "1\n"
     ]
    },
    {
     "data": {
      "text/plain": [
       "['2', '1', '1', '1', '1', '1', '1', '1']"
      ]
     },
     "execution_count": 71,
     "metadata": {},
     "output_type": "execute_result"
    }
   ],
   "source": [
    "#ques 5\n",
    "def move_to_end(a,b):\n",
    "    count=0\n",
    "    for i in range(len(a)):\n",
    "        if a[i]==b:\n",
    "            count=count+1\n",
    "        else: continue\n",
    "    for j in range(1,count+1):\n",
    "        a.remove(b)\n",
    "        a.append(b)\n",
    "    return a\n",
    "    \n",
    "a=input(\"\").split(sep=\",\")\n",
    "b=(input(\"\"))\n",
    "move_to_end(a,b)"
   ]
  },
  {
   "cell_type": "code",
   "execution_count": null,
   "metadata": {},
   "outputs": [],
   "source": []
  },
  {
   "cell_type": "code",
   "execution_count": null,
   "metadata": {},
   "outputs": [],
   "source": []
  },
  {
   "cell_type": "code",
   "execution_count": null,
   "metadata": {},
   "outputs": [],
   "source": []
  }
 ],
 "metadata": {
  "kernelspec": {
   "display_name": "Python 3",
   "language": "python",
   "name": "python3"
  },
  "language_info": {
   "codemirror_mode": {
    "name": "ipython",
    "version": 3
   },
   "file_extension": ".py",
   "mimetype": "text/x-python",
   "name": "python",
   "nbconvert_exporter": "python",
   "pygments_lexer": "ipython3",
   "version": "3.8.5"
  }
 },
 "nbformat": 4,
 "nbformat_minor": 4
}
