{
 "cells": [
  {
   "cell_type": "code",
   "execution_count": 6,
   "metadata": {},
   "outputs": [
    {
     "name": "stdout",
     "output_type": "stream",
     "text": [
      "ayush kashyap\n",
      "5\n",
      "kashyap\n"
     ]
    }
   ],
   "source": [
    "#ques 1\n",
    "n=input(\"\")\n",
    "length=int(input(\"\"))\n",
    "n1=n.split()\n",
    "for i in n1:\n",
    "    if len(i)>length:\n",
    "        print(i)\n",
    "    else: continue"
   ]
  },
  {
   "cell_type": "code",
   "execution_count": 6,
   "metadata": {},
   "outputs": [
    {
     "name": "stdout",
     "output_type": "stream",
     "text": [
      "3\n",
      "ayush kashyap is typing this text\n",
      "['ayush', 'kashyap', 'is', 'this', 'text']\n"
     ]
    }
   ],
   "source": [
    "#ques 2\n",
    "n=int(input(\"\"))\n",
    "st=input(\"\")\n",
    "st1=st.split()\n",
    "for i in st1:\n",
    "    if st1.index(i)==n:\n",
    "        st1.remove(i)\n",
    "    else:continue\n",
    "print(st1)"
   ]
  },
  {
   "cell_type": "code",
   "execution_count": 18,
   "metadata": {},
   "outputs": [
    {
     "name": "stdout",
     "output_type": "stream",
     "text": [
      "ayush kashyap is typing this text\n",
      "['ayush', 'kashyap', 'is', 'typing', 'this', 'text']\n",
      "~~~ayush kashyap is typing this text~~~\n"
     ]
    }
   ],
   "source": [
    "#ques 3\n",
    "st=input(\"\")\n",
    "st1=st.split()\n",
    "print(st1)\n",
    "st2=st.join([\"~~~\",\"~~~\"])\n",
    "print(st2)"
   ]
  },
  {
   "cell_type": "code",
   "execution_count": 20,
   "metadata": {},
   "outputs": [
    {
     "name": "stdout",
     "output_type": "stream",
     "text": [
      "Enter string to check01101101011\n",
      "yes it is binary\n"
     ]
    }
   ],
   "source": [
    "#ques 4\n",
    "def check_bin(string):\n",
    "    s=set(string)\n",
    "    t={'0','1'}\n",
    "    if s==t or s=={\"0\"} or s=={\"1\"}:\n",
    "        print(\"yes it is binary\")\n",
    "    else:\n",
    "        print(\"No its not binary\")\n",
    "string=input(\"Enter string to check\")\n",
    "check_bin(string)"
   ]
  },
  {
   "cell_type": "code",
   "execution_count": null,
   "metadata": {},
   "outputs": [],
   "source": [
    "#ques 5\n",
    "n=input(\"\")\n",
    "n1=n.split()\n",
    "n2=input(\"\")\n",
    "n3=n2.split()\n",
    "l=[]\n",
    "for i in n1:\n",
    "    if i not in n3:\n",
    "        l.append(i)\n",
    "    else: continue\n",
    "for j in n3:\n",
    "    if j not in n1:\n",
    "        l.append(j)\n",
    "    else: continue    \n",
    "s=set(l)\n",
    "print(\"the uncommon words are: \",s)"
   ]
  },
  {
   "cell_type": "code",
   "execution_count": 10,
   "metadata": {},
   "outputs": [
    {
     "name": "stdout",
     "output_type": "stream",
     "text": [
      "apple apple is good and banana is not\n",
      "Duplicate words are:  {'apple', 'is'}\n"
     ]
    }
   ],
   "source": [
    "#ques 6\n",
    "n=input(\"\")\n",
    "n1=n.split()\n",
    "l=[]\n",
    "for i in n1:\n",
    "    a=n1.count(i)\n",
    "    if a>=2:\n",
    "        l.append(i)\n",
    "b=set(l)\n",
    "print(\"Duplicate words are: \",b)"
   ]
  },
  {
   "cell_type": "code",
   "execution_count": 17,
   "metadata": {},
   "outputs": [
    {
     "name": "stdout",
     "output_type": "stream",
     "text": [
      "asdsgbn!@$^Y$\n",
      "yes\n"
     ]
    }
   ],
   "source": [
    "#ques 7\n",
    "special_characters = \"!@#$%^&*()-+?_=,<>/\"\n",
    "s=input()\n",
    "if any(c in special_characters for c in s):\n",
    "    print(\"yes\")\n",
    "else:\n",
    "    print(\"no\")"
   ]
  },
  {
   "cell_type": "code",
   "execution_count": null,
   "metadata": {},
   "outputs": [],
   "source": []
  }
 ],
 "metadata": {
  "kernelspec": {
   "display_name": "Python 3",
   "language": "python",
   "name": "python3"
  },
  "language_info": {
   "codemirror_mode": {
    "name": "ipython",
    "version": 3
   },
   "file_extension": ".py",
   "mimetype": "text/x-python",
   "name": "python",
   "nbconvert_exporter": "python",
   "pygments_lexer": "ipython3",
   "version": "3.8.5"
  }
 },
 "nbformat": 4,
 "nbformat_minor": 4
}
