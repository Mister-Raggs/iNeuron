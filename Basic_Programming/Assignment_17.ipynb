{
 "cells": [
  {
   "cell_type": "code",
   "execution_count": 8,
   "metadata": {},
   "outputs": [
    {
     "name": "stdout",
     "output_type": "stream",
     "text": [
      " enter a: 1\n",
      " enter b: 10\n",
      " enter c: 3\n",
      "18\n"
     ]
    }
   ],
   "source": [
    "#ques 1\n",
    "def evenly_divisible(a,b,c):\n",
    "    l=[]\n",
    "    sum=0\n",
    "    for i in range(a,b+1):\n",
    "        if i%c==0:\n",
    "            l.append(i)\n",
    "        else:\n",
    "            continue\n",
    "    for j in l:\n",
    "        sum=sum+j\n",
    "    if sum==0:\n",
    "        print(\"No number between\", a ,\"and\",b, \"can be evenly divided by \",c)\n",
    "    print(sum)\n",
    "a=int(input(\" enter a: \"))\n",
    "b=int(input(\" enter b: \"))\n",
    "c=int(input(\" enter c: \"))\n",
    "evenly_divisible(a,b,c)"
   ]
  },
  {
   "cell_type": "code",
   "execution_count": 47,
   "metadata": {},
   "outputs": [
    {
     "name": "stdout",
     "output_type": "stream",
     "text": [
      "1 < 2 < 5 < 10 > 3 < 6\n",
      "[1, 2, 5, 10, 3, 6]\n",
      "['<', '<', '<', '>', '<']\n",
      "['<', '<', '<', '>', '<']\n"
     ]
    },
    {
     "data": {
      "text/plain": [
       "True"
      ]
     },
     "execution_count": 47,
     "metadata": {},
     "output_type": "execute_result"
    }
   ],
   "source": [
    "#ques 2\n",
    "def corrected_signs(a):\n",
    "    l=[]\n",
    "    w=[]\n",
    "    u=[]\n",
    "    for i in a:\n",
    "        if i.isdigit():\n",
    "            l.append(int(i))\n",
    "        else:\n",
    "            w.append(i)\n",
    "    print(l)\n",
    "    print(w)\n",
    "    for j in range(len(l)-1):\n",
    "        if l[j]<l[j+1]:\n",
    "            u.append(\"<\")\n",
    "        elif l[j]>l[j+1]:\n",
    "            u.append(\">\")\n",
    "        else:\n",
    "            u.append(\"=\")\n",
    "    print(u)\n",
    "    if w==u:\n",
    "        return True\n",
    "    else:\n",
    "        return False\n",
    "    \n",
    "    \n",
    "a=input(\"\").split(sep=\" \")\n",
    "corrected_signs(a)"
   ]
  },
  {
   "cell_type": "code",
   "execution_count": 77,
   "metadata": {},
   "outputs": [
    {
     "name": "stdout",
     "output_type": "stream",
     "text": [
      "minnie mouse\n",
      "?\n",
      "m?nn?? m??s?\n"
     ]
    }
   ],
   "source": [
    "#ques 3\n",
    "def replace_vowels(a,b):\n",
    "    vowels=\"AEIOUaeiou\"\n",
    "    for i in vowels:\n",
    "        a=a.replace(i,b)\n",
    "    return a\n",
    "c=input(\"\")\n",
    "b=input(\"\")\n",
    "print(replace_vowels(c,b))            "
   ]
  },
  {
   "cell_type": "code",
   "execution_count": 87,
   "metadata": {},
   "outputs": [
    {
     "name": "stdout",
     "output_type": "stream",
     "text": [
      "5\n"
     ]
    },
    {
     "data": {
      "text/plain": [
       "120"
      ]
     },
     "execution_count": 87,
     "metadata": {},
     "output_type": "execute_result"
    }
   ],
   "source": [
    "#ques 4\n",
    "def factorial(n):\n",
    "    fact=1\n",
    "    if n==0:\n",
    "        return 0\n",
    "    else:\n",
    "        for i in range(1,n+1):\n",
    "            fact=fact*i\n",
    "        return fact\n",
    "n=int(input(\"\"))\n",
    "factorial(n)"
   ]
  },
  {
   "cell_type": "code",
   "execution_count": 90,
   "metadata": {},
   "outputs": [
    {
     "name": "stdout",
     "output_type": "stream",
     "text": [
      "abcde\n",
      "bcdef\n"
     ]
    },
    {
     "data": {
      "text/plain": [
       "5"
      ]
     },
     "execution_count": 90,
     "metadata": {},
     "output_type": "execute_result"
    }
   ],
   "source": [
    "#ques 5\n",
    "def hamming_distance(st1,st2):\n",
    "    count=0\n",
    "    for i in range(len(st1)):\n",
    "        if st1[i]==st2[i]:\n",
    "            continue\n",
    "        else:\n",
    "            count=count+1\n",
    "    return count\n",
    "st1=input(\"\")\n",
    "st2=input(\"\")\n",
    "hamming_distance(st1,st2)"
   ]
  },
  {
   "cell_type": "code",
   "execution_count": null,
   "metadata": {},
   "outputs": [],
   "source": []
  }
 ],
 "metadata": {
  "kernelspec": {
   "display_name": "Python 3",
   "language": "python",
   "name": "python3"
  },
  "language_info": {
   "codemirror_mode": {
    "name": "ipython",
    "version": 3
   },
   "file_extension": ".py",
   "mimetype": "text/x-python",
   "name": "python",
   "nbconvert_exporter": "python",
   "pygments_lexer": "ipython3",
   "version": "3.8.5"
  }
 },
 "nbformat": 4,
 "nbformat_minor": 4
}
