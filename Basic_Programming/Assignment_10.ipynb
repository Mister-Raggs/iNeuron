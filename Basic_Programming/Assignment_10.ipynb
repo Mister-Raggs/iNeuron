{
 "cells": [
  {
   "cell_type": "code",
   "execution_count": 1,
   "metadata": {},
   "outputs": [
    {
     "name": "stdout",
     "output_type": "stream",
     "text": [
      "45\n"
     ]
    }
   ],
   "source": [
    "#ques1\n",
    "l=[1,2,3,4,5,6,7,8,9]\n",
    "sum=0\n",
    "for i in l:\n",
    "    sum=sum+i\n",
    "print(sum)"
   ]
  },
  {
   "cell_type": "code",
   "execution_count": 2,
   "metadata": {},
   "outputs": [
    {
     "name": "stdout",
     "output_type": "stream",
     "text": [
      "362880\n"
     ]
    }
   ],
   "source": [
    "#ques 2\n",
    "l=[1,2,3,4,5,6,7,8,9]\n",
    "product=l[0]\n",
    "for i in l[1:]:\n",
    "    product=product*i\n",
    "print(product)"
   ]
  },
  {
   "cell_type": "code",
   "execution_count": 6,
   "metadata": {},
   "outputs": [
    {
     "name": "stdout",
     "output_type": "stream",
     "text": [
      "3\n"
     ]
    }
   ],
   "source": [
    "#ques 3\n",
    "l=[43,65,87,3,87,23,86,24]\n",
    "small=l[0]\n",
    "for i in l:\n",
    "    if small>=i:\n",
    "        small=i\n",
    "    else:\n",
    "        small=small\n",
    "print(small)"
   ]
  },
  {
   "cell_type": "code",
   "execution_count": 7,
   "metadata": {},
   "outputs": [
    {
     "name": "stdout",
     "output_type": "stream",
     "text": [
      "87\n"
     ]
    }
   ],
   "source": [
    "#ques 4\n",
    "l=[43,65,87,3,87,23,86,24]\n",
    "small=l[0]\n",
    "for i in l:\n",
    "    if small<=i:\n",
    "        small=i\n",
    "    else:\n",
    "        small=small\n",
    "print(small)"
   ]
  },
  {
   "cell_type": "code",
   "execution_count": 16,
   "metadata": {},
   "outputs": [
    {
     "name": "stdout",
     "output_type": "stream",
     "text": [
      "86\n"
     ]
    }
   ],
   "source": [
    "#ques 5\n",
    "l=[43,65,87,3,23,86,24]\n",
    "l.remove(max(l))\n",
    "small=l[0]\n",
    "for i in l:\n",
    "    if small<=i:\n",
    "        small=i\n",
    "    else:\n",
    "        small=small\n",
    "print(small)"
   ]
  },
  {
   "cell_type": "code",
   "execution_count": 18,
   "metadata": {},
   "outputs": [
    {
     "name": "stdout",
     "output_type": "stream",
     "text": [
      "86 24 "
     ]
    }
   ],
   "source": [
    "#ques 6\n",
    "l=[43,65,87,3,23,86,24]\n",
    "for i in l:\n",
    "    if i%2==0:\n",
    "        print(i,end=\" \")"
   ]
  },
  {
   "cell_type": "code",
   "execution_count": 19,
   "metadata": {},
   "outputs": [
    {
     "name": "stdout",
     "output_type": "stream",
     "text": [
      "43 65 87 3 23 "
     ]
    }
   ],
   "source": [
    "#ques 7\n",
    "l=[43,65,87,3,23,86,24]\n",
    "for i in l:\n",
    "    if i%2!=0:\n",
    "        print(i,end=\" \")"
   ]
  },
  {
   "cell_type": "code",
   "execution_count": 21,
   "metadata": {},
   "outputs": [
    {
     "data": {
      "text/plain": [
       "[43, 65, 87, 3, 23, 86, 24]"
      ]
     },
     "execution_count": 21,
     "metadata": {},
     "output_type": "execute_result"
    }
   ],
   "source": [
    "#ques 8\n",
    "l=[43,65,87,3,23,86,24,[]]\n",
    "l.remove([])\n",
    "l"
   ]
  },
  {
   "cell_type": "code",
   "execution_count": 23,
   "metadata": {},
   "outputs": [
    {
     "data": {
      "text/plain": [
       "[43, 65, 87, 3, 23, 86, 24]"
      ]
     },
     "execution_count": 23,
     "metadata": {},
     "output_type": "execute_result"
    }
   ],
   "source": [
    "#ques 9\n",
    "l=[43,65,87,3,23,86,24]\n",
    "a=l.copy()\n",
    "a"
   ]
  },
  {
   "cell_type": "code",
   "execution_count": 27,
   "metadata": {},
   "outputs": [
    {
     "name": "stdout",
     "output_type": "stream",
     "text": [
      "The count of the number  43 = 1\n",
      "The count of the number  65 = 3\n",
      "The count of the number  87 = 1\n",
      "The count of the number  3 = 2\n",
      "The count of the number  23 = 1\n",
      "The count of the number  86 = 2\n",
      "The count of the number  24 = 1\n",
      "The count of the number  32 = 1\n",
      "The count of the number  65 = 3\n",
      "The count of the number  65 = 3\n",
      "The count of the number  8 = 1\n",
      "The count of the number  12 = 1\n",
      "The count of the number  86 = 2\n",
      "The count of the number  3 = 2\n",
      "The count of the number  4 = 1\n"
     ]
    }
   ],
   "source": [
    "#ques 10\n",
    "l=[43,65,87,3,23,86,24,32,65,65,8,12,86,3,4]\n",
    "for i in l:\n",
    "    a=l.count(i)\n",
    "    print(\"The count of the number \",i,\"=\",a)"
   ]
  },
  {
   "cell_type": "code",
   "execution_count": null,
   "metadata": {},
   "outputs": [],
   "source": []
  }
 ],
 "metadata": {
  "kernelspec": {
   "display_name": "Python 3",
   "language": "python",
   "name": "python3"
  },
  "language_info": {
   "codemirror_mode": {
    "name": "ipython",
    "version": 3
   },
   "file_extension": ".py",
   "mimetype": "text/x-python",
   "name": "python",
   "nbconvert_exporter": "python",
   "pygments_lexer": "ipython3",
   "version": "3.8.5"
  }
 },
 "nbformat": 4,
 "nbformat_minor": 4
}
