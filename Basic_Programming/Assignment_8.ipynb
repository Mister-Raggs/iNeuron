{
 "cells": [
  {
   "cell_type": "code",
   "execution_count": 4,
   "metadata": {},
   "outputs": [],
   "source": [
    "import numpy as np"
   ]
  },
  {
   "cell_type": "code",
   "execution_count": 7,
   "metadata": {},
   "outputs": [
    {
     "data": {
      "text/plain": [
       "matrix([[ 8,  6],\n",
       "        [14, 16]])"
      ]
     },
     "execution_count": 7,
     "metadata": {},
     "output_type": "execute_result"
    }
   ],
   "source": [
    "#ques1\n",
    "a=np.matrix([[1,2],[5,6]])\n",
    "b=np.matrix([[7,4],[9,10]])\n",
    "a+b"
   ]
  },
  {
   "cell_type": "code",
   "execution_count": 8,
   "metadata": {},
   "outputs": [
    {
     "data": {
      "text/plain": [
       "matrix([[25, 24],\n",
       "        [89, 80]])"
      ]
     },
     "execution_count": 8,
     "metadata": {},
     "output_type": "execute_result"
    }
   ],
   "source": [
    "#ques2\n",
    "a=np.matrix([[1,2],[5,6]])\n",
    "b=np.matrix([[7,4],[9,10]])\n",
    "a*b"
   ]
  },
  {
   "cell_type": "code",
   "execution_count": 9,
   "metadata": {},
   "outputs": [
    {
     "data": {
      "text/plain": [
       "matrix([[1, 5],\n",
       "        [2, 6]])"
      ]
     },
     "execution_count": 9,
     "metadata": {},
     "output_type": "execute_result"
    }
   ],
   "source": [
    "#ques3\n",
    "a=np.matrix([[1,2],[5,6]])\n",
    "np.matrix.transpose(a)\n"
   ]
  },
  {
   "cell_type": "code",
   "execution_count": 10,
   "metadata": {},
   "outputs": [
    {
     "name": "stdout",
     "output_type": "stream",
     "text": [
      "['aeroplane' 'apple' 'banana' 'cherry' 'guava' 'pickle']\n"
     ]
    }
   ],
   "source": [
    "#ques 4\n",
    "import numpy as np\n",
    "arr = np.array(['banana', 'cherry', 'apple',\"guava\",\"pickle\",\"aeroplane\"])\n",
    "print(np.sort(arr))"
   ]
  },
  {
   "cell_type": "code",
   "execution_count": 11,
   "metadata": {},
   "outputs": [
    {
     "name": "stdout",
     "output_type": "stream",
     "text": [
      "Enter a string: isbnskqnfk39hf2>.pqfjp./?JACOIJQP\n",
      "Punctuation Free String:  isbnskqnfk39hf2pqfjpJACOIJQP\n"
     ]
    }
   ],
   "source": [
    "#ques5\n",
    "punctuations = '''!()-[]{};:'\"\\,<>./?@#$%^&*_~'''\n",
    "inp_str = input(\"Enter a string: \")\n",
    "no_punc = \"\"\n",
    "for char in inp_str:\n",
    "    if char not in punctuations:\n",
    "        no_punc = no_punc + char\n",
    "print(\"Punctuation Free String: \",no_punc)"
   ]
  },
  {
   "cell_type": "code",
   "execution_count": null,
   "metadata": {},
   "outputs": [],
   "source": []
  }
 ],
 "metadata": {
  "kernelspec": {
   "display_name": "Python 3",
   "language": "python",
   "name": "python3"
  },
  "language_info": {
   "codemirror_mode": {
    "name": "ipython",
    "version": 3
   },
   "file_extension": ".py",
   "mimetype": "text/x-python",
   "name": "python",
   "nbconvert_exporter": "python",
   "pygments_lexer": "ipython3",
   "version": "3.8.5"
  }
 },
 "nbformat": 4,
 "nbformat_minor": 4
}
