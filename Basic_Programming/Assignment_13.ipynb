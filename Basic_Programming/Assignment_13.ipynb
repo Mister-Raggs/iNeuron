{
 "cells": [
  {
   "cell_type": "code",
   "execution_count": null,
   "metadata": {},
   "outputs": [],
   "source": []
  },
  {
   "cell_type": "code",
   "execution_count": 27,
   "metadata": {},
   "outputs": [
    {
     "name": "stdout",
     "output_type": "stream",
     "text": [
      "100,150,180\n",
      "18,22,24\n"
     ]
    }
   ],
   "source": [
    "#ques 1\n",
    "def formula(D):\n",
    "    Q=((2*50*D)/30)**(1/2)\n",
    "    return Q\n",
    "l=[]\n",
    "D=input(\"\")\n",
    "a=D.split(sep=\",\")\n",
    "a\n",
    "for i in a:\n",
    "    s=int(i)\n",
    "    s1=round(formula(s))\n",
    "    l.append(s1)\n",
    "print(*l,sep=\",\")"
   ]
  },
  {
   "cell_type": "code",
   "execution_count": 30,
   "metadata": {},
   "outputs": [
    {
     "name": "stdout",
     "output_type": "stream",
     "text": [
      "3\n",
      "5\n",
      "[[0, 0, 0, 0, 0], [0, 1, 2, 3, 4], [0, 2, 4, 6, 8]]\n"
     ]
    }
   ],
   "source": [
    "#ques 2\n",
    "X=int(input(\"\"))\n",
    "Y=int(input(\"\"))\n",
    "matrix=[[0 for j in range(Y)] for i in range(X)]\n",
    "for i in range(X):\n",
    "    for j in range(Y):\n",
    "        matrix[i][j]=i*j\n",
    "print(matrix)\n",
    "        "
   ]
  },
  {
   "cell_type": "code",
   "execution_count": 38,
   "metadata": {},
   "outputs": [
    {
     "name": "stdout",
     "output_type": "stream",
     "text": [
      "without,hello,bag,world\n",
      "bag,hello,without,world\n"
     ]
    }
   ],
   "source": [
    "#ques 3\n",
    "a=input(\"\")\n",
    "a1=a.split(sep=\",\")\n",
    "a1.sort()\n",
    "print(*a1,sep=\",\")"
   ]
  },
  {
   "cell_type": "code",
   "execution_count": 48,
   "metadata": {},
   "outputs": [
    {
     "name": "stdout",
     "output_type": "stream",
     "text": [
      "hello world and practice makes perfect and hello world again\n",
      "again and hello makes perfect practice world\n"
     ]
    }
   ],
   "source": [
    "#ques 4\n",
    "b=input(\"\")\n",
    "b1=b.split(sep=\" \")\n",
    "t=tuple(b1)\n",
    "t1=set(b1)\n",
    "l=list(t1)\n",
    "l.sort()\n",
    "print(*l,sep=\" \")"
   ]
  },
  {
   "cell_type": "code",
   "execution_count": 66,
   "metadata": {},
   "outputs": [
    {
     "name": "stdout",
     "output_type": "stream",
     "text": [
      "Input a stringhello world! 123\n",
      "LETTERS 10\n",
      "DIGITS 3\n"
     ]
    }
   ],
   "source": [
    "#ques 5\n",
    "n = input(\"Input a string\")\n",
    "d=0\n",
    "l=0\n",
    "for i in n:\n",
    "    if i.isdigit():\n",
    "        d=d+1\n",
    "    elif i.isalpha():\n",
    "        l=l+1\n",
    "    else:\n",
    "        pass\n",
    "print(\"LETTERS\", l)\n",
    "print(\"DIGITS\", d)\n"
   ]
  },
  {
   "cell_type": "code",
   "execution_count": 68,
   "metadata": {},
   "outputs": [
    {
     "name": "stdout",
     "output_type": "stream",
     "text": [
      "ABd1234@1,a F1#,2w3E*,2We3345\n",
      "ABd1234@1\n"
     ]
    }
   ],
   "source": [
    "#ques 6\n",
    "import re\n",
    "n=input(\"\")\n",
    "n1=n.split(sep=\",\")\n",
    "x=True\n",
    "while x:\n",
    "    for i in n1:\n",
    "        if 6>len(n) or len(n)<12:\n",
    "            break\n",
    "        elif not re.search(\"[a-z]\",n):\n",
    "            break\n",
    "        elif not re.search(\"[0-9]\",n):\n",
    "            break\n",
    "        elif not re.search(\"[A-Z]\",n):\n",
    "            break\n",
    "        elif not re.search(\"[$,#,@]\",n):\n",
    "            break\n",
    "        else:\n",
    "            print(i)\n",
    "            x=False\n",
    "            break\n",
    "if x:\n",
    "    pass"
   ]
  },
  {
   "cell_type": "code",
   "execution_count": null,
   "metadata": {},
   "outputs": [],
   "source": []
  }
 ],
 "metadata": {
  "kernelspec": {
   "display_name": "Python 3",
   "language": "python",
   "name": "python3"
  },
  "language_info": {
   "codemirror_mode": {
    "name": "ipython",
    "version": 3
   },
   "file_extension": ".py",
   "mimetype": "text/x-python",
   "name": "python",
   "nbconvert_exporter": "python",
   "pygments_lexer": "ipython3",
   "version": "3.8.5"
  }
 },
 "nbformat": 4,
 "nbformat_minor": 4
}
