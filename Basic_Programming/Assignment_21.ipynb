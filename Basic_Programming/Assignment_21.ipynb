{
 "cells": [
  {
   "cell_type": "code",
   "execution_count": 9,
   "metadata": {},
   "outputs": [
    {
     "name": "stdout",
     "output_type": "stream",
     "text": [
      "1,2,3,4,5\n",
      "7\n"
     ]
    },
    {
     "data": {
      "text/plain": [
       "[2, 3, 4, 5, 7]"
      ]
     },
     "execution_count": 9,
     "metadata": {},
     "output_type": "execute_result"
    }
   ],
   "source": [
    "def next_in_line(n,r):\n",
    "    l=[]\n",
    "    for i in n:\n",
    "        l.append(int(i))\n",
    "    l.remove(l[0])\n",
    "    l.append(r)\n",
    "    return l\n",
    "n=input(\"\").split(sep=\",\")\n",
    "r=int(input(\"\"))\n",
    "next_in_line(n,r)\n"
   ]
  },
  {
   "cell_type": "code",
   "execution_count": 15,
   "metadata": {},
   "outputs": [
    {
     "ename": "TypeError",
     "evalue": "list indices must be integers or slices, not str",
     "output_type": "error",
     "traceback": [
      "\u001b[1;31m---------------------------------------------------------------------------\u001b[0m",
      "\u001b[1;31mTypeError\u001b[0m                                 Traceback (most recent call last)",
      "\u001b[1;32m<ipython-input-15-12796d8a0b75>\u001b[0m in \u001b[0;36m<module>\u001b[1;34m\u001b[0m\n\u001b[0;32m      8\u001b[0m \u001b[1;33m{\u001b[0m\u001b[1;34m\"name\"\u001b[0m\u001b[1;33m:\u001b[0m\u001b[1;34m\"Martin\"\u001b[0m\u001b[1;33m,\u001b[0m\u001b[1;34m\"age\"\u001b[0m\u001b[1;33m:\u001b[0m\u001b[1;36m16\u001b[0m\u001b[1;33m,\u001b[0m\u001b[1;34m\"budget\"\u001b[0m\u001b[1;33m:\u001b[0m \u001b[1;36m2700\u001b[0m \u001b[1;33m}\u001b[0m\u001b[1;33m\u001b[0m\u001b[1;33m\u001b[0m\u001b[0m\n\u001b[0;32m      9\u001b[0m ])\n\u001b[1;32m---> 10\u001b[1;33m \u001b[0mget_budgets\u001b[0m\u001b[1;33m(\u001b[0m\u001b[0md\u001b[0m\u001b[1;33m)\u001b[0m\u001b[1;33m\u001b[0m\u001b[1;33m\u001b[0m\u001b[0m\n\u001b[0m",
      "\u001b[1;32m<ipython-input-15-12796d8a0b75>\u001b[0m in \u001b[0;36mget_budgets\u001b[1;34m(d)\u001b[0m\n\u001b[0;32m      1\u001b[0m \u001b[1;32mdef\u001b[0m \u001b[0mget_budgets\u001b[0m\u001b[1;33m(\u001b[0m\u001b[0md\u001b[0m\u001b[1;33m)\u001b[0m\u001b[1;33m:\u001b[0m\u001b[1;33m\u001b[0m\u001b[1;33m\u001b[0m\u001b[0m\n\u001b[0;32m      2\u001b[0m     \u001b[0msum\u001b[0m\u001b[1;33m=\u001b[0m\u001b[1;36m0\u001b[0m\u001b[1;33m\u001b[0m\u001b[1;33m\u001b[0m\u001b[0m\n\u001b[1;32m----> 3\u001b[1;33m     \u001b[1;32mfor\u001b[0m \u001b[0mi\u001b[0m \u001b[1;32min\u001b[0m \u001b[0md\u001b[0m\u001b[1;33m[\u001b[0m\u001b[1;34m\"budget\"\u001b[0m\u001b[1;33m]\u001b[0m\u001b[1;33m:\u001b[0m\u001b[1;33m\u001b[0m\u001b[1;33m\u001b[0m\u001b[0m\n\u001b[0m\u001b[0;32m      4\u001b[0m         \u001b[0msum\u001b[0m\u001b[1;33m=\u001b[0m\u001b[0msum\u001b[0m\u001b[1;33m+\u001b[0m\u001b[0mi\u001b[0m\u001b[1;33m\u001b[0m\u001b[1;33m\u001b[0m\u001b[0m\n\u001b[0;32m      5\u001b[0m     \u001b[1;32mreturn\u001b[0m \u001b[0msum\u001b[0m\u001b[1;33m\u001b[0m\u001b[1;33m\u001b[0m\u001b[0m\n",
      "\u001b[1;31mTypeError\u001b[0m: list indices must be integers or slices, not str"
     ]
    }
   ],
   "source": [
    "def get_budgets(d):\n",
    "    sum=0\n",
    "    for i in d[\"budget\"]:\n",
    "        sum=sum+i\n",
    "    return sum\n",
    "d=([{\"name\":\"John\",\"age\":21,\"budget\":23000},\n",
    "{\"name\":\"Steve\",\"age\":32,\"budget\":40000},\n",
    "{\"name\":\"Martin\",\"age\":16,\"budget\": 2700 }\n",
    "])\n",
    "get_budgets(d)"
   ]
  },
  {
   "cell_type": "code",
   "execution_count": 18,
   "metadata": {},
   "outputs": [
    {
     "data": {
      "text/plain": [
       "3"
      ]
     },
     "execution_count": 18,
     "metadata": {},
     "output_type": "execute_result"
    }
   ],
   "source": [
    "a={\"a\":3,\"b\":5,\"c\":8}\n",
    "qq=a[\"a\"]\n",
    "qq"
   ]
  },
  {
   "cell_type": "code",
   "execution_count": 27,
   "metadata": {},
   "outputs": [
    {
     "name": "stdout",
     "output_type": "stream",
     "text": [
      "ayush\n",
      "ahsuy\n"
     ]
    }
   ],
   "source": [
    "def alphabet_soup(n):\n",
    "    l=[]\n",
    "    for i in n:\n",
    "        l.append(i)\n",
    "    l.sort()\n",
    "    print(*l,sep=\"\")\n",
    "n=input(\"\")\n",
    "alphabet_soup(n)"
   ]
  },
  {
   "cell_type": "code",
   "execution_count": 31,
   "metadata": {},
   "outputs": [
    {
     "name": "stdout",
     "output_type": "stream",
     "text": [
      "Enter initial Principal Amount: 10000\n",
      "Enter Years: 10\n",
      "Enter Rate of interest: 0.06\n",
      "Enter Number of compounding period per year:  12\n"
     ]
    },
    {
     "data": {
      "text/plain": [
       "18193.97"
      ]
     },
     "execution_count": 31,
     "metadata": {},
     "output_type": "execute_result"
    }
   ],
   "source": [
    "def compund_interest(p,t,r,n):\n",
    "    A=p*((1+(r/n))**(n*t))\n",
    "    return round(A,2)\n",
    "p=float(input(\"Enter initial Principal Amount: \"))\n",
    "t=float(input(\"Enter Years: \"))\n",
    "r=float(input(\"Enter Rate of interest: \"))\n",
    "n=float(input(\"Enter Number of compounding period per year:  \"))\n",
    "compund_interest(p,t,r,n)"
   ]
  },
  {
   "cell_type": "code",
   "execution_count": 33,
   "metadata": {},
   "outputs": [
    {
     "name": "stdout",
     "output_type": "stream",
     "text": [
      "1,4,6,ar,ydtgeg,6574,dfs\n"
     ]
    },
    {
     "data": {
      "text/plain": [
       "[1, 4, 6, 6574]"
      ]
     },
     "execution_count": 33,
     "metadata": {},
     "output_type": "execute_result"
    }
   ],
   "source": [
    "def return_only_integer(n):\n",
    "    l=[]\n",
    "    for i in n:\n",
    "        if i.isdigit():\n",
    "            l.append(int(i))\n",
    "        else:continue\n",
    "    return l\n",
    "n=input(\"\").split(sep=\",\")\n",
    "return_only_integer(n)\n",
    "\n",
    "    "
   ]
  },
  {
   "cell_type": "code",
   "execution_count": null,
   "metadata": {},
   "outputs": [],
   "source": []
  }
 ],
 "metadata": {
  "kernelspec": {
   "display_name": "Python 3",
   "language": "python",
   "name": "python3"
  },
  "language_info": {
   "codemirror_mode": {
    "name": "ipython",
    "version": 3
   },
   "file_extension": ".py",
   "mimetype": "text/x-python",
   "name": "python",
   "nbconvert_exporter": "python",
   "pygments_lexer": "ipython3",
   "version": "3.8.5"
  }
 },
 "nbformat": 4,
 "nbformat_minor": 4
}
