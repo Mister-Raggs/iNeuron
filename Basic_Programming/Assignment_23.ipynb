{
 "cells": [
  {
   "cell_type": "code",
   "execution_count": 3,
   "metadata": {},
   "outputs": [
    {
     "name": "stdout",
     "output_type": "stream",
     "text": [
      "1112111\n"
     ]
    },
    {
     "data": {
      "text/plain": [
       "True"
      ]
     },
     "execution_count": 3,
     "metadata": {},
     "output_type": "execute_result"
    }
   ],
   "source": [
    "def symmetrical(n):\n",
    "    l=[]\n",
    "    u=[]\n",
    "    for i in n:\n",
    "        l.append(i)\n",
    "    for j in n[::-1]:\n",
    "        u.append(j)\n",
    "    if l==u:\n",
    "        return True\n",
    "    else: return False\n",
    "n=input(\"\")\n",
    "symmetrical(n)\n",
    "        "
   ]
  },
  {
   "cell_type": "code",
   "execution_count": 8,
   "metadata": {},
   "outputs": [
    {
     "name": "stdout",
     "output_type": "stream",
     "text": [
      "2, 5, -4\n"
     ]
    },
    {
     "data": {
      "text/plain": [
       "-40"
      ]
     },
     "execution_count": 8,
     "metadata": {},
     "output_type": "execute_result"
    }
   ],
   "source": [
    "def multiply_nums(n):\n",
    "    d=1\n",
    "    for i in n:\n",
    "        d=d*int(i)\n",
    "    return d\n",
    "n=input(\"\").split(sep=\",\")\n",
    "multiply_nums(n)\n",
    "    \n",
    "    "
   ]
  },
  {
   "cell_type": "code",
   "execution_count": 10,
   "metadata": {},
   "outputs": [
    {
     "name": "stdout",
     "output_type": "stream",
     "text": [
      "9119\n",
      "811181\n"
     ]
    }
   ],
   "source": [
    "def square_digit(m):\n",
    "    l=[]\n",
    "    for i in m:\n",
    "        a=int(i)**2\n",
    "        l.append(a)\n",
    "    print(*l,sep=\"\")\n",
    "m=input(\"\")\n",
    "square_digit(m)\n",
    "    "
   ]
  },
  {
   "cell_type": "code",
   "execution_count": 14,
   "metadata": {},
   "outputs": [
    {
     "name": "stdout",
     "output_type": "stream",
     "text": [
      "4,4,4,4,4,4,4,4\n"
     ]
    },
    {
     "data": {
      "text/plain": [
       "[4]"
      ]
     },
     "execution_count": 14,
     "metadata": {},
     "output_type": "execute_result"
    }
   ],
   "source": [
    "def setify(n):\n",
    "    l=[]\n",
    "    for i in n:\n",
    "        l.append(int(i))\n",
    "    t=set(l)\n",
    "    return list(t)\n",
    "n=input(\"\").split(sep=\",\")\n",
    "setify(n)"
   ]
  },
  {
   "cell_type": "code",
   "execution_count": 19,
   "metadata": {},
   "outputs": [
    {
     "name": "stdout",
     "output_type": "stream",
     "text": [
      "666\n"
     ]
    },
    {
     "data": {
      "text/plain": [
       "6"
      ]
     },
     "execution_count": 19,
     "metadata": {},
     "output_type": "execute_result"
    }
   ],
   "source": [
    "def mean(n):\n",
    "    sum=0\n",
    "    count=0\n",
    "    for i in n:\n",
    "        sum=sum+int(i)\n",
    "        count=count+1\n",
    "    mean=int(sum/count)\n",
    "    return mean\n",
    "n=input(\"\")\n",
    "mean(n)"
   ]
  },
  {
   "cell_type": "code",
   "execution_count": null,
   "metadata": {},
   "outputs": [],
   "source": []
  }
 ],
 "metadata": {
  "kernelspec": {
   "display_name": "Python 3",
   "language": "python",
   "name": "python3"
  },
  "language_info": {
   "codemirror_mode": {
    "name": "ipython",
    "version": 3
   },
   "file_extension": ".py",
   "mimetype": "text/x-python",
   "name": "python",
   "nbconvert_exporter": "python",
   "pygments_lexer": "ipython3",
   "version": "3.8.5"
  }
 },
 "nbformat": 4,
 "nbformat_minor": 4
}
