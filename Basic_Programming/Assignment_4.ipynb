{
 "cells": [
  {
   "cell_type": "markdown",
   "metadata": {},
   "source": [
    "# Python Basic Prog Asg 4"
   ]
  },
  {
   "cell_type": "code",
   "execution_count": 4,
   "metadata": {},
   "outputs": [
    {
     "name": "stdout",
     "output_type": "stream",
     "text": [
      "7\n",
      "5040\n"
     ]
    }
   ],
   "source": [
    "#ques 1\n",
    "a=int(input(\"\"))\n",
    "fact=a\n",
    "for i in range (1,a):\n",
    "    fact=fact*(a-i)\n",
    "print (fact)"
   ]
  },
  {
   "cell_type": "code",
   "execution_count": 8,
   "metadata": {},
   "outputs": [
    {
     "name": "stdout",
     "output_type": "stream",
     "text": [
      "12\n",
      " 12 X  1 =  12\n",
      " 12 X  2 =  24\n",
      " 12 X  3 =  36\n",
      " 12 X  4 =  48\n",
      " 12 X  5 =  60\n",
      " 12 X  6 =  72\n",
      " 12 X  7 =  84\n",
      " 12 X  8 =  96\n",
      " 12 X  9 =  108\n",
      " 12 X  10 =  120\n"
     ]
    }
   ],
   "source": [
    "#ques2\n",
    "a=int(input(\"\"))\n",
    "for i in range(1,11):\n",
    "    s=a*i\n",
    "    print (\"\",a ,\"X\" ,\"\",i ,\"=\", \"\",s)"
   ]
  },
  {
   "cell_type": "code",
   "execution_count": 21,
   "metadata": {},
   "outputs": [
    {
     "name": "stdout",
     "output_type": "stream",
     "text": [
      "How many fib elements 8\n",
      "[1, 1, 2, 3, 5, 8, 13, 21]\n"
     ]
    }
   ],
   "source": [
    "#ques 3\n",
    "n=int(input(\"How many fib elements \"))\n",
    "l=[]\n",
    "for i in range(0,n):\n",
    "    if i==0:\n",
    "        l.append(i+1)\n",
    "    elif i==1:\n",
    "        l.append(i)\n",
    "    else:\n",
    "        s=l[-1]+l[-2]\n",
    "        l.append(s)\n",
    "print(l)\n",
    "        "
   ]
  },
  {
   "cell_type": "code",
   "execution_count": 37,
   "metadata": {},
   "outputs": [
    {
     "name": "stdout",
     "output_type": "stream",
     "text": [
      "1634\n",
      "Armstrong Number\n"
     ]
    }
   ],
   "source": [
    "#ques 4\n",
    "a=input(\"\")\n",
    "l=[]\n",
    "count=0\n",
    "for i in range(0,len(a)):\n",
    "    c=a[i]\n",
    "    b=int(c)\n",
    "    t=b**(len(a))\n",
    "    l.append(t)\n",
    "for j in l:\n",
    "    count=count+j\n",
    "f=str(count)\n",
    "if a==f:\n",
    "    print(\"Armstrong Number\")\n",
    "else:\n",
    "    print(\"Not an Armstrong Number\")"
   ]
  },
  {
   "cell_type": "code",
   "execution_count": 51,
   "metadata": {},
   "outputs": [
    {
     "name": "stdout",
     "output_type": "stream",
     "text": [
      "Enter lower limit100\n",
      "Enter upper limit2000\n",
      "153\n",
      "370\n",
      "371\n",
      "407\n",
      "1634\n"
     ]
    }
   ],
   "source": [
    "#ques 5\n",
    "n1=int(input(\"Enter lower limit\"))\n",
    "n2=int(input(\"Enter upper limit\"))\n",
    "for a in range(n1,n2):\n",
    "    a1=str(a)\n",
    "    l=[]\n",
    "    count=0\n",
    "    for i in range(0,len(a1)):\n",
    "        c=a1[i]\n",
    "        b=int(c)\n",
    "        t=b**(len(a1))\n",
    "        l.append(t)\n",
    "    for j in l:\n",
    "        count=count+j\n",
    "    f=str(count)\n",
    "    if a1==f:\n",
    "        print(a1)"
   ]
  },
  {
   "cell_type": "code",
   "execution_count": 55,
   "metadata": {},
   "outputs": [
    {
     "name": "stdout",
     "output_type": "stream",
     "text": [
      "16\n",
      "136\n"
     ]
    }
   ],
   "source": [
    "#ques 6\n",
    "n=int(input(\"\"))\n",
    "l=[]\n",
    "count=0\n",
    "for i in range(1,n+1):\n",
    "    l.append(i)\n",
    "for j in l:\n",
    "    count=count+j\n",
    "print(count)\n",
    "    "
   ]
  },
  {
   "cell_type": "code",
   "execution_count": null,
   "metadata": {},
   "outputs": [],
   "source": []
  }
 ],
 "metadata": {
  "kernelspec": {
   "display_name": "Python 3",
   "language": "python",
   "name": "python3"
  },
  "language_info": {
   "codemirror_mode": {
    "name": "ipython",
    "version": 3
   },
   "file_extension": ".py",
   "mimetype": "text/x-python",
   "name": "python",
   "nbconvert_exporter": "python",
   "pygments_lexer": "ipython3",
   "version": "3.8.5"
  }
 },
 "nbformat": 4,
 "nbformat_minor": 4
}
