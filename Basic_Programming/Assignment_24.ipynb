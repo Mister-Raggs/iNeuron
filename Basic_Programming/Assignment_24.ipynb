{
 "cells": [
  {
   "cell_type": "code",
   "execution_count": 4,
   "metadata": {},
   "outputs": [
    {
     "name": "stdout",
     "output_type": "stream",
     "text": [
      "4\n"
     ]
    },
    {
     "data": {
      "text/plain": [
       "[1, 2, 3, 40]"
      ]
     },
     "execution_count": 4,
     "metadata": {},
     "output_type": "execute_result"
    }
   ],
   "source": [
    "def amplify(n):\n",
    "    l=[]\n",
    "    for i in range(1,n+1):\n",
    "        if i%4==0:\n",
    "            l.append(i*10)\n",
    "        else:\n",
    "            l.append(i)\n",
    "    return l\n",
    "n=int(input(\"\"))\n",
    "amplify(n)"
   ]
  },
  {
   "cell_type": "code",
   "execution_count": 7,
   "metadata": {},
   "outputs": [
    {
     "name": "stdout",
     "output_type": "stream",
     "text": [
      "3,3,3,7,3,3,3\n",
      "7\n"
     ]
    }
   ],
   "source": [
    "def unique(n):\n",
    "    for i in n:\n",
    "        p=n.count(i)\n",
    "        if p==1:\n",
    "            print(i)\n",
    "        else:\n",
    "            continue\n",
    "n=input(\"\").split(sep=\",\")\n",
    "unique(n)"
   ]
  },
  {
   "cell_type": "code",
   "execution_count": 15,
   "metadata": {},
   "outputs": [
    {
     "data": {
      "text/plain": [
       "27.9"
      ]
     },
     "execution_count": 15,
     "metadata": {},
     "output_type": "execute_result"
    }
   ],
   "source": [
    "import numpy as np\n",
    "class Circle():\n",
    "    def __init__(self,r):\n",
    "        self.r=r\n",
    "    def get_area(self):\n",
    "        a=np.pi*(self.r**2)\n",
    "        return round(a,2)\n",
    "    def get_perimeter(self):\n",
    "        p=2*np.pi*self.r\n",
    "        return round(p,2)\n",
    "circy=Circle(4.44)\n",
    "circy.get_perimeter()\n",
    "    "
   ]
  },
  {
   "cell_type": "code",
   "execution_count": 30,
   "metadata": {},
   "outputs": [
    {
     "name": "stdout",
     "output_type": "stream",
     "text": [
      "Turing, Einstein, Jung\n"
     ]
    },
    {
     "data": {
      "text/plain": [
       "[' Jung', 'Turing', ' Einstein']"
      ]
     },
     "execution_count": 30,
     "metadata": {},
     "output_type": "execute_result"
    }
   ],
   "source": [
    "def sort_by_length(n):\n",
    "    n.sort(key=len,reverse=False)\n",
    "    return n\n",
    "n=input(\"\").split(sep=\",\")\n",
    "sort_by_length(n)"
   ]
  },
  {
   "cell_type": "code",
   "execution_count": 38,
   "metadata": {},
   "outputs": [
    {
     "name": "stdout",
     "output_type": "stream",
     "text": [
      "Enter First Number: 3\n",
      "Enter Second Number: 4\n",
      "Enter third Number: 5\n"
     ]
    },
    {
     "data": {
      "text/plain": [
       "True"
      ]
     },
     "execution_count": 38,
     "metadata": {},
     "output_type": "execute_result"
    }
   ],
   "source": [
    "def is_triplet(n1,n2,n3):\n",
    "    if n1<n2<n3:\n",
    "        lhs=(n1**2)+(n2**2)\n",
    "        rhs=n3**2\n",
    "        if lhs==rhs:\n",
    "            return True\n",
    "        else: \n",
    "            return False\n",
    "    elif n1>n2<n3 and n3<n1:\n",
    "        lhs=(n2**2)+(n3**2)\n",
    "        rhs=n1**2\n",
    "        if lhs==rhs:\n",
    "            return True\n",
    "        else: \n",
    "            return False\n",
    "    else:\n",
    "        lhs=(n1**2)+(n3**2)\n",
    "        rhs=n2**2\n",
    "        if lhs==rhs:\n",
    "            return True\n",
    "        else: \n",
    "            return False            \n",
    "n1=int(input(\"Enter First Number: \"))\n",
    "n2=int(input(\"Enter Second Number: \"))\n",
    "n3=int(input(\"Enter third Number: \"))\n",
    "is_triplet(n1,n2,n3)"
   ]
  },
  {
   "cell_type": "code",
   "execution_count": null,
   "metadata": {},
   "outputs": [],
   "source": []
  },
  {
   "cell_type": "code",
   "execution_count": null,
   "metadata": {},
   "outputs": [],
   "source": []
  }
 ],
 "metadata": {
  "kernelspec": {
   "display_name": "Python 3",
   "language": "python",
   "name": "python3"
  },
  "language_info": {
   "codemirror_mode": {
    "name": "ipython",
    "version": 3
   },
   "file_extension": ".py",
   "mimetype": "text/x-python",
   "name": "python",
   "nbconvert_exporter": "python",
   "pygments_lexer": "ipython3",
   "version": "3.8.5"
  }
 },
 "nbformat": 4,
 "nbformat_minor": 4
}
