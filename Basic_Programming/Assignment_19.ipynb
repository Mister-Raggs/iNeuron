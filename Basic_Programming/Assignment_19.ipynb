{
 "cells": [
  {
   "cell_type": "code",
   "execution_count": 7,
   "metadata": {},
   "outputs": [
    {
     "name": "stdout",
     "output_type": "stream",
     "text": [
      "12345!\n",
      "1122334455!!"
     ]
    }
   ],
   "source": [
    "def double_char(a):\n",
    "    for i in a:\n",
    "        print(i+i,end=\"\")\n",
    "    \n",
    "    \n",
    "    \n",
    "    \n",
    "    \n",
    "a=input(\"\")\n",
    "double_char(a)"
   ]
  },
  {
   "cell_type": "code",
   "execution_count": 1,
   "metadata": {},
   "outputs": [
    {
     "data": {
      "text/plain": [
       "False"
      ]
     },
     "execution_count": 1,
     "metadata": {},
     "output_type": "execute_result"
    }
   ],
   "source": [
    "def boolean(a):\n",
    "    if type(a)==bool:\n",
    "        if a==True:\n",
    "            return False\n",
    "        else:\n",
    "            return True\n",
    "    else:\n",
    "        print(\"Boolean expected\")\n",
    "a=True\n",
    "boolean(a)"
   ]
  },
  {
   "cell_type": "code",
   "execution_count": 9,
   "metadata": {},
   "outputs": [
    {
     "data": {
      "text/plain": [
       "1048.576"
      ]
     },
     "execution_count": 9,
     "metadata": {},
     "output_type": "execute_result"
    }
   ],
   "source": [
    "def thick(n):\n",
    "    sum=0.0005\n",
    "    for i in range(n):\n",
    "        sum=sum*2\n",
    "    return sum\n",
    "thick(21)\n",
    "    "
   ]
  },
  {
   "cell_type": "code",
   "execution_count": 11,
   "metadata": {},
   "outputs": [
    {
     "name": "stdout",
     "output_type": "stream",
     "text": [
      "STRIKE\n"
     ]
    },
    {
     "data": {
      "text/plain": [
       "[0, 1, 2, 3, 4, 5]"
      ]
     },
     "execution_count": 11,
     "metadata": {},
     "output_type": "execute_result"
    }
   ],
   "source": [
    "def index_of_caps(a):\n",
    "    l=[]\n",
    "    for i in range(len(a)):\n",
    "        if a[i].isupper():\n",
    "            l.append(i)\n",
    "    return l\n",
    "a=input(\"\")\n",
    "index_of_caps(a)"
   ]
  },
  {
   "cell_type": "code",
   "execution_count": 17,
   "metadata": {},
   "outputs": [
    {
     "name": "stdout",
     "output_type": "stream",
     "text": [
      "2\n"
     ]
    },
    {
     "data": {
      "text/plain": [
       "[2]"
      ]
     },
     "execution_count": 17,
     "metadata": {},
     "output_type": "execute_result"
    }
   ],
   "source": [
    "def even_num(n):\n",
    "    l=[]\n",
    "    for i in range(1,n+1):\n",
    "        if i%2==0:\n",
    "            l.append(i)\n",
    "        else:\n",
    "            continue\n",
    "    return l\n",
    "n=int(input(\"\"))\n",
    "even_num(n)"
   ]
  },
  {
   "cell_type": "code",
   "execution_count": null,
   "metadata": {},
   "outputs": [],
   "source": []
  },
  {
   "cell_type": "code",
   "execution_count": null,
   "metadata": {},
   "outputs": [],
   "source": []
  }
 ],
 "metadata": {
  "kernelspec": {
   "display_name": "Python 3",
   "language": "python",
   "name": "python3"
  },
  "language_info": {
   "codemirror_mode": {
    "name": "ipython",
    "version": 3
   },
   "file_extension": ".py",
   "mimetype": "text/x-python",
   "name": "python",
   "nbconvert_exporter": "python",
   "pygments_lexer": "ipython3",
   "version": "3.8.5"
  }
 },
 "nbformat": 4,
 "nbformat_minor": 4
}
