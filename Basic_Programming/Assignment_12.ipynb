{
 "cells": [
  {
   "cell_type": "code",
   "execution_count": 34,
   "metadata": {},
   "outputs": [
    {
     "name": "stdout",
     "output_type": "stream",
     "text": [
      "[1, 2, 3]\n"
     ]
    }
   ],
   "source": [
    "#ques 1\n",
    "t_dict = {'ak' : 1,\n",
    "             'is' : 2,\n",
    "             'good' : 3,\n",
    "             'if' : 1}\n",
    "a=set()\n",
    "for i in t_dict.values():\n",
    "    a.add(i)\n",
    "print(list(a))"
   ]
  },
  {
   "cell_type": "code",
   "execution_count": 38,
   "metadata": {},
   "outputs": [
    {
     "name": "stdout",
     "output_type": "stream",
     "text": [
      "7\n"
     ]
    }
   ],
   "source": [
    "#ques 2\n",
    "t_dict = {'ak' : 1,\n",
    "             'is' : 2,\n",
    "             'good' : 3,\n",
    "             'if' : 1}\n",
    "sum=0\n",
    "for i in t_dict:\n",
    "    sum=sum+t_dict[i]\n",
    "print(sum)\n",
    "    \n",
    "   "
   ]
  },
  {
   "cell_type": "code",
   "execution_count": 39,
   "metadata": {},
   "outputs": [
    {
     "data": {
      "text/plain": [
       "{'ak': 1, 'is': 2, 'good': 3, 'if': 1, 'aa': 4, 'ff': 31, 'uald': 22}"
      ]
     },
     "execution_count": 39,
     "metadata": {},
     "output_type": "execute_result"
    }
   ],
   "source": [
    "#ques 3\n",
    "t_dict = {'ak' : 1,\n",
    "             'is' : 2,\n",
    "             'good' : 3,\n",
    "             'if' : 1}\n",
    "t1_dict={\"aa\":4,\"ff\":31,\"uald\":22}\n",
    "for i in t1_dict:\n",
    "    t_dict[i]=t1_dict[i]\n",
    "t_dict"
   ]
  },
  {
   "cell_type": "code",
   "execution_count": 60,
   "metadata": {},
   "outputs": [
    {
     "name": "stdout",
     "output_type": "stream",
     "text": [
      "The flat dictionary is: \n",
      "{1: 'mon', 2: 'tue', 3: 'wed', 4: 'thu', 5: 'fri', 6: 'sat', 7: 'sun'}\n"
     ]
    }
   ],
   "source": [
    "#ques 4\n",
    "my_dict = {'day_num' : [1, 2, 3, 4, 5, 6,7], 'name_of_day' : ['mon', 'tue', 'wed', 'thu', 'fri', 'sat','sun']}\n",
    "my_result = dict(zip(my_dict['day_num'], my_dict['name_of_day']))\n",
    "print(\"The flat dictionary is: \")\n",
    "print(my_result)"
   ]
  },
  {
   "cell_type": "code",
   "execution_count": 45,
   "metadata": {},
   "outputs": [
    {
     "data": {
      "text/plain": [
       "OrderedDict([('aaaa', 22), ('ak', 1), ('is', 2), ('good', 3), ('if', 1)])"
      ]
     },
     "execution_count": 45,
     "metadata": {},
     "output_type": "execute_result"
    }
   ],
   "source": [
    "#ques 5\n",
    "from collections import OrderedDict\n",
    "t_dict = {'ak' : 1,\n",
    "             'is' : 2,\n",
    "             'good' : 3,\n",
    "             'if' : 1}\n",
    "b_dict=OrderedDict(t_dict)\n",
    "b_dict.update({\"aaaa\":22})\n",
    "b_dict.move_to_end(\"aaaa\",last=False)\n",
    "b_dict"
   ]
  },
  {
   "cell_type": "code",
   "execution_count": 47,
   "metadata": {},
   "outputs": [
    {
     "name": "stdout",
     "output_type": "stream",
     "text": [
      "The order of pattern is correct\n"
     ]
    }
   ],
   "source": [
    "#ques 6\n",
    "from collections import OrderedDict\n",
    "def check_order(my_input, my_pattern):\n",
    "    my_dict = OrderedDict.fromkeys(my_input)\n",
    "    pattern_length = 0\n",
    "    for key,value in my_dict.items():\n",
    "        if (key == my_pattern[pattern_length]):\n",
    "            pattern_length = pattern_length + 1\n",
    "        if (pattern_length == (len(my_pattern))):\n",
    "            return 'The order of pattern is correct'\n",
    "\n",
    "    return 'The order of pattern is incorrect'\n",
    "my_input = 'Hi Ayush'\n",
    "input_pattern = 'Ayu'\n",
    "print(check_order(my_input,input_pattern))"
   ]
  },
  {
   "cell_type": "code",
   "execution_count": 57,
   "metadata": {},
   "outputs": [
    {
     "data": {
      "text/plain": [
       "['ak', 'good', 'if', 'is']"
      ]
     },
     "execution_count": 57,
     "metadata": {},
     "output_type": "execute_result"
    }
   ],
   "source": [
    "#ques 7\n",
    "t_dict = {'ak' : 1,\n",
    "             'is' : 2,\n",
    "             'good' : 3,\n",
    "             'if' : 1}\n",
    "l=[]\n",
    "for i in t_dict.items():\n",
    "    l.append(i[0])\n",
    "l.sort()\n",
    "l"
   ]
  },
  {
   "cell_type": "code",
   "execution_count": null,
   "metadata": {},
   "outputs": [],
   "source": []
  }
 ],
 "metadata": {
  "kernelspec": {
   "display_name": "Python 3",
   "language": "python",
   "name": "python3"
  },
  "language_info": {
   "codemirror_mode": {
    "name": "ipython",
    "version": 3
   },
   "file_extension": ".py",
   "mimetype": "text/x-python",
   "name": "python",
   "nbconvert_exporter": "python",
   "pygments_lexer": "ipython3",
   "version": "3.8.5"
  }
 },
 "nbformat": 4,
 "nbformat_minor": 4
}
