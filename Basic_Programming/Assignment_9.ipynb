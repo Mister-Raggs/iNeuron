{
 "cells": [
  {
   "cell_type": "code",
   "execution_count": 7,
   "metadata": {},
   "outputs": [
    {
     "name": "stdout",
     "output_type": "stream",
     "text": [
      "175\n",
      "[1, 49, 125]\n",
      "Disaparium = 175\n"
     ]
    }
   ],
   "source": [
    "#ques 1\n",
    "n=input(\"\")\n",
    "l=[]\n",
    "count=0\n",
    "for i in n:\n",
    "        num=int(i)\n",
    "        s=num**int((n.index(i)+1))\n",
    "        l.append(s)\n",
    "print(l)\n",
    "for k in l:\n",
    "    count=count+k\n",
    "    b=str(count)\n",
    "if b==n:\n",
    "    print(\"Disaparium =\",b)\n",
    "        "
   ]
  },
  {
   "cell_type": "code",
   "execution_count": 19,
   "metadata": {},
   "outputs": [
    {
     "name": "stdout",
     "output_type": "stream",
     "text": [
      "Disarium numbers between 1 and 100 are\n",
      "1\n",
      "2\n",
      "3\n",
      "4\n",
      "5\n",
      "6\n",
      "7\n",
      "8\n",
      "9\n",
      "89\n"
     ]
    }
   ],
   "source": [
    "#ques 2\n",
    "def Length(n):  \n",
    "    length = 0;  \n",
    "    while(n != 0):  \n",
    "        length = length + 1;  \n",
    "        n = n//10;  \n",
    "    return length;  \n",
    "def sum_digits(num):  \n",
    "    rem = sum = 0;  \n",
    "    len = Length(num);        \n",
    "    while(num > 0):  \n",
    "        rem = num%10;  \n",
    "        sum = sum + (rem**len);  \n",
    "        num = num//10;  \n",
    "        len = len - 1;  \n",
    "    return sum;     \n",
    "result = 0;   \n",
    "print(\"Disarium numbers between 1 and 100 are\");  \n",
    "for i in range(1, 101):  \n",
    "    result = sum_digits(i)   \n",
    "    if(result == i):  \n",
    "        print(i) \n"
   ]
  },
  {
   "cell_type": "code",
   "execution_count": 4,
   "metadata": {},
   "outputs": [
    {
     "name": "stdout",
     "output_type": "stream",
     "text": [
      "Enter the number you want to check19\n",
      "19 is a happy number\n"
     ]
    }
   ],
   "source": [
    "#ques 3\n",
    "def isHappyNumber(n):    \n",
    "    remen = sum = 0     \n",
    "    while(n > 0):    \n",
    "        remen = n%10;    \n",
    "        sum = sum + (remen*remen)   \n",
    "        n = n//10    \n",
    "    return sum    \n",
    "        \n",
    "n=int(input(\"Enter the number you want to check\"))    \n",
    "result = n    \n",
    "     \n",
    "while(result != 1 and result!=4):    \n",
    "    result = isHappyNumber(result)       \n",
    "if(result == 1):    \n",
    "    print(str(n) + \" is a happy number\")  "
   ]
  },
  {
   "cell_type": "code",
   "execution_count": 1,
   "metadata": {},
   "outputs": [
    {
     "name": "stdout",
     "output_type": "stream",
     "text": [
      "1\n",
      "7\n",
      "10\n",
      "13\n",
      "19\n",
      "23\n",
      "28\n",
      "31\n",
      "32\n",
      "44\n",
      "49\n",
      "68\n",
      "70\n",
      "79\n",
      "82\n",
      "86\n",
      "91\n",
      "94\n",
      "97\n",
      "100\n"
     ]
    }
   ],
   "source": [
    "#ques 4\n",
    "def isHappyNumber(n):    \n",
    "    remen = sum = 0     \n",
    "    while(n > 0):    \n",
    "        remen = n%10;    \n",
    "        sum = sum + (remen*remen)   \n",
    "        n = n//10\n",
    "    return sum\n",
    "for i in range(1,101):\n",
    "    result=i\n",
    "    while(result != 1 and result != 4): \n",
    "        result=isHappyNumber(result)      \n",
    "    if( result==1):    \n",
    "        print(i) "
   ]
  },
  {
   "cell_type": "code",
   "execution_count": 2,
   "metadata": {},
   "outputs": [
    {
     "name": "stdout",
     "output_type": "stream",
     "text": [
      "Enter the number to check:  156\n",
      "156 is a harshad number\n"
     ]
    }
   ],
   "source": [
    "#ques 5\n",
    "num1=int(input(\"Enter the number to check:  \"))\n",
    "rem = sum = 0\n",
    "num=num1\n",
    "while(num1 > 0):    \n",
    "    rem = num1%10   \n",
    "    sum = sum + rem    \n",
    "    num1 = num1//10\n",
    "if(num%sum == 0):    \n",
    "    print(str(num) + \" is a harshad number\")    \n",
    "else:    \n",
    "    print(str(num) + \" is not a harshad number\")   "
   ]
  },
  {
   "cell_type": "code",
   "execution_count": 3,
   "metadata": {},
   "outputs": [
    {
     "name": "stdout",
     "output_type": "stream",
     "text": [
      "Pronic numbers between the interval are \n",
      "2\n",
      "6\n",
      "12\n",
      "20\n",
      "30\n",
      "42\n",
      "56\n",
      "72\n",
      "90\n"
     ]
    }
   ],
   "source": [
    "#ques 6\n",
    "def is_Pronic_Number(num):    \n",
    "    flag = False       \n",
    "    for j in range(1, num+1):       \n",
    "        if((j*(j+1)) == num):    \n",
    "            flag = True    \n",
    "            break   \n",
    "    return flag      \n",
    "print(\"Pronic numbers between the interval are \")   \n",
    "for i in range(1, 101):    \n",
    "    if(is_Pronic_Number(i)):    \n",
    "        print(i)"
   ]
  },
  {
   "cell_type": "code",
   "execution_count": null,
   "metadata": {},
   "outputs": [],
   "source": []
  }
 ],
 "metadata": {
  "kernelspec": {
   "display_name": "Python 3",
   "language": "python",
   "name": "python3"
  },
  "language_info": {
   "codemirror_mode": {
    "name": "ipython",
    "version": 3
   },
   "file_extension": ".py",
   "mimetype": "text/x-python",
   "name": "python",
   "nbconvert_exporter": "python",
   "pygments_lexer": "ipython3",
   "version": "3.8.5"
  }
 },
 "nbformat": 4,
 "nbformat_minor": 4
}
