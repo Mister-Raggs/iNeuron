{
 "cells": [
  {
   "cell_type": "code",
   "execution_count": 10,
   "metadata": {},
   "outputs": [
    {
     "name": "stdout",
     "output_type": "stream",
     "text": [
      "Enter word: enthusiastic\n",
      "en...  en...  enthusiastic?\n"
     ]
    }
   ],
   "source": [
    "#ques 1\n",
    "l=[]\n",
    "def stutter(word):\n",
    "    for i in word:\n",
    "        l.append(i)\n",
    "word=input(\"Enter word: \")\n",
    "stutter(word)\n",
    "a=l[0]+l[1]\n",
    "print(a+\"... \",a+\"... \",word+\"?\")"
   ]
  },
  {
   "cell_type": "code",
   "execution_count": 13,
   "metadata": {},
   "outputs": [
    {
     "name": "stdout",
     "output_type": "stream",
     "text": [
      "20\n"
     ]
    },
    {
     "data": {
      "text/plain": [
       "1145.9"
      ]
     },
     "execution_count": 13,
     "metadata": {},
     "output_type": "execute_result"
    }
   ],
   "source": [
    "#ques 2\n",
    "import numpy as np\n",
    "def radians_to_degree(n):\n",
    "    q=round(n*(180/np.pi),ndigits=1)\n",
    "    return q\n",
    "n=int(input(\"\"))\n",
    "radians_to_degree(n)"
   ]
  },
  {
   "cell_type": "code",
   "execution_count": 16,
   "metadata": {},
   "outputs": [
    {
     "name": "stdout",
     "output_type": "stream",
     "text": [
      "14\n"
     ]
    },
    {
     "data": {
      "text/plain": [
       "True"
      ]
     },
     "execution_count": 16,
     "metadata": {},
     "output_type": "execute_result"
    }
   ],
   "source": [
    "#ques 3\n",
    "def is_curzon(n):\n",
    "    a=(2**n)+1\n",
    "    b=(2*n)+1\n",
    "    if a%b==0:\n",
    "        return True\n",
    "    else:\n",
    "        return False\n",
    "n=int(input(\"\"))\n",
    "is_curzon(n)"
   ]
  },
  {
   "cell_type": "code",
   "execution_count": 20,
   "metadata": {},
   "outputs": [
    {
     "name": "stdout",
     "output_type": "stream",
     "text": [
      "3\n"
     ]
    },
    {
     "data": {
      "text/plain": [
       "23.4"
      ]
     },
     "execution_count": 20,
     "metadata": {},
     "output_type": "execute_result"
    }
   ],
   "source": [
    "#ques 4\n",
    "def area_of_hexagon(x):\n",
    "    area=round(((3*(np.sqrt(3)))/2)*(x**2),ndigits=1)\n",
    "    return area\n",
    "x=int(input(\"\"))\n",
    "area_of_hexagon(x)"
   ]
  },
  {
   "cell_type": "code",
   "execution_count": 94,
   "metadata": {},
   "outputs": [
    {
     "name": "stdout",
     "output_type": "stream",
     "text": [
      "10\n",
      "['1', '0', '1', '0']\n",
      "10\n"
     ]
    }
   ],
   "source": [
    "#ques 5\n",
    "def binary(n):\n",
    "    b=bin(n)\n",
    "    l=[]\n",
    "    sum1=0\n",
    "    for i in b[2:]:\n",
    "        if i.isdigit():\n",
    "            l.append((i))\n",
    "        else:continue\n",
    "    print(l)\n",
    "    for j in range(len(l)):\n",
    "        if l[::-1][j]==\"1\":\n",
    "            q=1*(2**(j))\n",
    "            sum1=sum1+q\n",
    "        else:\n",
    "            continue\n",
    "\n",
    "    print(str(sum1))\n",
    "n=int(input(\"\"))\n",
    "binary"
   ]
  },
  {
   "cell_type": "code",
   "execution_count": null,
   "metadata": {},
   "outputs": [],
   "source": []
  },
  {
   "cell_type": "code",
   "execution_count": null,
   "metadata": {},
   "outputs": [],
   "source": []
  },
  {
   "cell_type": "code",
   "execution_count": null,
   "metadata": {},
   "outputs": [],
   "source": [
    "\n"
   ]
  },
  {
   "cell_type": "code",
   "execution_count": null,
   "metadata": {},
   "outputs": [],
   "source": []
  }
 ],
 "metadata": {
  "kernelspec": {
   "display_name": "Python 3",
   "language": "python",
   "name": "python3"
  },
  "language_info": {
   "codemirror_mode": {
    "name": "ipython",
    "version": 3
   },
   "file_extension": ".py",
   "mimetype": "text/x-python",
   "name": "python",
   "nbconvert_exporter": "python",
   "pygments_lexer": "ipython3",
   "version": "3.8.5"
  }
 },
 "nbformat": 4,
 "nbformat_minor": 4
}
