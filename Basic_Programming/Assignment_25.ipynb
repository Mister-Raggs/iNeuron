{
 "cells": [
  {
   "cell_type": "code",
   "execution_count": 5,
   "metadata": {},
   "outputs": [
    {
     "name": "stdout",
     "output_type": "stream",
     "text": [
      "4\n",
      "3\n",
      "4\n"
     ]
    },
    {
     "data": {
      "text/plain": [
       "2"
      ]
     },
     "execution_count": 5,
     "metadata": {},
     "output_type": "execute_result"
    }
   ],
   "source": [
    "def equal(a,b,c):\n",
    "    if a==b==c:\n",
    "        return 3\n",
    "    elif a==b!=c or a!=b==c or a==c!=b:\n",
    "        return 2\n",
    "    else: return 0\n",
    "a=int(input(\"\"))\n",
    "b=int(input(\"\"))\n",
    "c=int(input(\"\"))\n",
    "equal(a,b,c)\n",
    "        "
   ]
  },
  {
   "cell_type": "code",
   "execution_count": 44,
   "metadata": {},
   "outputs": [
    {
     "name": "stdout",
     "output_type": "stream",
     "text": [
      "[('B', 2), ('C', 3), ('D', 1)]\n"
     ]
    }
   ],
   "source": [
    "def dict_to_tup(n):\n",
    "    l = list(n.items())\n",
    "    l.sort()\n",
    "    print(l)\n",
    "n={\"D\": 1,\n",
    "\"B\": 2,\n",
    "\"C\": 3}\n",
    "dict_to_tup(n)"
   ]
  },
  {
   "cell_type": "code",
   "execution_count": 48,
   "metadata": {},
   "outputs": [
    {
     "name": "stdout",
     "output_type": "stream",
     "text": [
      "r,a,y,v,e,q\n"
     ]
    },
    {
     "data": {
      "text/plain": [
       "{'r': 'R', 'a': 'A', 'y': 'Y', 'v': 'V', 'e': 'E', 'q': 'Q'}"
      ]
     },
     "execution_count": 48,
     "metadata": {},
     "output_type": "execute_result"
    }
   ],
   "source": [
    "def mapping(n):\n",
    "    dic={}\n",
    "    for i in n:\n",
    "        dic[i]=i.upper()\n",
    "    return dic\n",
    "n=input(\"\").split(sep=\",\")\n",
    "mapping(n)"
   ]
  },
  {
   "cell_type": "code",
   "execution_count": 21,
   "metadata": {},
   "outputs": [
    {
     "name": "stdout",
     "output_type": "stream",
     "text": [
      "banana and apple\n",
      "u\n"
     ]
    },
    {
     "data": {
      "text/plain": [
       "'bununu und upplu'"
      ]
     },
     "execution_count": 21,
     "metadata": {},
     "output_type": "execute_result"
    }
   ],
   "source": [
    "def rep_vowels(n,r):\n",
    "    vowels=\"aeiou\"\n",
    "    for i in vowels:\n",
    "            n=n.replace(i,r)\n",
    "    return n\n",
    "n=input(\"\")\n",
    "r=input(\"\")\n",
    "rep_vowels(n,r)"
   ]
  },
  {
   "cell_type": "code",
   "execution_count": 40,
   "metadata": {},
   "outputs": [
    {
     "data": {
      "text/plain": [
       "'THe LiTTLe meRmaiD'"
      ]
     },
     "execution_count": 40,
     "metadata": {},
     "output_type": "execute_result"
    }
   ],
   "source": [
    "def ascii_cap(n):\n",
    "    l=[]\n",
    "    for i in n:\n",
    "        if ord(i)%2==0:\n",
    "            l.append(str(i).upper())\n",
    "        else:\n",
    "            l.append(str(i).lower())\n",
    "    return \"\".join(l)\n",
    "n=input(\"\")\n",
    "ascii_cap(n)"
   ]
  },
  {
   "cell_type": "code",
   "execution_count": null,
   "metadata": {},
   "outputs": [],
   "source": []
  },
  {
   "cell_type": "code",
   "execution_count": null,
   "metadata": {},
   "outputs": [],
   "source": []
  }
 ],
 "metadata": {
  "kernelspec": {
   "display_name": "Python 3",
   "language": "python",
   "name": "python3"
  },
  "language_info": {
   "codemirror_mode": {
    "name": "ipython",
    "version": 3
   },
   "file_extension": ".py",
   "mimetype": "text/x-python",
   "name": "python",
   "nbconvert_exporter": "python",
   "pygments_lexer": "ipython3",
   "version": "3.8.5"
  }
 },
 "nbformat": 4,
 "nbformat_minor": 4
}
