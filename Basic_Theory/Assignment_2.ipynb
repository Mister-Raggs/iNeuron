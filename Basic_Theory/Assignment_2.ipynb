{
 "cells": [
  {
   "cell_type": "code",
   "execution_count": null,
   "metadata": {},
   "outputs": [],
   "source": [
    "#ques 1\n",
    "two values of boolean data type is true and false\n",
    "True\n",
    "False"
   ]
  },
  {
   "cell_type": "code",
   "execution_count": null,
   "metadata": {},
   "outputs": [],
   "source": [
    "#ques 2\n",
    "the three boolean operators are\n",
    "1.and\n",
    "2.or\n",
    "3.not"
   ]
  },
  {
   "cell_type": "code",
   "execution_count": null,
   "metadata": {},
   "outputs": [],
   "source": [
    "#ques 3\n",
    "not\n",
    "true false\n",
    "false true\n",
    "and\n",
    "true and false  false\n",
    "true and true   true\n",
    "false and true  false\n",
    "false and false false\n",
    "or\n",
    "true or false  true\n",
    "true or true true\n",
    "false or true true\n",
    "false or false false\n"
   ]
  },
  {
   "cell_type": "code",
   "execution_count": null,
   "metadata": {},
   "outputs": [],
   "source": [
    "#ques 4\n",
    "false\n",
    "false\n",
    "true\n",
    "false\n",
    "false \n",
    "true"
   ]
  },
  {
   "cell_type": "code",
   "execution_count": null,
   "metadata": {},
   "outputs": [],
   "source": [
    "#ques 5\n",
    "six comparison operators\n",
    "<,>,==,!=,<=,>="
   ]
  },
  {
   "cell_type": "code",
   "execution_count": null,
   "metadata": {},
   "outputs": [],
   "source": [
    "#ques 6\n",
    "assignment operator is used  assign a value to a variable,whereas the  equal operators are used to compare the values\n",
    "for eg\n",
    "a=5(this is assignment)\n",
    "b=5\n",
    "a==b(this is equal used to check wheather these both are equal it always returns true and false)"
   ]
  },
  {
   "cell_type": "code",
   "execution_count": 2,
   "metadata": {},
   "outputs": [
    {
     "name": "stdout",
     "output_type": "stream",
     "text": [
      "ham\n",
      "spam\n",
      "spam\n"
     ]
    }
   ],
   "source": [
    "# ques 7\n",
    "spam = 0\n",
    "if spam == 10:\n",
    "    print(\"eggs\")\n",
    "if spam>5:\n",
    "    print(\"bacon\")\n",
    "else:\n",
    "     print(\"ham\")\n",
    "     print(\"spam\")\n",
    "     print(\"spam\")"
   ]
  },
  {
   "cell_type": "code",
   "execution_count": 3,
   "metadata": {},
   "outputs": [
    {
     "name": "stdout",
     "output_type": "stream",
     "text": [
      "enter a value5\n",
      "greetings\n"
     ]
    }
   ],
   "source": [
    "#ques 8\n",
    "spam=int(input(\"enter a value\"))\n",
    "if spam==1:\n",
    "    print(\"hello\")\n",
    "elif spam==2:\n",
    "    print(\"howdy\")\n",
    "else:\n",
    "    print(\"greetings\")"
   ]
  },
  {
   "cell_type": "markdown",
   "metadata": {},
   "source": [
    "#9\n",
    "ctrl+c"
   ]
  },
  {
   "cell_type": "code",
   "execution_count": null,
   "metadata": {},
   "outputs": [],
   "source": [
    "#ques 10\n",
    "break statement is used to teminate the loop after getting the desired output\n",
    "continue statement is used to take next iteration into consideratiom skipping the values inside the body\n",
    "for eg:\n",
    "for i in range(1,10):\n",
    "    if i==5:\n",
    "        break\n",
    "    else:\n",
    "        print(i)#this will print i till 5\n",
    "\n",
    "        \n",
    "for i in range(1,10):   \n",
    "    if i==5:\n",
    "         continue\n",
    "    else:\n",
    "         print(i)#this will print 1 to 10 except 5\n",
    "\n",
    "    "
   ]
  },
  {
   "cell_type": "code",
   "execution_count": null,
   "metadata": {},
   "outputs": [],
   "source": [
    "#ques 11\n",
    "range(10) range(0,10),range(0,10,1)\n",
    "all will give the same output, all will be excluding 10"
   ]
  },
  {
   "cell_type": "code",
   "execution_count": 4,
   "metadata": {},
   "outputs": [
    {
     "name": "stdout",
     "output_type": "stream",
     "text": [
      "1\n",
      "2\n",
      "3\n",
      "4\n",
      "5\n",
      "6\n",
      "7\n",
      "8\n",
      "9\n",
      "10\n"
     ]
    }
   ],
   "source": [
    "#ques 12\n",
    "for i in range(1,11):\n",
    "    print(i)\n",
    "    "
   ]
  },
  {
   "cell_type": "code",
   "execution_count": 5,
   "metadata": {},
   "outputs": [
    {
     "name": "stdout",
     "output_type": "stream",
     "text": [
      "1\n",
      "2\n",
      "3\n",
      "4\n",
      "5\n",
      "6\n",
      "7\n",
      "8\n",
      "9\n",
      "10\n"
     ]
    }
   ],
   "source": [
    "#ques 12\n",
    "i=1\n",
    "while i<=10:\n",
    "    print(i)\n",
    "    i=i+1"
   ]
  },
  {
   "cell_type": "code",
   "execution_count": null,
   "metadata": {},
   "outputs": [],
   "source": [
    "#ques 13\n",
    "import spam\n",
    "spam.bacon()"
   ]
  }
 ],
 "metadata": {
  "kernelspec": {
   "display_name": "Python 3",
   "language": "python",
   "name": "python3"
  },
  "language_info": {
   "codemirror_mode": {
    "name": "ipython",
    "version": 3
   },
   "file_extension": ".py",
   "mimetype": "text/x-python",
   "name": "python",
   "nbconvert_exporter": "python",
   "pygments_lexer": "ipython3",
   "version": "3.8.5"
  }
 },
 "nbformat": 4,
 "nbformat_minor": 4
}
