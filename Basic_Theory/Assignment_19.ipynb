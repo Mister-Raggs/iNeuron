{
 "cells": [
  {
   "cell_type": "markdown",
   "metadata": {},
   "source": [
    "1. Make a class called Thing with no contents and print it. Then, create an object called example\n",
    "from this class and also print it. Are the printed values the same or different?\n",
    "2. Create a new class called Thing2 and add the value &#39;abc&#39; to the letters class attribute. Letters\n",
    "should be printed.\n",
    "3. Make yet another class called, of course, Thing3. This time, assign the value &#39;xyz&#39; to an instance\n",
    "(object) attribute called letters. Print letters. Do you need to make an object from the class to do\n",
    "this?\n",
    "4. Create an Element class with the instance attributes name, symbol, and number. Create a class\n",
    "object with the values &#39;Hydrogen,&#39; &#39;H,&#39; and 1.\n",
    "5. Make a dictionary with these keys and values: &#39;name&#39;: &#39;Hydrogen&#39;, &#39;symbol&#39;: &#39;H&#39;, &#39;number&#39;: 1. Then,\n",
    "create an object called hydrogen from class Element using this dictionary.\n",
    "6. For the Element class, define a method called dump() that prints the values of the object’s\n",
    "attributes (name, symbol, and number). Create the hydrogen object from this new definition and\n",
    "use dump() to print its attributes.\n",
    "7. Call print(hydrogen). In the definition of Element, change the name of method dump to __str__,\n",
    "create a new hydrogen object, and call print(hydrogen) again.\n",
    "8. Modify Element to make the attributes name, symbol, and number private. Define a getter\n",
    "property for each to return its value.\n",
    "9. Define three classes: Bear, Rabbit, and Octothorpe. For each, define only one method: eats(). This\n",
    "should return &#39;berries&#39; (Bear), &#39;clover&#39; (Rabbit), or &#39;campers&#39; (Octothorpe). Create one object from\n",
    "each and print what it eats.\n",
    "10. Define these classes: Laser, Claw, and SmartPhone. Each has only one method: does(). This\n",
    "returns &#39;disintegrate&#39; (Laser), &#39;crush&#39; (Claw), or &#39;ring&#39; (SmartPhone). Then, define the class Robot that\n",
    "has one instance (object) of each of these. Define a does() method for the Robot that prints what its\n",
    "component objects do."
   ]
  },
  {
   "cell_type": "code",
   "execution_count": 2,
   "metadata": {},
   "outputs": [
    {
     "name": "stdout",
     "output_type": "stream",
     "text": [
      "<class '__main__.thing'>\n",
      "<__main__.thing object at 0x0000025CA5BF9520>\n"
     ]
    }
   ],
   "source": [
    "#ques1\n",
    "class thing:\n",
    "    pass\n",
    "example=thing()\n",
    "print(thing)\n",
    "print(example)\n",
    "#both are differnt "
   ]
  },
  {
   "cell_type": "code",
   "execution_count": 5,
   "metadata": {},
   "outputs": [
    {
     "data": {
      "text/plain": [
       "'abc'"
      ]
     },
     "execution_count": 5,
     "metadata": {},
     "output_type": "execute_result"
    }
   ],
   "source": [
    "#ques2\n",
    "class thing2:\n",
    "    letters=\"abc\"\n",
    "thing2.letters\n",
    "    "
   ]
  },
  {
   "cell_type": "code",
   "execution_count": 8,
   "metadata": {},
   "outputs": [
    {
     "name": "stdout",
     "output_type": "stream",
     "text": [
      "xyz\n"
     ]
    }
   ],
   "source": [
    "#ques3\n",
    "class thing3:\n",
    "    def __init__(self,w):\n",
    "        self.w=w\n",
    "    def letters(self):\n",
    "        print(self.w)\n",
    "thing3(\"xyz\").letters()\n",
    "#no need to create an object"
   ]
  },
  {
   "cell_type": "code",
   "execution_count": 9,
   "metadata": {},
   "outputs": [],
   "source": [
    "#ques4\n",
    "class element:\n",
    "    def __init__(self,name,symbol,number):\n",
    "        self.name=name\n",
    "        self.symbol=symbol\n",
    "        self.number=number\n",
    "hydrogen=element(\"hydrogen\",\"H\",1)\n",
    "    "
   ]
  },
  {
   "cell_type": "code",
   "execution_count": 11,
   "metadata": {},
   "outputs": [],
   "source": [
    "#ques5\n",
    "d={\"name\":\"hydrogen\",\"symbol\":\"h\",\"number\":1}\n",
    "hydrogen=element(**d)"
   ]
  },
  {
   "cell_type": "code",
   "execution_count": 14,
   "metadata": {},
   "outputs": [
    {
     "name": "stdout",
     "output_type": "stream",
     "text": [
      "hydrogen H 1\n"
     ]
    }
   ],
   "source": [
    "#ques6\n",
    "class element:\n",
    "    def __init__(self,name,symbol,number):\n",
    "        self.name=name\n",
    "        self.symbol=symbol\n",
    "        self.number=number\n",
    "    def dump(self):\n",
    "        print(self.name,self.symbol,self.number)\n",
    "hydrogen=element(\"hydrogen\",\"H\",1)\n",
    "hydrogen.dump()       \n",
    "    "
   ]
  },
  {
   "cell_type": "code",
   "execution_count": 19,
   "metadata": {},
   "outputs": [
    {
     "name": "stdout",
     "output_type": "stream",
     "text": [
      "hydrogen,H,1\n"
     ]
    }
   ],
   "source": [
    "#ques7\n",
    "class element:\n",
    "    def __init__(self,name,symbol,number):\n",
    "        self.name=name\n",
    "        self.symbol=symbol\n",
    "        self.number=number\n",
    "    def __str__(self):\n",
    "        return \"{},{},{}\".format(self.name,self.symbol,self.number)\n",
    "hydrogen=element(\"hydrogen\",\"H\",1)\n",
    "print(hydrogen)"
   ]
  },
  {
   "cell_type": "code",
   "execution_count": 26,
   "metadata": {},
   "outputs": [
    {
     "name": "stdout",
     "output_type": "stream",
     "text": [
      "hydrogen\n",
      "H\n",
      "1\n"
     ]
    }
   ],
   "source": [
    "#ques8\n",
    "class Element(): \n",
    "    def __init__(self ,name,symbol,number):\n",
    "        self.__name = name\n",
    "        self.__symbol = symbol\n",
    "        self.__number = number\n",
    "    def name(self):\n",
    "        return (self.__name)\n",
    "    def symbol(self):\n",
    "        return (self.__symbol)\n",
    "    def number(self):\n",
    "        return (self.__number)\n",
    "hydrogen=element(\"hydrogen\",\"H\",1)\n",
    "print(hydrogen.name)\n",
    "print(hydrogen.symbol)\n",
    "print(hydrogen.number)"
   ]
  },
  {
   "cell_type": "code",
   "execution_count": 30,
   "metadata": {},
   "outputs": [
    {
     "name": "stdout",
     "output_type": "stream",
     "text": [
      "berries\n",
      "clover\n",
      "campers\n"
     ]
    }
   ],
   "source": [
    "#ques9\n",
    "#efine three classes: Bear, Rabbit, and Octothorpe. For each, define only one method:\n",
    "#eats(). This should return 'berries' (Bear), 'clover' (Rabbit), or 'campers' (Octothorpe).\n",
    "#Create one object from each and print what it eats.\n",
    "class bear:\n",
    "    def eats(self):\n",
    "        print(\"berries\")\n",
    "class rabbit:\n",
    "    def eats(self):\n",
    "        print(\"clover\")\n",
    "class octothorpe:\n",
    "    def eats(self):\n",
    "        print(\"campers\")\n",
    "b=bear()\n",
    "b.eats()\n",
    "r=rabbit()\n",
    "r.eats()\n",
    "o=octothorpe()\n",
    "o.eats()"
   ]
  },
  {
   "cell_type": "code",
   "execution_count": 44,
   "metadata": {},
   "outputs": [],
   "source": [
    "#ques10\n",
    "#Define these classes: Laser, Claw, and SmartPhone. \n",
    "#Each has only one method: does(). This returns 'disintegrate' (Laser), 'crush' (Claw), or 'ring' (SmartPhone). \n",
    "#Then, define the class Robot that has one instance (object) of each of these. \n",
    "#Define a does() method for the Robot that prints what its component objects do.\n",
    "class laser:\n",
    "    def does(self):\n",
    "        print(\"disintegrate\")\n",
    "class claw:\n",
    "    def does(self):\n",
    "        print(\"crush\")\n",
    "class smartphone:\n",
    "    def does(self):\n",
    "        print(\"ring\")\n",
    "c=claw()\n",
    "s=smartphone()\n"
   ]
  },
  {
   "cell_type": "code",
   "execution_count": 14,
   "metadata": {},
   "outputs": [
    {
     "data": {
      "text/plain": [
       "('disintegrate', 'crush', 'ring')"
      ]
     },
     "execution_count": 14,
     "metadata": {},
     "output_type": "execute_result"
    }
   ],
   "source": [
    "#ques11\n",
    "class laser:\n",
    "    def does(self):\n",
    "        return \"disintegrate\"\n",
    "class claw:\n",
    "    def does(self):\n",
    "        return \"crush\"\n",
    "class smartphone:\n",
    "    def does(self):\n",
    "        return \"ring\" \n",
    "class robot():\n",
    "    def __init__(self,x,y,z):\n",
    "        self.x=x\n",
    "        self.y=y\n",
    "        self.z=z\n",
    "    def does(self):\n",
    "        return self.x.does(),self.y.does(),self.z.does()\n",
    "l=laser()\n",
    "c=claw()\n",
    "s=smartphone()\n",
    "r=robot(l,c,s)\n",
    "r.does()\n",
    "\n",
    "    \n",
    "               "
   ]
  },
  {
   "cell_type": "code",
   "execution_count": null,
   "metadata": {},
   "outputs": [],
   "source": []
  },
  {
   "cell_type": "code",
   "execution_count": null,
   "metadata": {},
   "outputs": [],
   "source": []
  }
 ],
 "metadata": {
  "kernelspec": {
   "display_name": "Python 3",
   "language": "python",
   "name": "python3"
  },
  "language_info": {
   "codemirror_mode": {
    "name": "ipython",
    "version": 3
   },
   "file_extension": ".py",
   "mimetype": "text/x-python",
   "name": "python",
   "nbconvert_exporter": "python",
   "pygments_lexer": "ipython3",
   "version": "3.8.5"
  }
 },
 "nbformat": 4,
 "nbformat_minor": 4
}
