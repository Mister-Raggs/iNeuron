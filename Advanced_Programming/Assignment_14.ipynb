{
 "cells": [
  {
   "cell_type": "markdown",
   "metadata": {},
   "source": [
    "Given a list of numbers, create a function that removes 25% from every\n",
    "number in the list except the smallest number, and adds the total amount\n",
    "removed to the smallest number."
   ]
  },
  {
   "cell_type": "code",
   "execution_count": 3,
   "metadata": {},
   "outputs": [
    {
     "data": {
      "text/plain": [
       "[3, 3, 3]"
      ]
     },
     "execution_count": 3,
     "metadata": {},
     "output_type": "execute_result"
    }
   ],
   "source": [
    "def show_love(l):\n",
    "    mi=min(l)\n",
    "    index=l.index(mi)\n",
    "    m=[]\n",
    "    k=[]\n",
    "    s=0\n",
    "    k.append(int(mi))\n",
    "    l.remove(mi)\n",
    "    for i in l:\n",
    "        m.append(int(i*75/100))\n",
    "        j=i*25/100\n",
    "\n",
    "        k.append(int(j))\n",
    "    for i in k:\n",
    "        s=s+i\n",
    "    m.insert(index,int(s))\n",
    "    return(m)\n",
    "show_love([4,1,4])"
   ]
  },
  {
   "cell_type": "markdown",
   "metadata": {},
   "source": [
    "Create a function that takes in two words as input and returns a list of three\n",
    "elements, in the following order:\n",
    "1.Shared letters between two words.\n",
    "2.Letters unique to word 1.\n",
    "3.Letters unique to word 2."
   ]
  },
  {
   "cell_type": "code",
   "execution_count": 4,
   "metadata": {},
   "outputs": [
    {
     "data": {
      "text/plain": [
       "['enp', 'ahis', 'lov']"
      ]
     },
     "execution_count": 4,
     "metadata": {},
     "output_type": "execute_result"
    }
   ],
   "source": [
    "def letters(s,r):\n",
    "    l=[]\n",
    "    k=[]\n",
    "    j=[]\n",
    "    n=[]\n",
    "    for i in s:\n",
    "        if i in r:\n",
    "            l.append(i)\n",
    "    l=set(l)\n",
    "    l=list(l)\n",
    "    l.sort()\n",
    "    x=\"\".join(l)\n",
    "    k.append(x)\n",
    "    for i in s:\n",
    "        if i not in r:\n",
    "            j.append(i)\n",
    "    j=set(j)\n",
    "    j=list(j)\n",
    "    j.sort()\n",
    "    b=\"\".join(j)\n",
    "    k.append(b)\n",
    "    for i in r:\n",
    "        if i not in s:\n",
    "            n.append(i)\n",
    "    n=set(n)\n",
    "    n=list(n)\n",
    "    n.sort()\n",
    "    f=\"\".join(n)\n",
    "    k.append(f)\n",
    "    return(k)\n",
    "letters(\"happiness\",\"envelope\")\n",
    "\n",
    "    \n",
    "    "
   ]
  },
  {
   "cell_type": "markdown",
   "metadata": {},
   "source": [
    "Write a function that pairs the first number in an array with the last, the\n",
    "second number with the second to last, etc."
   ]
  },
  {
   "cell_type": "code",
   "execution_count": null,
   "metadata": {},
   "outputs": [],
   "source": []
  },
  {
   "cell_type": "markdown",
   "metadata": {},
   "source": [
    "Write a function that adds two numbers. The catch, however, is that the\n",
    "numbers will be strings."
   ]
  },
  {
   "cell_type": "code",
   "execution_count": 2,
   "metadata": {},
   "outputs": [
    {
     "name": "stdout",
     "output_type": "stream",
     "text": [
      "1874682736267235927391936562808774986\n"
     ]
    }
   ],
   "source": [
    "def add_strings(a,b):\n",
    "    a=int(a)\n",
    "    b=int(b)\n",
    "    c=a+b\n",
    "    return(c)\n",
    "print(add_strings(\"1874682736267235927359283579235789257\",\n",
    "\"32652983572985729\"))\n",
    "\n",
    "\n",
    "    "
   ]
  },
  {
   "cell_type": "code",
   "execution_count": null,
   "metadata": {},
   "outputs": [],
   "source": []
  }
 ],
 "metadata": {
  "kernelspec": {
   "display_name": "Python 3",
   "language": "python",
   "name": "python3"
  },
  "language_info": {
   "codemirror_mode": {
    "name": "ipython",
    "version": 3
   },
   "file_extension": ".py",
   "mimetype": "text/x-python",
   "name": "python",
   "nbconvert_exporter": "python",
   "pygments_lexer": "ipython3",
   "version": "3.8.3"
  }
 },
 "nbformat": 4,
 "nbformat_minor": 4
}
