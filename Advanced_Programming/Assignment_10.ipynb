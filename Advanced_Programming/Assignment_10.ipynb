{
 "cells": [
  {
   "cell_type": "markdown",
   "metadata": {},
   "source": [
    "1. Create a function that takes the width, height and character and returns a\n",
    "picture frame as a 2D list."
   ]
  },
  {
   "cell_type": "code",
   "execution_count": 3,
   "metadata": {},
   "outputs": [
    {
     "name": "stdout",
     "output_type": "stream",
     "text": [
      "['####']\n",
      "['#  #']\n",
      "['#  #']\n",
      "['#  #']\n",
      "['####']\n"
     ]
    }
   ],
   "source": [
    "def frame(n,m,k):\n",
    "    l=[]\n",
    "    for i in range(n):\n",
    "        l.append([])\n",
    "    for i in range(len(l)):\n",
    "        if i==0 or i==n-1:\n",
    "            l[i].insert(0,m*k)\n",
    "        else:\n",
    "            l[i].insert(0,\"{}{}{}\".format(k,(m-2)*\" \",k))\n",
    "    return(l)\n",
    "def seperator(l):\n",
    "    for i in l:\n",
    "        print(i)\n",
    "seperator(frame(5,4,\"#\"))"
   ]
  },
  {
   "cell_type": "markdown",
   "metadata": {},
   "source": [
    "Create a function that creates a box based on dimension n."
   ]
  },
  {
   "cell_type": "code",
   "execution_count": 8,
   "metadata": {},
   "outputs": [
    {
     "name": "stdout",
     "output_type": "stream",
     "text": [
      "['#####']\n",
      "['#   #']\n",
      "['#   #']\n",
      "['#   #']\n",
      "['#####']\n"
     ]
    }
   ],
   "source": [
    "def box(n):\n",
    "    l=[]\n",
    "    for i in range(n):\n",
    "        l.append([])\n",
    "    for i in range(len(l)):\n",
    "        if i==0 or i==n-1:\n",
    "            l[i].insert(0,n*\"#\")\n",
    "        else:\n",
    "            l[i].insert(0,\"{}{}{}\".format(\"#\",(n-2)*\" \",\"#\"))\n",
    "    return(l)\n",
    "def seperator(l):\n",
    "    for i in l:\n",
    "        print(i)\n",
    "seperator(box(5))"
   ]
  },
  {
   "cell_type": "markdown",
   "metadata": {},
   "source": [
    "Write three functions:\n",
    "1. boolean_and\n",
    "2. boolean_or\n",
    "3. boolean_xor\n",
    "These functions should evaluate a list of True and False values, starting from\n",
    "the leftmost element and evaluating pairwise."
   ]
  },
  {
   "cell_type": "code",
   "execution_count": 7,
   "metadata": {},
   "outputs": [
    {
     "name": "stdout",
     "output_type": "stream",
     "text": [
      "False\n",
      "True\n"
     ]
    }
   ],
   "source": [
    "def boolean_and(l):\n",
    "    return(all(l))\n",
    "def boolean_or(l):\n",
    "    return(any(l))\n",
    "print(boolean_and([True, True, False, True]))\n",
    "print(boolean_or([True, True, False, True]))"
   ]
  },
  {
   "cell_type": "markdown",
   "metadata": {},
   "source": [
    "Given a common phrase, return False if any individual word in the phrase\n",
    "contains duplicate letters. Return True otherwise."
   ]
  },
  {
   "cell_type": "code",
   "execution_count": 9,
   "metadata": {},
   "outputs": [
    {
     "name": "stdout",
     "output_type": "stream",
     "text": [
      "False\n",
      "True\n"
     ]
    }
   ],
   "source": [
    "def is_duplicate(s):\n",
    "    l=s.split(\" \")\n",
    "    m=[]\n",
    "    \n",
    "    for i in l:\n",
    "        for j in i:\n",
    "            if i.count(j)>1:\n",
    "                m.append(i)\n",
    "    if len(m)>0:\n",
    "        return(True)\n",
    "    else:\n",
    "        return(False)\n",
    "print(is_duplicate(\"fortune favours the bold\"))\n",
    "print(is_duplicate(\"\"\"You can lead a horse to water, but you cannot make him\n",
    "drink\"\"\"))\n",
    "    "
   ]
  },
  {
   "cell_type": "code",
   "execution_count": null,
   "metadata": {},
   "outputs": [],
   "source": []
  }
 ],
 "metadata": {
  "kernelspec": {
   "display_name": "Python 3",
   "language": "python",
   "name": "python3"
  },
  "language_info": {
   "codemirror_mode": {
    "name": "ipython",
    "version": 3
   },
   "file_extension": ".py",
   "mimetype": "text/x-python",
   "name": "python",
   "nbconvert_exporter": "python",
   "pygments_lexer": "ipython3",
   "version": "3.8.3"
  }
 },
 "nbformat": 4,
 "nbformat_minor": 4
}
