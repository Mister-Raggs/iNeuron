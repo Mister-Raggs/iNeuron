{
 "cells": [
  {
   "cell_type": "markdown",
   "metadata": {},
   "source": [
    "Create a checker board generator, which takes as inputs n and 2 elements\n",
    "to generate an n x n checkerboard with those two elements as alternating\n",
    "squares."
   ]
  },
  {
   "cell_type": "code",
   "execution_count": 1,
   "metadata": {},
   "outputs": [
    {
     "data": {
      "text/plain": [
       "[['A', 'B', 'A', 'B'],\n",
       " ['A', 'B', 'A', 'B'],\n",
       " ['A', 'B', 'A', 'B'],\n",
       " ['A', 'B', 'A', 'B']]"
      ]
     },
     "execution_count": 1,
     "metadata": {},
     "output_type": "execute_result"
    }
   ],
   "source": [
    "def checker_board(a,b,c):\n",
    "    l=[]\n",
    "    if b==c:\n",
    "        print(\"invalid\")\n",
    "    else:\n",
    "        for i in range(a):\n",
    "            m=[]\n",
    "            for j in range(a):\n",
    "                m.append(b)\n",
    "                b,c=c,b\n",
    "            l.append(m)\n",
    "    return(l)\n",
    "checker_board(4,\"A\",\"B\")\n",
    "        "
   ]
  },
  {
   "cell_type": "markdown",
   "metadata": {},
   "source": [
    "A string is an almost-palindrome if, by changing only one character, you\n",
    "can make it a palindrome. Create a function that returns True if a string is an\n",
    "almost-palindrome and False otherwise."
   ]
  },
  {
   "cell_type": "code",
   "execution_count": 2,
   "metadata": {},
   "outputs": [
    {
     "name": "stdout",
     "output_type": "stream",
     "text": [
      "True\n",
      "True\n"
     ]
    }
   ],
   "source": [
    "def almost_palindrome(s):\n",
    "    m=s[::-1]\n",
    "    count=0\n",
    "    for i in range(len(s)):\n",
    "        if s[i]!=m[i]:\n",
    "            count=count+1\n",
    "    if count>2:\n",
    "        return(False)\n",
    "    else:\n",
    "        return(True)\n",
    "print(almost_palindrome(\"abccia\"))\n",
    "print(almost_palindrome(\"abcdcbg\"))\n",
    "\n",
    "        "
   ]
  },
  {
   "cell_type": "markdown",
   "metadata": {},
   "source": [
    "Create a function that finds how many prime numbers there are, up to the\n",
    "given integer."
   ]
  },
  {
   "cell_type": "code",
   "execution_count": 11,
   "metadata": {},
   "outputs": [
    {
     "data": {
      "text/plain": [
       "4"
      ]
     },
     "execution_count": 11,
     "metadata": {},
     "output_type": "execute_result"
    }
   ],
   "source": [
    "def prime_upto(n):\n",
    "\n",
    "    l=[]\n",
    "    for i in range(2,n):\n",
    "        x=0\n",
    "        for j in range(2,i):\n",
    "            if i%j==0:\n",
    "                x=1\n",
    "                break\n",
    "        if x==0:\n",
    "            l.append(i)\n",
    "    return(len(l))\n",
    "prime_upto(10)\n",
    "\n",
    "\n",
    "        \n",
    "        "
   ]
  },
  {
   "cell_type": "code",
   "execution_count": null,
   "metadata": {},
   "outputs": [],
   "source": []
  }
 ],
 "metadata": {
  "kernelspec": {
   "display_name": "Python 3",
   "language": "python",
   "name": "python3"
  },
  "language_info": {
   "codemirror_mode": {
    "name": "ipython",
    "version": 3
   },
   "file_extension": ".py",
   "mimetype": "text/x-python",
   "name": "python",
   "nbconvert_exporter": "python",
   "pygments_lexer": "ipython3",
   "version": "3.8.3"
  }
 },
 "nbformat": 4,
 "nbformat_minor": 4
}
