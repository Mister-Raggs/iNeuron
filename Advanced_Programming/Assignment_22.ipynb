{
 "cells": [
  {
   "cell_type": "markdown",
   "metadata": {},
   "source": [
    "1. Create a class Smoothie and do the following:\n",
    "- Create an instance attribute called ingredients.\n",
    "- Create a get_cost method which calculates the total cost of the\n",
    "ingredients used to make the smoothie.\n",
    "- Create a get_price method which returns the number from get_cost plus\n",
    "the number from get_cost multiplied by 1.5. Round to two decimal places.\n",
    "- Create a get_name method which gets the ingredients and puts them in\n",
    "alphabetical order into a nice descriptive sentence. If there are multiple\n",
    "ingredients, add the word &quot;Fusion&quot; to the end but otherwise, add &quot;Smoothie&quot;.\n",
    "Remember to change &quot;-berries&quot; to &quot;-berry&quot;. See the examples below."
   ]
  },
  {
   "cell_type": "code",
   "execution_count": 31,
   "metadata": {},
   "outputs": [
    {
     "name": "stdout",
     "output_type": "stream",
     "text": [
      "['Banana', 'Raspberries', 'Blueberries']\n",
      "$2.5\n",
      "$6.25\n",
      "Bluebery Raspbery Banana fusion\n"
     ]
    }
   ],
   "source": [
    "class smoothie:\n",
    "\n",
    "    def __init__(self,ingredients):\n",
    "        self.ingredients=ingredients\n",
    "        \n",
    "    def get_cost(self):\n",
    "        d={\"Banana\":\"0.5\",\"Mango\":\"2.5\",\"Blueberries\":\"1\",\"Raspberries\":\"1\",\"Apple\":\"1.75\",\"Pineapple\":\"3.5\"}\n",
    "        self.cost=0\n",
    "        m=[]\n",
    "        for i in self.ingredients:\n",
    "            if i in d.keys():\n",
    "                i=i.replace(i,d[i])\n",
    "            m.append(float(i))\n",
    "        for i in m:\n",
    "            self.cost=self.cost+i\n",
    "        return(\"${}\".format(self.cost))\n",
    "    \n",
    "    def get_price(self):\n",
    "        price=self.cost+self.cost*1.5\n",
    "        return(\"${}\".format(round(price,2)))\n",
    "    \n",
    "    def get_name(self):\n",
    "        a=\"berries\"\n",
    "        x=[\"Raspberries\",\"Blueberries\",\"Strawberries\"]\n",
    "        m=[]\n",
    "        self.ingredients.sort()\n",
    "        for i in self.ingredients:\n",
    "            if a in i:\n",
    "                i=i.replace(a,\"bery\")\n",
    "                m.append(i)\n",
    "        for i in self.ingredients:\n",
    "            if i not in x:\n",
    "                m.append(i)\n",
    "        if len(m)==1:\n",
    "            m.append(\"smoothie\")\n",
    "            x=\" \".join(m)\n",
    "            return(x)\n",
    "        else:\n",
    "            m.append(\"fusion\")\n",
    "            x=\" \".join(m)\n",
    "            return(x)\n",
    "f=smoothie([\"Banana\",\"Raspberries\",\"Blueberries\"])\n",
    "print(f.ingredients)\n",
    "print(f.get_cost())\n",
    "print(f.get_price())\n",
    "print(f.get_name())\n",
    "\n",
    "\n",
    "        \n",
    "        \n",
    "    "
   ]
  },
  {
   "cell_type": "markdown",
   "metadata": {},
   "source": [
    "Your task is to write a program which allows teachers to create a multiple\n",
    "choice test in a class called Testpaper and to be also able to assign a\n",
    "minimum pass mark. The testpaper&#39;s subject should also be included. The\n",
    "attributes are in the following order:\n",
    "1. subject\n",
    "2. markscheme\n",
    "3. pass_mark\n",
    "As well as that, we need to create student objects to take the test itself!\n",
    "Create another class called Student and do the following:\n",
    "- Create an attribute called tests_taken and set the default as &#39;No tests\n",
    "taken&#39;.\n",
    "- Make a method called take_test(), which takes in the testpaper object they\n",
    "are completing and the student&#39;s answers. Compare what they wrote to the\n",
    "mark scheme, and append to the/create a dictionary assigned to tests_taken\n",
    "in the way as shown in the point below.\n",
    "- Each key in the dictionary should be the testpaper subject and each value\n",
    "should be a string in the format seen in the examples below (whether or not\n",
    "the student has failed, and their percentage in brackets).\n",
    "\n",
    "\n"
   ]
  },
  {
   "cell_type": "code",
   "execution_count": 1,
   "metadata": {},
   "outputs": [
    {
     "data": {
      "text/plain": [
       "{'maths': 'fail!33.33333333333333%', 'english': 'fail!0.0%'}"
      ]
     },
     "execution_count": 1,
     "metadata": {},
     "output_type": "execute_result"
    }
   ],
   "source": [
    "class testpaper:\n",
    "    def __init__(self,subject,markscheme,pass_mark):\n",
    "        self.subject=subject\n",
    "        self.markscheme=markscheme\n",
    "        self.pass_mark=pass_mark\n",
    "class student:\n",
    "    test_taken=\"no tests taken\"\n",
    "    d={}\n",
    "    def take_test(self,x,l):\n",
    "        count=0\n",
    "        for i in range(len(x.markscheme)):\n",
    "            if x.markscheme[i]==l[i]:\n",
    "                count=count+1\n",
    "        per=(count/len(x.markscheme))*100\n",
    "        if per>x.pass_mark:\n",
    "            self.d[x.subject]=\"passed!{}%\".format(per)\n",
    "        else:\n",
    "            self.d[x.subject]=\"fail!{}%\".format(per)\n",
    "    def test_taken(self):\n",
    "        return(self.d)\n",
    "test1=testpaper(\"maths\",[\"1A\",\"2B\",\"3B\"],68)\n",
    "test2=testpaper(\"english\",[\"1A\",\"2A\",\"3B\"],68)\n",
    "s1=student()\n",
    "s1.take_test(test1,[\"1A\",\"3B\",\"2C\"])\n",
    "s1.take_test(test2,[\"2A\",\"3B\",\"4C\"])\n",
    "s1.test_taken()\n",
    "    "
   ]
  },
  {
   "cell_type": "code",
   "execution_count": null,
   "metadata": {},
   "outputs": [],
   "source": []
  }
 ],
 "metadata": {
  "kernelspec": {
   "display_name": "Python 3",
   "language": "python",
   "name": "python3"
  },
  "language_info": {
   "codemirror_mode": {
    "name": "ipython",
    "version": 3
   },
   "file_extension": ".py",
   "mimetype": "text/x-python",
   "name": "python",
   "nbconvert_exporter": "python",
   "pygments_lexer": "ipython3",
   "version": "3.8.3"
  }
 },
 "nbformat": 4,
 "nbformat_minor": 4
}
