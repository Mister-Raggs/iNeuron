{
 "cells": [
  {
   "cell_type": "markdown",
   "metadata": {},
   "source": [
    "YouTube offers different playback speed options for users. This allows\n",
    "users to increase or decrease the speed of the video content. Given the\n",
    "actual duration and playback speed of the video, calculate the playback\n",
    "duration of the video."
   ]
  },
  {
   "cell_type": "code",
   "execution_count": 12,
   "metadata": {},
   "outputs": [
    {
     "data": {
      "text/plain": [
       "'102:40:18'"
      ]
     },
     "execution_count": 12,
     "metadata": {},
     "output_type": "execute_result"
    }
   ],
   "source": [
    "import time\n",
    "def playback_speed(s,x):\n",
    "    \n",
    "    m=0\n",
    "    l=s.split(\":\")\n",
    "    for i in range(len(l)):\n",
    "        l[i]=int(l[i])\n",
    "\n",
    "    l[0]=l[0]*3600\n",
    "    l[1]=l[1]*60\n",
    "    for i in l:\n",
    "        m=m+i\n",
    "    t=m/x\n",
    "    k = t\n",
    "    hours = t // (60*60)\n",
    "    t %= (60*60)\n",
    "    minutes = t // 60\n",
    "    t %= 60\n",
    "    return \"%02i:%02i:%02i\" % (hours, minutes, t)\n",
    "\n",
    "\n",
    "\n",
    "playback_speed(\"51:20:09\",0.5)\n",
    "\n",
    "\n",
    "    \n",
    "    \n",
    "    "
   ]
  },
  {
   "cell_type": "markdown",
   "metadata": {},
   "source": [
    "We needs your help to construct a building which will be a pile of n cubes.\n",
    "The cube at the bottom will have a volume of n^3, the cube above will have\n",
    "volume of (n-1)^3 and so on until the top which will have a volume of 1^3.\n",
    "Given the total volume m of the building, can you find the number of cubes n\n",
    "required for the building?\n",
    "In other words, you have to return an integer n such that:\n",
    "n^3 + (n-1)^3 + ... + 1^3 == m"
   ]
  },
  {
   "cell_type": "code",
   "execution_count": 9,
   "metadata": {},
   "outputs": [
    {
     "data": {
      "text/plain": [
       "45"
      ]
     },
     "execution_count": 9,
     "metadata": {},
     "output_type": "execute_result"
    }
   ],
   "source": [
    "def pile_of_cubes(n):\n",
    "    m=n\n",
    "    s=0\n",
    "    for i in range(1,1000000):\n",
    "        s=s+i**3\n",
    "        if s==m:\n",
    "            break\n",
    "    return(i)\n",
    "pile_of_cubes(1071225)\n",
    "\n",
    "        "
   ]
  },
  {
   "cell_type": "markdown",
   "metadata": {},
   "source": [
    "A fulcrum of a list is an integer such that all elements to the left of it and all\n",
    "elements to the right of it sum to the same value. Write a function that finds\n",
    "the fulcrum of a list."
   ]
  },
  {
   "cell_type": "code",
   "execution_count": 14,
   "metadata": {},
   "outputs": [
    {
     "name": "stdout",
     "output_type": "stream",
     "text": [
      "4\n"
     ]
    }
   ],
   "source": [
    "list=[1,2,4,9,10,-10,-9,3]\n",
    "n=len(list)\n",
    "if n==1:\n",
    "    print(list[0])\n",
    "else:\n",
    "    for i in range(n):\n",
    "        l=i-1\n",
    "        r=i+1\n",
    "        l_sum=0\n",
    "        r_sum=0\n",
    "        while l>=0:\n",
    "            l_sum=l_sum+list[l]\n",
    "            l=l-1\n",
    "        while r<n:\n",
    "            r_sum=list[r]+r_sum\n",
    "            r=r+1\n",
    "        if l_sum==r_sum:\n",
    "            print(list[i])\n",
    "            break"
   ]
  },
  {
   "cell_type": "markdown",
   "metadata": {},
   "source": [
    "Create a function that returns an integer representing the number of matching\n",
    "pairs of socks that are available."
   ]
  },
  {
   "cell_type": "code",
   "execution_count": 15,
   "metadata": {},
   "outputs": [
    {
     "data": {
      "text/plain": [
       "2"
      ]
     },
     "execution_count": 15,
     "metadata": {},
     "output_type": "execute_result"
    }
   ],
   "source": [
    "def sockmerchant(l):\n",
    "    d={}\n",
    "    count=0\n",
    "    for i in l:\n",
    "        d[i]=l.count(i)\n",
    "    for i in d:\n",
    "        count=count+d[i]//2\n",
    "    return(count)\n",
    "sockmerchant([10,10,10,20,20,30])"
   ]
  },
  {
   "cell_type": "markdown",
   "metadata": {},
   "source": [
    "Create a function that takes a string containing integers as well as other\n",
    "characters and return the sum of the negative integers only."
   ]
  },
  {
   "cell_type": "code",
   "execution_count": 13,
   "metadata": {},
   "outputs": [
    {
     "data": {
      "text/plain": [
       "-23"
      ]
     },
     "execution_count": 13,
     "metadata": {},
     "output_type": "execute_result"
    }
   ],
   "source": [
    "def negative_sum(s):\n",
    "    k=\"&%@?\"\n",
    "    \n",
    "\n",
    "    m=[]\n",
    "    sum=0\n",
    "    for i in s:\n",
    "        if i in k:\n",
    "            s=s.replace(i,\" \")\n",
    "    l=s.split(\" \")\n",
    "    for i in range(len(l)):\n",
    "         l[i]=int(l[i])\n",
    "    for i in l:\n",
    "        if i<0:\n",
    "            m.append(i)\n",
    "    for i in m:\n",
    "        sum=sum+i\n",
    "    return(sum)\n",
    "negative_sum(\"-12 13%14&-11\")\n",
    "\n"
   ]
  },
  {
   "cell_type": "code",
   "execution_count": null,
   "metadata": {},
   "outputs": [],
   "source": []
  }
 ],
 "metadata": {
  "kernelspec": {
   "display_name": "Python 3",
   "language": "python",
   "name": "python3"
  },
  "language_info": {
   "codemirror_mode": {
    "name": "ipython",
    "version": 3
   },
   "file_extension": ".py",
   "mimetype": "text/x-python",
   "name": "python",
   "nbconvert_exporter": "python",
   "pygments_lexer": "ipython3",
   "version": "3.8.3"
  }
 },
 "nbformat": 4,
 "nbformat_minor": 4
}
