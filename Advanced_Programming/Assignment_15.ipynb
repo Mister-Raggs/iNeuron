{
 "cells": [
  {
   "cell_type": "markdown",
   "metadata": {},
   "source": [
    "Write a function that returns True if a given name can generate an array of\n",
    "words."
   ]
  },
  {
   "cell_type": "code",
   "execution_count": 10,
   "metadata": {},
   "outputs": [
    {
     "data": {
      "text/plain": [
       "True"
      ]
     },
     "execution_count": 10,
     "metadata": {},
     "output_type": "execute_result"
    }
   ],
   "source": [
    "def anagram(s,l):\n",
    "   \n",
    "    s=s.lower()\n",
    "    s=s.replace(\" \",\"\")\n",
    "    \n",
    "    b=\"\".join(l)\n",
    "    x=0\n",
    "    for i in l:\n",
    "        for j in i:\n",
    "            if j not in s:\n",
    "                x=1\n",
    "                break\n",
    "    if len(b)!=len(s):\n",
    "        return(False)\n",
    "    elif x==0:\n",
    "        return(True)\n",
    "    else:\n",
    "        return(False)\n",
    "anagram(\"chriss prat\",[\"chirpss\",\"rat\"])\n"
   ]
  },
  {
   "cell_type": "markdown",
   "metadata": {},
   "source": [
    "Given an array of users, each defined by an object with the following\n",
    "properties: name, score, reputation create a function that sorts the array to\n",
    "form the correct leaderboard.\n",
    "The leaderboard takes into consideration the score of each user of course,\n",
    "but an emphasis is put on their reputation in the community, so to get the\n",
    "trueScore, you should add the reputation multiplied by 2 to the score.\n",
    "Once you know the trueScore of each user, sort the array according to it in\n",
    "descending order."
   ]
  },
  {
   "cell_type": "code",
   "execution_count": 11,
   "metadata": {},
   "outputs": [
    {
     "data": {
      "text/plain": [
       "[{'name': 'c', 'score': 115, 'reputation': 30},\n",
       " {'name': 'b', 'score': 90, 'reputation': 40},\n",
       " {'name': 'a', 'score': 100, 'reputation': 20}]"
      ]
     },
     "execution_count": 11,
     "metadata": {},
     "output_type": "execute_result"
    }
   ],
   "source": [
    "def scorer(l):\n",
    "\n",
    "    for i in l:\n",
    "        i[\"truescore\"]=i[\"score\"]+i[\"reputation\"]*2\n",
    "    a=sorted(l,key=lambda x:x[\"truescore\"],reverse=True)\n",
    "    for i in l:\n",
    "        i.popitem()\n",
    "    return(a)\n",
    "scorer([{ \"name\":\"a\",\"score\":100, \"reputation\": 20 },\n",
    "{\"name\": \"b\",\"score\": 90,\"reputation\": 40 },\n",
    "{ \"name\":\"c\", \"score\": 115, \"reputation\": 30 }])\n"
   ]
  },
  {
   "cell_type": "markdown",
   "metadata": {},
   "source": [
    "Create a function that, given a phrase and a number of letters guessed,\n",
    "returns a string with hyphens - for every letter of the phrase not guessed, and\n",
    "each letter guessed in place."
   ]
  },
  {
   "cell_type": "code",
   "execution_count": 13,
   "metadata": {},
   "outputs": [
    {
     "name": "stdout",
     "output_type": "stream",
     "text": [
      "tr--\n",
      "-e---o--e-\n"
     ]
    }
   ],
   "source": [
    "def hangman(s,l):\n",
    "    for i in s:\n",
    "        if i not in l:\n",
    "            s=s.replace(i,\"-\")\n",
    "    return(s)\n",
    "print(hangman(\"tree\",[\"r\",\"t\"]))\n",
    "print(hangman(\"helicopter\",[\"o\",\"e\",\"s\"]))"
   ]
  },
  {
   "cell_type": "markdown",
   "metadata": {},
   "source": [
    "The Collatz sequence is as follows:\n",
    "- Start with some given integer n.\n",
    "- If it is even, the next number will be n divided by 2.\n",
    "- If it is odd, multiply it by 3 and add 1 to make the next number.\n",
    "- The sequence stops when it reaches 1.\n",
    "According to the Collatz conjecture, it will always reach 1. If that&#39;s true, you\n",
    "can construct a finite sequence following the aforementioned method for any\n",
    "given integer.\n",
    "Write a function that takes in an integer n and returns the highest integer in\n",
    "the corresponding Collatz sequence."
   ]
  },
  {
   "cell_type": "code",
   "execution_count": 16,
   "metadata": {},
   "outputs": [
    {
     "name": "stdout",
     "output_type": "stream",
     "text": [
      "16\n"
     ]
    }
   ],
   "source": [
    "def collatz(n):\n",
    "    l=[]\n",
    "    while n!=1:\n",
    "        if n%2==0:\n",
    "\n",
    "            l.append(int(n))\n",
    "            n=n/2\n",
    "        else:\n",
    "            l.append(int(n))\n",
    "            n=n*3+1\n",
    "    print(max(l))\n",
    "collatz(10)\n",
    "    "
   ]
  },
  {
   "cell_type": "code",
   "execution_count": null,
   "metadata": {},
   "outputs": [],
   "source": []
  }
 ],
 "metadata": {
  "kernelspec": {
   "display_name": "Python 3",
   "language": "python",
   "name": "python3"
  },
  "language_info": {
   "codemirror_mode": {
    "name": "ipython",
    "version": 3
   },
   "file_extension": ".py",
   "mimetype": "text/x-python",
   "name": "python",
   "nbconvert_exporter": "python",
   "pygments_lexer": "ipython3",
   "version": "3.8.3"
  }
 },
 "nbformat": 4,
 "nbformat_minor": 4
}
