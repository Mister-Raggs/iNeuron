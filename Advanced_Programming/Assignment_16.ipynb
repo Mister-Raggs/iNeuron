{
 "cells": [
  {
   "cell_type": "markdown",
   "metadata": {},
   "source": [
    "Create a function that returns the whole of the first sentence which\n",
    "contains a specific word. Include the full stop at the end of the sentence."
   ]
  },
  {
   "cell_type": "code",
   "execution_count": 2,
   "metadata": {},
   "outputs": [
    {
     "name": "stdout",
     "output_type": "stream",
     "text": [
      "I have a cat\n",
      "i have a mat\n"
     ]
    }
   ],
   "source": [
    "def sentence_searcher(s,m):\n",
    "    \n",
    "    m=m.lower()\n",
    "    l=s.split(\".\")\n",
    "    for i in l: \n",
    "        if m in i:\n",
    "            return(i)\n",
    "    \n",
    "text=\"I have a cat.i have a mat.things are going well\"\n",
    "print(sentence_searcher(text,\"have\"))\n",
    "print(sentence_searcher(text,\"MAT\"))"
   ]
  },
  {
   "cell_type": "code",
   "execution_count": null,
   "metadata": {},
   "outputs": [],
   "source": []
  },
  {
   "cell_type": "code",
   "execution_count": null,
   "metadata": {},
   "outputs": [],
   "source": []
  },
  {
   "cell_type": "markdown",
   "metadata": {},
   "source": [
    "Your task, is to create N x N multiplication table, of size n provided in\n",
    "parameter.\n",
    "For example, when n is 5, the multiplication table is:\n",
    "- 1, 2, 3, 4, 5\n",
    "- 2, 4, 6, 8, 10\n",
    "- 3, 6, 9, 12, 15\n",
    "- 4, 8, 12, 16, 20\n",
    "- 5, 10, 15, 20, 25"
   ]
  },
  {
   "cell_type": "code",
   "execution_count": 3,
   "metadata": {},
   "outputs": [
    {
     "data": {
      "text/plain": [
       "[[1, 2, 3, 4, 5],\n",
       " [2, 4, 6, 8, 10],\n",
       " [3, 6, 9, 12, 15],\n",
       " [4, 8, 12, 16, 20],\n",
       " [5, 10, 15, 20, 25]]"
      ]
     },
     "execution_count": 3,
     "metadata": {},
     "output_type": "execute_result"
    }
   ],
   "source": [
    "def multiplication(n):\n",
    "    \n",
    "    l=[]\n",
    "    for i in range(1,n+1):\n",
    "        \n",
    "        m=[]\n",
    "        for j in range(1,n+1):\n",
    "            m.append(i*j)\n",
    "        l.append(m)\n",
    "    return(l)\n",
    "multiplication(5)"
   ]
  },
  {
   "cell_type": "markdown",
   "metadata": {},
   "source": [
    "Create a function that returns True if two lines rhyme and False otherwise.\n",
    "For the purposes of this exercise, two lines rhyme if the last word from each\n",
    "sentence contains the same vowels."
   ]
  },
  {
   "cell_type": "code",
   "execution_count": 1,
   "metadata": {},
   "outputs": [
    {
     "data": {
      "text/plain": [
       "True"
      ]
     },
     "execution_count": 1,
     "metadata": {},
     "output_type": "execute_result"
    }
   ],
   "source": [
    "def rhyming(s1,s2):\n",
    "    l=s1.split(\" \")\n",
    "    k=s2.split(\" \")\n",
    "    u=[]\n",
    "    t=[]\n",
    "    x=0\n",
    "    vowels=\"aeiou\"\n",
    "    for i in l[-1]:\n",
    "        if i in vowels:\n",
    "            u.append(i)\n",
    "    for i in k[-1]:\n",
    "        if i in vowels:\n",
    "            t.append(i)\n",
    "    if len(u)!=len(t):\n",
    "        return(False)\n",
    "    elif len(u)==len(t):\n",
    "        for i in range(len(u)):\n",
    "            if u[i]!=t[i]:\n",
    "                x=1\n",
    "                break\n",
    "    if x==1:\n",
    "        return(False)\n",
    "    else:\n",
    "        return(True)\n",
    "rhyming(\"Sam I ame\",\"Green eggs and haem\")"
   ]
  },
  {
   "cell_type": "code",
   "execution_count": null,
   "metadata": {},
   "outputs": [],
   "source": []
  }
 ],
 "metadata": {
  "kernelspec": {
   "display_name": "Python 3",
   "language": "python",
   "name": "python3"
  },
  "language_info": {
   "codemirror_mode": {
    "name": "ipython",
    "version": 3
   },
   "file_extension": ".py",
   "mimetype": "text/x-python",
   "name": "python",
   "nbconvert_exporter": "python",
   "pygments_lexer": "ipython3",
   "version": "3.8.3"
  }
 },
 "nbformat": 4,
 "nbformat_minor": 4
}
