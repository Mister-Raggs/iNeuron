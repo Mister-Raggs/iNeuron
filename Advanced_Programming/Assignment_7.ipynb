{
 "cells": [
  {
   "cell_type": "markdown",
   "metadata": {},
   "source": [
    "Write a function that counts how many concentric layers a rug."
   ]
  },
  {
   "cell_type": "code",
   "execution_count": null,
   "metadata": {},
   "outputs": [],
   "source": []
  },
  {
   "cell_type": "markdown",
   "metadata": {},
   "source": [
    "There are many different styles of music and many albums exhibit multiple\n",
    "styles. Create a function that takes a list of musical styles from albums and\n",
    "returns how many styles are unique."
   ]
  },
  {
   "cell_type": "code",
   "execution_count": 2,
   "metadata": {},
   "outputs": [
    {
     "data": {
      "text/plain": [
       "9"
      ]
     },
     "execution_count": 2,
     "metadata": {},
     "output_type": "execute_result"
    }
   ],
   "source": [
    "def unique_style(l):\n",
    "    x=set(l)\n",
    "    d=list(x)\n",
    "    return(len(d))\n",
    "unique_style([\"dub\",\"dancehall\",\"industrial\",\"heavymetal\",\"techno\",\"dubstep\",\"synth-pop\",\"eurodisco\",\"industrial\",\"techno\",\"minimal\"])\n",
    "              \n"
   ]
  },
  {
   "cell_type": "markdown",
   "metadata": {},
   "source": [
    "Create a function that finds a target number in a list of prime numbers.\n",
    "Implement a binary search algorithm in your function. The target number will\n",
    "be from 2 through 97. If the target is prime then return &quot;yes&quot; else return &quot;no&quot;."
   ]
  },
  {
   "cell_type": "code",
   "execution_count": 16,
   "metadata": {},
   "outputs": [
    {
     "data": {
      "text/plain": [
       "'notprime'"
      ]
     },
     "execution_count": 16,
     "metadata": {},
     "output_type": "execute_result"
    }
   ],
   "source": [
    "def is_prime(x,k):\n",
    "    m=[]\n",
    "    \n",
    "    for i in range(1,98):\n",
    "        x=0\n",
    "        for j in range(2,i):\n",
    "            if i%j==0:\n",
    "                x=1\n",
    "                break\n",
    "        if x==0:\n",
    "            m.append(i)\n",
    "    if k in m:\n",
    "        return(\"prime\")\n",
    "    else:\n",
    "        return(\"notprime\")\n",
    "is_prime(\"m\",8)\n"
   ]
  },
  {
   "cell_type": "markdown",
   "metadata": {},
   "source": [
    "Create a function that takes in n, a, b and returns the number of positive\n",
    "values raised to the nth power that lie in the range [a, b], inclusive."
   ]
  },
  {
   "cell_type": "code",
   "execution_count": 18,
   "metadata": {},
   "outputs": [
    {
     "data": {
      "text/plain": [
       "3"
      ]
     },
     "execution_count": 18,
     "metadata": {},
     "output_type": "execute_result"
    }
   ],
   "source": [
    "def power_ranger(n,a,b):\n",
    "    m=[]\n",
    "    count=0\n",
    "    for i in range(b):\n",
    "        m.append(i**n)\n",
    "    for i in m:\n",
    "        if a<=i<=b:\n",
    "            count=count+1\n",
    "    return(count)\n",
    "power_ranger(3,1,27)\n",
    "        \n",
    "        "
   ]
  },
  {
   "cell_type": "markdown",
   "metadata": {},
   "source": [
    "Given a number, return the difference between the maximum and minimum\n",
    "numbers that can be formed when the digits are rearranged."
   ]
  },
  {
   "cell_type": "code",
   "execution_count": 14,
   "metadata": {},
   "outputs": [
    {
     "data": {
      "text/plain": [
       "760833"
      ]
     },
     "execution_count": 14,
     "metadata": {},
     "output_type": "execute_result"
    }
   ],
   "source": [
    "def difference(n):\n",
    "    m=\",\".join(str(n))\n",
    "    m=m.split(\",\")\n",
    "    lowest=sorted(m,reverse=False)\n",
    "    lowest=int(\"\".join(lowest))\n",
    "    highest=sorted(m,reverse=True)\n",
    "    highest=int(\"\".join(highest))\n",
    "    return(highest-lowest)\n",
    "difference(972882)\n"
   ]
  },
  {
   "cell_type": "code",
   "execution_count": null,
   "metadata": {},
   "outputs": [],
   "source": []
  }
 ],
 "metadata": {
  "kernelspec": {
   "display_name": "Python 3",
   "language": "python",
   "name": "python3"
  },
  "language_info": {
   "codemirror_mode": {
    "name": "ipython",
    "version": 3
   },
   "file_extension": ".py",
   "mimetype": "text/x-python",
   "name": "python",
   "nbconvert_exporter": "python",
   "pygments_lexer": "ipython3",
   "version": "3.8.3"
  }
 },
 "nbformat": 4,
 "nbformat_minor": 4
}
