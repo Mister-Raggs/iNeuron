{
 "cells": [
  {
   "cell_type": "markdown",
   "metadata": {},
   "source": [
    "Create a function that takes a number n (integer greater than zero) as an\n",
    "argument, and returns 2 if n is odd and 8 if n is even.\n",
    "You can only use the following arithmetic operators: addition of numbers +,\n",
    "subtraction of numbers -, multiplication of number *, division of number /, and\n",
    "exponentiation **."
   ]
  },
  {
   "cell_type": "code",
   "execution_count": 6,
   "metadata": {},
   "outputs": [
    {
     "name": "stdout",
     "output_type": "stream",
     "text": [
      "8\n",
      "2\n"
     ]
    }
   ],
   "source": [
    "def check(n):\n",
    "    l=[8,2]\n",
    "    return(l[n%2])\n",
    "print(check(6))\n",
    "print(check(3))"
   ]
  },
  {
   "cell_type": "markdown",
   "metadata": {},
   "source": [
    "Create a function that returns the majority vote in a list. A majority vote is\n",
    "an element that occurs &gt; N/2 times in a list (where N is the length of the list)."
   ]
  },
  {
   "cell_type": "code",
   "execution_count": 16,
   "metadata": {},
   "outputs": [
    {
     "name": "stdout",
     "output_type": "stream",
     "text": [
      "none\n",
      "A\n"
     ]
    }
   ],
   "source": [
    "def majority(l):\n",
    "    m=[]\n",
    "    for i in l:\n",
    "        if l.count(i)>len(l)/2:\n",
    "            m.append(i)\n",
    "            x=set(m)\n",
    "            j=list(x)\n",
    "            return(j[0])\n",
    "        else:\n",
    "            return(\"none\")\n",
    " \n",
    "  \n",
    "print(majority([\"A\",\"A\",\"B\",\"B\"]))\n",
    "print(majority([\"A\",\"A\",\"B\",\"A\"]))"
   ]
  },
  {
   "cell_type": "markdown",
   "metadata": {},
   "source": [
    "Create a function that takes a string txt and censors any word from a given\n",
    "list lst. The text removed must be replaced by the given character char."
   ]
  },
  {
   "cell_type": "code",
   "execution_count": 7,
   "metadata": {},
   "outputs": [
    {
     "name": "stdout",
     "output_type": "stream",
     "text": [
      "the *** jumped over the ****\n",
      "my $$$$ is $$$\n"
     ]
    }
   ],
   "source": [
    "def censor_string(s,l,k):\n",
    "\n",
    "    x=s.split(\" \")\n",
    "    for i in x:\n",
    "        if i in l:\n",
    "            s=s.replace(i,k*len(i))\n",
    "    return(s)\n",
    "print(censor_string(\"the cow jumped over the moon\",[\"cow\",\"moon\"],\"*\"))\n",
    "print(censor_string(\"my name is jay\",[\"jay\",\"name\"],\"$\"))"
   ]
  },
  {
   "cell_type": "markdown",
   "metadata": {},
   "source": [
    "   4. In mathematics a Polydivisible Number (or magic number) is a number in a\n",
    "given number base with digits abcde... that has the following properties:\n",
    "- Its first digit a is not 0.\n",
    "- The number formed by its first two digits ab is a multiple of 2.\n",
    "- The number formed by its first three digits abc is a multiple of 3.\n",
    "- The number formed by its first four digits abcd is a multiple of 4.\n",
    "Create a function which takes an integer n and returns True if the given\n",
    "number is a Polydivisible Number and False otherwise."
   ]
  },
  {
   "cell_type": "code",
   "execution_count": 7,
   "metadata": {},
   "outputs": [
    {
     "name": "stdout",
     "output_type": "stream",
     "text": [
      "enter a number  130\n",
      "False\n"
     ]
    }
   ],
   "source": [
    "n=int(input(\"enter a number  \"))\n",
    "x=str(n)\n",
    "y=0\n",
    "for i in range(len(x)):\n",
    "    if int(x[:i+1])%(i+1)!=0:\n",
    "        y=1\n",
    "        break\n",
    "if y==0:\n",
    "    print(True)\n",
    "else:\n",
    "    print(False)\n",
    "    "
   ]
  },
  {
   "cell_type": "markdown",
   "metadata": {},
   "source": [
    "Create a function that takes a list of numbers and returns the sum of all\n",
    "prime numbers in the list."
   ]
  },
  {
   "cell_type": "code",
   "execution_count": 42,
   "metadata": {},
   "outputs": [
    {
     "data": {
      "text/plain": [
       "('list of prime no', [1, 2, 3, 5, 7], 'sum= ', 18)"
      ]
     },
     "execution_count": 42,
     "metadata": {},
     "output_type": "execute_result"
    }
   ],
   "source": [
    "def sum_prime(l):\n",
    "    m=[]\n",
    "    for i in l:\n",
    "        x=0\n",
    "        for j in range(2,i):\n",
    "            if i%j==0:\n",
    "                x=1\n",
    "                break\n",
    "        if x==0:\n",
    "            m.append(i)\n",
    "    s=0\n",
    "    for i in m:\n",
    "        s=s+i\n",
    "    return(\"list of prime no\",m,\"sum= \",s)\n",
    "        \n",
    "sum_prime([1,2,3,4,5,6,7,8,9])\n",
    "            \n",
    "            "
   ]
  },
  {
   "cell_type": "code",
   "execution_count": null,
   "metadata": {},
   "outputs": [],
   "source": []
  }
 ],
 "metadata": {
  "kernelspec": {
   "display_name": "Python 3",
   "language": "python",
   "name": "python3"
  },
  "language_info": {
   "codemirror_mode": {
    "name": "ipython",
    "version": 3
   },
   "file_extension": ".py",
   "mimetype": "text/x-python",
   "name": "python",
   "nbconvert_exporter": "python",
   "pygments_lexer": "ipython3",
   "version": "3.8.3"
  }
 },
 "nbformat": 4,
 "nbformat_minor": 4
}
