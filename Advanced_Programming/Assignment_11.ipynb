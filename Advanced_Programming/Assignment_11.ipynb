{
 "cells": [
  {
   "cell_type": "markdown",
   "metadata": {},
   "source": [
    "Create a function that takes a list and returns a new list containing only\n",
    "prime numbers."
   ]
  },
  {
   "cell_type": "code",
   "execution_count": 1,
   "metadata": {},
   "outputs": [
    {
     "data": {
      "text/plain": [
       "[7, 3, 11]"
      ]
     },
     "execution_count": 1,
     "metadata": {},
     "output_type": "execute_result"
    }
   ],
   "source": [
    "def filter_prime(l):\n",
    "    m=[]\n",
    "    for i in l:\n",
    "        x=1\n",
    "        for j in range(2,i):\n",
    "            if i%j==0:\n",
    "                x=0\n",
    "                break\n",
    "        if x==1:\n",
    "            m.append(i)\n",
    "    return(m)\n",
    "filter_prime([7, 9, 3, 9, 10, 11, 27])"
   ]
  },
  {
   "cell_type": "markdown",
   "metadata": {},
   "source": [
    "Once a water balloon pops, is soaks the area around it. The ground gets\n",
    "drier the further away you travel from the balloon.\n",
    "The effect of a water balloon popping can be modeled using a list. Create a\n",
    "function that takes a list which takes the pre-pop state and returns the state\n",
    "after the balloon is popped. The pre-pop state will contain at most a single\n",
    "balloon, whose size is represented by the only non-zero element."
   ]
  },
  {
   "cell_type": "code",
   "execution_count": 3,
   "metadata": {},
   "outputs": [
    {
     "data": {
      "text/plain": [
       "[0, 1, 2, 3, 4, 3, 2, 1, 0]"
      ]
     },
     "execution_count": 3,
     "metadata": {},
     "output_type": "execute_result"
    }
   ],
   "source": [
    "def pop(list):\n",
    "    k=[]\n",
    "    n=len(list)\n",
    "    m=n//2\n",
    "    l=m-1\n",
    "    r=m+1\n",
    "    while l>=0:\n",
    "        list[l]=list[m]-(m-l)\n",
    "        l=l-1\n",
    "    while r<n:\n",
    "        list[r]=list[m]-(r-m)\n",
    "        r=r+1\n",
    "    for i in range(n):\n",
    "        k.append(list[i])\n",
    "    return(k)\n",
    "    \n",
    "pop([0,0,0,0,4,0,0,0,0])"
   ]
  },
  {
   "cell_type": "markdown",
   "metadata": {},
   "source": [
    "&quot;Loves me, loves me not&quot; is a traditional game in which a person plucks off\n",
    "all the petals of a flower one by one, saying the phrase &quot;Loves me&quot; and\n",
    "&quot;Loves me not&quot; when determining whether the one that they love, loves them\n",
    "back.\n",
    "Given a number of petals, return a string which repeats the phrases &quot;Loves\n",
    "me&quot; and &quot;Loves me not&quot; for every alternating petal, and return the last phrase\n",
    "in all caps. Remember to put a comma and space between phrases."
   ]
  },
  {
   "cell_type": "code",
   "execution_count": 2,
   "metadata": {},
   "outputs": [
    {
     "data": {
      "text/plain": [
       "'loves me,loves me not,LOVES ME'"
      ]
     },
     "execution_count": 2,
     "metadata": {},
     "output_type": "execute_result"
    }
   ],
   "source": [
    "def loves_me(n):\n",
    "\n",
    "    a=\"loves me\"\n",
    "    b=\"loves me not\"\n",
    "    m=[]\n",
    "    for i in range(1,n+1):\n",
    "        m.append(a)\n",
    "\n",
    "        a,b=b,a\n",
    "    m[-1]=m[-1].upper()\n",
    "    x=\",\".join(m)\n",
    "    return(x)\n",
    "loves_me(3)"
   ]
  },
  {
   "cell_type": "markdown",
   "metadata": {},
   "source": [
    "4. Write a function that sorts each string in a list by the letter in alphabetic\n",
    "ascending order (a-z)."
   ]
  },
  {
   "cell_type": "code",
   "execution_count": 4,
   "metadata": {},
   "outputs": [
    {
     "data": {
      "text/plain": [
       "['2344b', '932c', '832u32']"
      ]
     },
     "execution_count": 4,
     "metadata": {},
     "output_type": "execute_result"
    }
   ],
   "source": [
    "def sort_by_letter(l):\n",
    "    k=[]\n",
    "    a=\"abcdefghijklmnopqrstuvwxyz\"\n",
    "    d={}\n",
    "    for i in l:\n",
    "        for j in i:\n",
    "            if j in a:\n",
    "                d[j]=i\n",
    "    x=dict(sorted(d.items()))\n",
    "    for i in x:\n",
    "        k.append(d[i])\n",
    "    return(k)\n",
    "sort_by_letter([\"932c\",\"832u32\",\"2344b\"])"
   ]
  },
  {
   "cell_type": "code",
   "execution_count": null,
   "metadata": {},
   "outputs": [],
   "source": []
  }
 ],
 "metadata": {
  "kernelspec": {
   "display_name": "Python 3",
   "language": "python",
   "name": "python3"
  },
  "language_info": {
   "codemirror_mode": {
    "name": "ipython",
    "version": 3
   },
   "file_extension": ".py",
   "mimetype": "text/x-python",
   "name": "python",
   "nbconvert_exporter": "python",
   "pygments_lexer": "ipython3",
   "version": "3.8.3"
  }
 },
 "nbformat": 4,
 "nbformat_minor": 4
}
