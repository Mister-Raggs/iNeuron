{
 "cells": [
  {
   "cell_type": "markdown",
   "metadata": {},
   "source": [
    "A robot has been given a list of movement instructions. Each instruction is\n",
    "either left, right, up or down, followed by a distance to move. The robot starts\n",
    "at [0, 0]. You want to calculate where the robot will end up and return its final\n",
    "position as a list.\n",
    "To illustrate, if the robot is given the following instructions:\n",
    "[&quot;right 10&quot;, &quot;up 50&quot;, &quot;left 30&quot;, &quot;down 10&quot;]\n",
    "It will end up 20 left and 40 up from where it started, so we return [-20, 40]."
   ]
  },
  {
   "cell_type": "code",
   "execution_count": 1,
   "metadata": {},
   "outputs": [
    {
     "name": "stdout",
     "output_type": "stream",
     "text": [
      "[-20, 40]\n",
      "[200, 10500]\n"
     ]
    }
   ],
   "source": [
    "def robot(l):\n",
    "    a=\"right \"\n",
    "    b=\"left \"\n",
    "    c=\"up \"\n",
    "    d=\"down \"\n",
    "    right=[]\n",
    "    left=[]\n",
    "    up =[]\n",
    "    down=[]\n",
    "    ri=[]\n",
    "    lef=[]\n",
    "    do=[]\n",
    "    upp=[]\n",
    "    final=[]\n",
    "    r=0\n",
    "    u=0\n",
    "    di=0\n",
    "    le=0\n",
    "    for i in l:\n",
    "        if a in i:\n",
    "            i=i.replace(a,\"\")\n",
    "            right.append(int(i))\n",
    "    for i in l:\n",
    "        if b in i:\n",
    "            i=i.replace(b,\"\")\n",
    "            left.append(int(i))\n",
    "    for i in l:\n",
    "        if c in i:\n",
    "            i=i.replace(c,\"\")\n",
    "            up.append(int(i))\n",
    "    for i in l:\n",
    "        if d in i:\n",
    "            i=i.replace(d,\"\")\n",
    "            down.append(int(i))\n",
    "    for i in right:\n",
    "        r=r+i\n",
    "    ri.append(r)\n",
    "    for i in left:\n",
    "        le=le+i\n",
    "    lef.append(le)\n",
    "    for i in up:\n",
    "        u=u+i\n",
    "    upp.append(u)\n",
    "    for i in down:\n",
    "        di=di+i\n",
    "    do.append(di)\n",
    "    final.append(ri[0]-lef[0])\n",
    "    final.append(upp[0]-do[0])\n",
    "    return(final)\n",
    "print(robot([\"right 10\",\"up 50\",\"left 30\",\"down 10\"]))\n",
    "print(robot([\"right 100\",\"right 100\",\"up 500\",\"up 10000\"]))"
   ]
  },
  {
   "cell_type": "markdown",
   "metadata": {},
   "source": [
    "write a function that will return the longest word in a sentence. In cases\n",
    "where more than one word is found, return the first one."
   ]
  },
  {
   "cell_type": "code",
   "execution_count": 2,
   "metadata": {},
   "outputs": [
    {
     "data": {
      "text/plain": [
       "'forever'"
      ]
     },
     "execution_count": 2,
     "metadata": {},
     "output_type": "execute_result"
    }
   ],
   "source": [
    "def longest_word(s):\n",
    "    l=s.split(\" \")\n",
    "    longest=l[0]\n",
    "    m=[]\n",
    "    for i in l:\n",
    "        if len(i)>len(longest):\n",
    "            longest=i\n",
    "    return(longest)\n",
    "longest_word(\"a thing of beauty is joy forever\")\n",
    "\n",
    "    "
   ]
  },
  {
   "cell_type": "markdown",
   "metadata": {},
   "source": [
    "Create a function to check if a candidate is qualified in an imaginary coding\n",
    "interview of an imaginary tech startup.\n",
    "The criteria for a candidate to be qualified in the coding interview is:\n",
    "1. The candidate should have complete all the questions.\n",
    "2. The maximum time given to complete the interview is 120 minutes.\n",
    "3. The maximum time given for very easy questions is 5 minutes each.\n",
    "4. The maximum time given for easy questions is 10 minutes each.\n",
    "5. The maximum time given for medium questions is 15 minutes each.\n",
    "6. The maximum time given for hard questions is 20 minutes each.\n",
    "\n",
    "If all the above conditions are satisfied, return &quot;qualified&quot;, else return\n",
    "&quot;disqualified&quot;.\n",
    "You will be given a list of time taken by a candidate to solve a particular\n",
    "question and the total time taken by the candidate to complete the interview.\n",
    "Given a list , in a true condition will always be in the format [very easy, very\n",
    "easy, easy, easy, medium, medium, hard, hard].\n",
    "The maximum time to complete the interview includes a buffer time of 20\n",
    "minutes."
   ]
  },
  {
   "cell_type": "code",
   "execution_count": 5,
   "metadata": {},
   "outputs": [
    {
     "data": {
      "text/plain": [
       "'disqualified'"
      ]
     },
     "execution_count": 5,
     "metadata": {},
     "output_type": "execute_result"
    }
   ],
   "source": [
    "def interview(l,a):\n",
    "    x=0\n",
    "    if a>120:\n",
    "        return(\"disqualified\")\n",
    "    elif l[0]>5 or l[1]>5:\n",
    "        return(\"disqualified\")\n",
    "    elif l[2]>10 or l[3]>10:\n",
    "        return(\"disqualified\")\n",
    "    elif l[4]>15 or l[5]>15:\n",
    "        return(\"disqualified\")\n",
    "    elif l[6]>20 or l[7]>20:\n",
    "        return(\"disqualified\")\n",
    "    else:\n",
    "        return(\"qualified\")\n",
    "interview([5,5,10,10,16,15,20,20],120)\n",
    "    \n",
    "        "
   ]
  },
  {
   "cell_type": "markdown",
   "metadata": {},
   "source": [
    "Write a function that divides a list into chunks of size n, where n is the\n",
    "length of each chunk."
   ]
  },
  {
   "cell_type": "code",
   "execution_count": 14,
   "metadata": {},
   "outputs": [
    {
     "data": {
      "text/plain": [
       "[[1, 2, 3, 4], [5, 6]]"
      ]
     },
     "execution_count": 14,
     "metadata": {},
     "output_type": "execute_result"
    }
   ],
   "source": [
    "def chunks(l, n):\n",
    "    m=[]\n",
    "    for i in range(0, len(l), n):\n",
    "        m.append(l[i:i + n])\n",
    "    return(m)\n",
    "chunks([1,2,3,4,5,6],4)\n",
    "\n",
    "\n",
    "\n",
    "    "
   ]
  },
  {
   "cell_type": "code",
   "execution_count": null,
   "metadata": {},
   "outputs": [],
   "source": []
  }
 ],
 "metadata": {
  "kernelspec": {
   "display_name": "Python 3",
   "language": "python",
   "name": "python3"
  },
  "language_info": {
   "codemirror_mode": {
    "name": "ipython",
    "version": 3
   },
   "file_extension": ".py",
   "mimetype": "text/x-python",
   "name": "python",
   "nbconvert_exporter": "python",
   "pygments_lexer": "ipython3",
   "version": "3.8.3"
  }
 },
 "nbformat": 4,
 "nbformat_minor": 4
}
