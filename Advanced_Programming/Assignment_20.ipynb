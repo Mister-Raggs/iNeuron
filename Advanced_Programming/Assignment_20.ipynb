{
 "cells": [
  {
   "cell_type": "markdown",
   "metadata": {},
   "source": [
    "Create a function based on the input and output. Look at the examples,\n",
    "there is a pattern."
   ]
  },
  {
   "cell_type": "code",
   "execution_count": 1,
   "metadata": {},
   "outputs": [
    {
     "data": {
      "text/plain": [
       "\"<pclass='one two three'></p>\""
      ]
     },
     "execution_count": 1,
     "metadata": {},
     "output_type": "execute_result"
    }
   ],
   "source": [
    "def secret(s):\n",
    "    for i in s:\n",
    "        s=s.replace(\"p.\",\"\")\n",
    "    l=s.split(\".\")\n",
    "    x=\" \".join(l)\n",
    "    d=\"<pclass='{}'></p>\".format(x)\n",
    "    return(d)\n",
    "secret(\"p.one.two.three\")"
   ]
  },
  {
   "cell_type": "markdown",
   "metadata": {},
   "source": [
    "Create a function which counts how many lone 1s appear in a given\n",
    "number. Lone means the number doesn&#39;t appear twice or more in a row."
   ]
  },
  {
   "cell_type": "code",
   "execution_count": 2,
   "metadata": {},
   "outputs": [
    {
     "name": "stdout",
     "output_type": "stream",
     "text": [
      "1\n",
      "a\n"
     ]
    }
   ],
   "source": [
    "def loneones(a):\n",
    "    a=str(a)\n",
    "    counts=0\n",
    "    if a.count(\"1\")==2:\n",
    "        return(2)\n",
    "    elif a.count(\"1\")%2==0:\n",
    "        return(\"a\")\n",
    "    else:\n",
    "        return(counts+1)\n",
    "print(loneones(11111))\n",
    "print(loneones(542))"
   ]
  },
  {
   "cell_type": "markdown",
   "metadata": {},
   "source": [
    "Write a method that accepts two integer parameters rows and cols. The\n",
    "output is a 2d array of numbers displayed in column-major order, meaning the\n",
    "numbers shown increase sequentially down each column and wrap to the top\n",
    "of the next column to the right once the bottom of the current column is\n",
    "reached."
   ]
  },
  {
   "cell_type": "code",
   "execution_count": 14,
   "metadata": {},
   "outputs": [
    {
     "name": "stdout",
     "output_type": "stream",
     "text": [
      "[1, 4, 7, 10, 13, 16]\n",
      "[2, 5, 8, 11, 14, 17]\n",
      "[3, 6, 9, 12, 15, 18]\n"
     ]
    }
   ],
   "source": [
    "def next_line(l):\n",
    "    for i in l:\n",
    "        print(i)\n",
    "def pointgrid(a,b):\n",
    "    l=[]\n",
    "    for i in range(1,a+1):\n",
    "        m=[]\n",
    "        for j in range(b):\n",
    "            m.append(i+a*j)\n",
    "\n",
    "        l.append(m)\n",
    "    return(l)\n",
    "next_line(pointgrid(3,6))"
   ]
  },
  {
   "cell_type": "markdown",
   "metadata": {},
   "source": [
    "Given a list of integers, return the smallest positive integer not present in\n",
    "the list.\n",
    "Here is a representative example. Consider the list:\n",
    "[-2, 6, 4, 5, 7, -1, 7, 1, 3, 6, 6, -2, 9, 10, 2, 2]\n",
    "After reordering, the list becomes:\n",
    "[-2, -2, -1, 1, 2, 2, 3, 4, 5, 6, 6, 6, 7, 7, 9, 10]\n",
    "from which we see that the smallest missing positive integer is 8."
   ]
  },
  {
   "cell_type": "code",
   "execution_count": 3,
   "metadata": {},
   "outputs": [
    {
     "data": {
      "text/plain": [
       "8"
      ]
     },
     "execution_count": 3,
     "metadata": {},
     "output_type": "execute_result"
    }
   ],
   "source": [
    "def missing(l):\n",
    "    x=[1,2,3,4,5,6,7,8,9]\n",
    "    m=[]\n",
    "    for i in x:\n",
    "        if i not in l:\n",
    "            m.append(i)\n",
    "    return(m[0])\n",
    "missing([-2,-2,-1,1,2,2,3,4,5,6,6,6,7,7,9,10])\n",
    "            \n"
   ]
  },
  {
   "cell_type": "markdown",
   "metadata": {},
   "source": [
    "5. Google is launching a network of autonomous pizza delivery drones and\n",
    "wants you to create a flexible rewards system (Pizza Points™) that can be\n",
    "tweaked in the future. The rules are simple: if a customer has made at least N\n",
    "orders of at least Y price, they get a FREE pizza!\n",
    "Create a function that takes a dictionary of customers, a minimum number of\n",
    "orders and a minimum order price. Return a list of customers that are eligible\n",
    "for a free pizza."
   ]
  },
  {
   "cell_type": "code",
   "execution_count": 18,
   "metadata": {},
   "outputs": [
    {
     "data": {
      "text/plain": [
       "['Batman', 'Spider-Man']"
      ]
     },
     "execution_count": 18,
     "metadata": {},
     "output_type": "execute_result"
    }
   ],
   "source": [
    "def pizza_points(d,a,b):\n",
    "    count=0\n",
    "    l=[]\n",
    "    for i in d.items():\n",
    "        for j in i[1] :\n",
    "            if j>b:\n",
    "                count=count+1\n",
    "        if count>a:\n",
    "            l.append(i[0])\n",
    "    return(l)\n",
    "    \n",
    "pizza_points( {\n",
    "\"Batman\": [22, 30, 11, 22, 22, 52, 27, 12],\n",
    "\"Spider-Man\": [5, 17, 30, 33, 40, 22, 26, 10, 11, 45]\n",
    "},5,20)\n",
    "        \n",
    " \n",
    "        "
   ]
  },
  {
   "cell_type": "code",
   "execution_count": null,
   "metadata": {},
   "outputs": [],
   "source": []
  }
 ],
 "metadata": {
  "kernelspec": {
   "display_name": "Python 3",
   "language": "python",
   "name": "python3"
  },
  "language_info": {
   "codemirror_mode": {
    "name": "ipython",
    "version": 3
   },
   "file_extension": ".py",
   "mimetype": "text/x-python",
   "name": "python",
   "nbconvert_exporter": "python",
   "pygments_lexer": "ipython3",
   "version": "3.8.3"
  }
 },
 "nbformat": 4,
 "nbformat_minor": 4
}
