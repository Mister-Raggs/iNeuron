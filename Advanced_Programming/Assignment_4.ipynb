{
 "cells": [
  {
   "cell_type": "markdown",
   "metadata": {},
   "source": [
    "The beginning of the sequence is this:\n",
    "0, 1, 1, 2, 3, 5, 8, 13, 21, 34, 55, 89, 144, ...\n",
    "The function fastFib(num) returns the fibonacci number Fn, of the given num\n",
    "as an argument."
   ]
  },
  {
   "cell_type": "code",
   "execution_count": 3,
   "metadata": {},
   "outputs": [
    {
     "name": "stdout",
     "output_type": "stream",
     "text": [
      "55\n",
      "6765\n"
     ]
    }
   ],
   "source": [
    "def fast_fib(n):\n",
    "    l=[]\n",
    "    a=0\n",
    "    b=1\n",
    "    for i in range(1,n+2):\n",
    "        l.append(a)\n",
    "        a,b=b,a+b\n",
    "    return(l[-1])\n",
    "print(fast_fib(10))\n",
    "print(fast_fib(20))\n",
    "        "
   ]
  },
  {
   "cell_type": "markdown",
   "metadata": {},
   "source": [
    "Create a function that takes a strings characters as ASCII and returns each\n",
    "characters hexadecimal value as a string."
   ]
  },
  {
   "cell_type": "code",
   "execution_count": 6,
   "metadata": {},
   "outputs": [
    {
     "data": {
      "text/plain": [
       "' 68 65 6c 6c 6f 20 77 6f 72 6c 64'"
      ]
     },
     "execution_count": 6,
     "metadata": {},
     "output_type": "execute_result"
    }
   ],
   "source": [
    "def convert_to_hex(n):\n",
    "    j=\"\"\n",
    "    for i in n:\n",
    "        j=j+hex(ord(i))\n",
    "    for i in j:\n",
    "        j=j.replace(\"0x\",\" \")\n",
    "        return(j)\n",
    "convert_to_hex(\"hello world\")"
   ]
  },
  {
   "cell_type": "markdown",
   "metadata": {},
   "source": [
    "Someone has attempted to censor my strings by replacing every vowel\n",
    "with a *, l*k* th*s. Luckily, I&#39;ve been able to find the vowels that were\n",
    "removed."
   ]
  },
  {
   "cell_type": "code",
   "execution_count": 13,
   "metadata": {},
   "outputs": [
    {
     "data": {
      "text/plain": [
       "'hello'"
      ]
     },
     "execution_count": 13,
     "metadata": {},
     "output_type": "execute_result"
    }
   ],
   "source": [
    "def uncensor(s,r):\n",
    "    count=0\n",
    "    x=\"\"\n",
    "    for i in range(len(s)):\n",
    "        if s[i]==\"*\":\n",
    "            x=x+r[count]\n",
    "            \n",
    "            count=count+1\n",
    "        else:\n",
    "            x=x+s[i]\n",
    "           \n",
    "    return(x)\n",
    "uncensor(\"h*ll*\",\"eo\")\n",
    "        "
   ]
  },
  {
   "cell_type": "markdown",
   "metadata": {},
   "source": [
    "Write a function that takes an IP address and returns the domain name\n",
    "using PTR DNS records."
   ]
  },
  {
   "cell_type": "code",
   "execution_count": null,
   "metadata": {},
   "outputs": [],
   "source": []
  },
  {
   "cell_type": "markdown",
   "metadata": {},
   "source": [
    "Create a function that takes an integer n and returns the factorial of\n",
    "factorials"
   ]
  },
  {
   "cell_type": "code",
   "execution_count": 2,
   "metadata": {},
   "outputs": [
    {
     "data": {
      "text/plain": [
       "34560"
      ]
     },
     "execution_count": 2,
     "metadata": {},
     "output_type": "execute_result"
    }
   ],
   "source": [
    "def fact_of_fact(n):    \n",
    "    l=[]\n",
    "    for i in range(5+1):\n",
    "        l.append(i)\n",
    "    l[0]=1\n",
    "    l[1]=1\n",
    "    for i in range(2,6):\n",
    "        l[i]=l[i-1]*i\n",
    "    m=1\n",
    "    for i in l:\n",
    "        m=m*i\n",
    "    return(m)\n",
    "fact_of_fact(5)"
   ]
  },
  {
   "cell_type": "code",
   "execution_count": null,
   "metadata": {},
   "outputs": [],
   "source": []
  }
 ],
 "metadata": {
  "kernelspec": {
   "display_name": "Python 3",
   "language": "python",
   "name": "python3"
  },
  "language_info": {
   "codemirror_mode": {
    "name": "ipython",
    "version": 3
   },
   "file_extension": ".py",
   "mimetype": "text/x-python",
   "name": "python",
   "nbconvert_exporter": "python",
   "pygments_lexer": "ipython3",
   "version": "3.8.3"
  }
 },
 "nbformat": 4,
 "nbformat_minor": 4
}
