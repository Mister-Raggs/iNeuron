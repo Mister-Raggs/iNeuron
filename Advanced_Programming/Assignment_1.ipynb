{
 "cells": [
  {
   "cell_type": "markdown",
   "metadata": {},
   "source": [
    "1. Write a function that takes a list of lists and returns the value of all of the\n",
    "symbols in it, where each symbol adds or takes something from the total\n",
    "score. Symbol values:\n",
    "\"# = 5\n",
    "O = 3\n",
    "X = 1\n",
    "! = -1\n",
    "!! = -3\n",
    "!!! = -5\n",
    "A list of lists containing 2 #s, a O, and a !!! would equal (0 + 5 + 5 + 3 - 5) 8.\n",
    "If the final score is negative, return 0 (e.g. 3 #s, 3 !!s, 2 !!!s and a X would be\n",
    "(0 + 5 + 5 + 5 - 3 - 3 - 3 - 5 - 5 + 1) -3, so return 0."
   ]
  },
  {
   "cell_type": "code",
   "execution_count": 17,
   "metadata": {},
   "outputs": [
    {
     "name": "stdout",
     "output_type": "stream",
     "text": [
      "[[1, -1, -5], [3, 1, -3]]\n",
      "('SUM IS IN NEGATIVE', 0)\n",
      "[[1, 3], [-5, 1]]\n",
      "('SUM', 4)\n"
     ]
    }
   ],
   "source": [
    "\n",
    "def check_score(l):\n",
    "    s=0\n",
    "    S=0\n",
    "    for i in(l):\n",
    "        for j in range(len(i)):\n",
    "            if i[j]==\"#\":\n",
    "                i[j]=1\n",
    "            elif i[j]==\"O\":\n",
    "                i[j]=3\n",
    "            elif i[j]==\"X\":\n",
    "                i[j]=1\n",
    "            elif i[j]==\"!\":\n",
    "                i[j]=-1\n",
    "            elif i[j]==\"!!\":\n",
    "                i[j]=-3\n",
    "            elif i[j]==\"!!!\":\n",
    "                i[j]=-5\n",
    "    print(l)\n",
    "    for i in l:\n",
    "        for j in i:\n",
    "            s=s+j\n",
    "        S=S+s\n",
    "    if S>0:\n",
    "        return(\"SUM\",S)\n",
    "    else:\n",
    "        return(\"SUM IS IN NEGATIVE\",0)\n",
    "    \n",
    "print(check_score([[\"#\",\"!\",\"!!!\"],[\"O\",\"X\",\"!!\"]]))\n",
    "print(check_score([[\"#\",\"O\"],[\"!!!\",\"X\"]]))"
   ]
  },
  {
   "cell_type": "markdown",
   "metadata": {},
   "source": [
    "Create a function that takes a variable number of arguments, each\n",
    "argument representing the number of items in a group, and returns the\n",
    "number of permutations (combinations) of items that you could get by taking\n",
    "one item from each group."
   ]
  },
  {
   "cell_type": "code",
   "execution_count": 21,
   "metadata": {},
   "outputs": [
    {
     "name": "stdout",
     "output_type": "stream",
     "text": [
      "('total no of cobinations', 6)\n",
      "('total no of cobinations', 84)\n",
      "('total no of cobinations', 120)\n"
     ]
    }
   ],
   "source": [
    "def combinations(*args):\n",
    "    m=1\n",
    "    for i in args:\n",
    "        m*=i\n",
    "        \n",
    "    return(\"total no of cobinations\",m)\n",
    "print(combinations(2, 3)) \n",
    "print(combinations(3, 7, 4)) \n",
    "print(combinations(2, 3, 4, 5))"
   ]
  },
  {
   "cell_type": "markdown",
   "metadata": {},
   "source": [
    "Create a function that takes a string as an argument and returns the Morse\n",
    "code equivalent."
   ]
  },
  {
   "cell_type": "code",
   "execution_count": 28,
   "metadata": {},
   "outputs": [
    {
     "data": {
      "text/plain": [
       "'.--...-.-.-....----..---'"
      ]
     },
     "execution_count": 28,
     "metadata": {},
     "output_type": "execute_result"
    }
   ],
   "source": [
    "def morse_code(s):\n",
    "    MORSE_CODE = { 'A':'.-', 'B':'-...',\n",
    "                    'C':'-.-.', 'D':'-..', 'E':'.',\n",
    "                    'F':'..-.', 'G':'--.', 'H':'....',\n",
    "                    'I':'..', 'J':'.---', 'K':'-.-',\n",
    "                    'L':'.-..', 'M':'--', 'N':'-.',\n",
    "                    'O':'---', 'P':'.--.', 'Q':'--.-',\n",
    "                    'R':'.-.', 'S':'...', 'T':'-',\n",
    "                    'U':'..-', 'V':'...-', 'W':'.--',\n",
    "                    'X':'-..-', 'Y':'-.--', 'Z':'--..',\n",
    "                    '1':'.----', '2':'..---', '3':'...--',\n",
    "                    '4':'....-', '5':'.....', '6':'-....',\n",
    "                    '7':'--...', '8':'---..', '9':'----.',\n",
    "                    '0':'-----', ', ':'--..--', '.':'.-.-.-',\n",
    "                    '?':'..--..', '/':'-..-.', '-':'-....-',\n",
    "                    '(':'-.--.', ')':'-.--.-'}\n",
    "    for i in s:\n",
    "        if i in MORSE_CODE.keys():\n",
    "            s=s.replace(i,MORSE_CODE[i])\n",
    "    return(s)\n",
    "morse_code(\"ABCDE12\")\n"
   ]
  },
  {
   "cell_type": "markdown",
   "metadata": {},
   "source": [
    "Write a function that takes a number and returns True if it&#39;s a prime; False\n",
    "otherwise. The number can be 2^64-1 (2 to the power of 63, not XOR). With\n",
    "the standard technique it would be O(2^64-1), which is much too large for the\n",
    "10 second time limit."
   ]
  },
  {
   "cell_type": "code",
   "execution_count": 35,
   "metadata": {},
   "outputs": [
    {
     "name": "stdout",
     "output_type": "stream",
     "text": [
      "False\n",
      "True\n"
     ]
    }
   ],
   "source": [
    "def check_prime(n):\n",
    "    x=0\n",
    "    for i in range(2,n):\n",
    "        if n%i==0:\n",
    "            x=1\n",
    "            break\n",
    "    if x==1:\n",
    "        return(False)\n",
    "    else:\n",
    "        return(True)\n",
    "print(check_prime(5151512515524))\n",
    "print(check_prime(56963))"
   ]
  },
  {
   "cell_type": "markdown",
   "metadata": {},
   "source": [
    "Create a function that converts a word to a bitstring and then to a boolean\n",
    "list based on the following criteria:\n",
    "1. Locate the position of the letter in the English alphabet (from 1 to 26).\n",
    "2. Odd positions will be represented as 1 and 0 otherwise.\n",
    "3. Convert the represented positions to boolean values, 1 for True and 0\n",
    "for False.\n",
    "4. Store the conversions into an array."
   ]
  },
  {
   "cell_type": "code",
   "execution_count": 37,
   "metadata": {},
   "outputs": [
    {
     "name": "stdout",
     "output_type": "stream",
     "text": [
      "10101\n"
     ]
    },
    {
     "data": {
      "text/plain": [
       "[True, False, True, False, True]"
      ]
     },
     "execution_count": 37,
     "metadata": {},
     "output_type": "execute_result"
    }
   ],
   "source": [
    "def to_bool_list(s):\n",
    "\n",
    "    odd=\"acegikmoqsuwy\"\n",
    "    even=\"bdfhjlnprtvxz\"\n",
    "    s=\"abcde\"\n",
    "    for i in s:\n",
    "        if i in even:\n",
    "            s=s.replace(i,\"0\")\n",
    "        else:\n",
    "            s=s.replace(i,\"1\")\n",
    "    print(s)\n",
    "    n=s\n",
    "    m=[]\n",
    "    for i in n:\n",
    "        if i==\"1\":\n",
    "            m.append(True)\n",
    "        else:\n",
    "            m.append(False)\n",
    "    return(m)\n",
    "to_bool_list(\"abcde\")\n"
   ]
  },
  {
   "cell_type": "code",
   "execution_count": null,
   "metadata": {},
   "outputs": [],
   "source": []
  }
 ],
 "metadata": {
  "kernelspec": {
   "display_name": "Python 3",
   "language": "python",
   "name": "python3"
  },
  "language_info": {
   "codemirror_mode": {
    "name": "ipython",
    "version": 3
   },
   "file_extension": ".py",
   "mimetype": "text/x-python",
   "name": "python",
   "nbconvert_exporter": "python",
   "pygments_lexer": "ipython3",
   "version": "3.8.3"
  }
 },
 "nbformat": 4,
 "nbformat_minor": 4
}
