{
 "cells": [
  {
   "cell_type": "markdown",
   "metadata": {},
   "source": [
    "1. Given a sentence as txt, return True if any two adjacent words have this\n",
    "property: One word ends with a vowel, while the word immediately after\n",
    "begins with a vowel (a e i o u)."
   ]
  },
  {
   "cell_type": "code",
   "execution_count": 4,
   "metadata": {},
   "outputs": [
    {
     "data": {
      "text/plain": [
       "True"
      ]
     },
     "execution_count": 4,
     "metadata": {},
     "output_type": "execute_result"
    }
   ],
   "source": [
    "def vowel_link(s):\n",
    "    l=s.split(\" \")\n",
    "    x=\"aeiou\"\n",
    "    count=0\n",
    "    for i in range(len(l)-1):\n",
    "        if l[i][-1] and l[i+1][0] in x:\n",
    "            count=count+1\n",
    "    if count>=1:\n",
    "        return(True)\n",
    "    else:\n",
    "        return(False)\n",
    "vowel_link(\"a very large appliance\")"
   ]
  },
  {
   "cell_type": "markdown",
   "metadata": {},
   "source": [
    "You are given three inputs: a string, one letter, and a second letter.\n",
    "Write a function that returns True if every instance of the first letter occurs\n",
    "before every instance of the second letter."
   ]
  },
  {
   "cell_type": "code",
   "execution_count": 1,
   "metadata": {},
   "outputs": [
    {
     "data": {
      "text/plain": [
       "False"
      ]
     },
     "execution_count": 1,
     "metadata": {},
     "output_type": "execute_result"
    }
   ],
   "source": [
    "def first_before_second(s,a,b):    \n",
    "    l=[]\n",
    "    count=0\n",
    "    for i in s:\n",
    "        if i==a or i==b:\n",
    "            l.append(i)\n",
    "    \n",
    "    for i in range(len(l)-1):\n",
    "        if l[i]!=l[i+1]:\n",
    "            count=count+1\n",
    "    if count>1:\n",
    "        return(False)\n",
    "    else:\n",
    "        return(True)\n",
    "first_before_second(\"happy birthday\",\"a\",\"y\")"
   ]
  },
  {
   "cell_type": "markdown",
   "metadata": {},
   "source": [
    "Create a function that returns the characters from a list or string r on odd or\n",
    "even positions, depending on the specifier s. The specifier will be &quot;odd&quot; for\n",
    "items on odd positions (1, 3, 5, ...) and &quot;even&quot; for items on even positions (2,\n",
    "4, 6, ...)."
   ]
  },
  {
   "cell_type": "code",
   "execution_count": 12,
   "metadata": {},
   "outputs": [
    {
     "name": "stdout",
     "output_type": "stream",
     "text": [
      "2 5 "
     ]
    }
   ],
   "source": [
    "def char_at_pos(l,n):\n",
    "\n",
    "    if n==\"even\":\n",
    "        for i in l:\n",
    "            if (l.index(i)+1)%2==0:\n",
    "                print(i,end=\" \")\n",
    "    elif n==\"odd\":\n",
    "        for i in l:\n",
    "            if (l.index(i)+1)%2!=0:\n",
    "                print(i,end=\" \")\n",
    "    else:\n",
    "        return(\"enter odd or even\")\n",
    "char_at_pos([2,3,5,6],\"odd\")\n",
    "    "
   ]
  },
  {
   "cell_type": "markdown",
   "metadata": {},
   "source": [
    "Write a function that returns the greatest common divisor of all list\n",
    "elements. If the greatest common divisor is 1, return 1."
   ]
  },
  {
   "cell_type": "code",
   "execution_count": 14,
   "metadata": {},
   "outputs": [
    {
     "data": {
      "text/plain": [
       "10"
      ]
     },
     "execution_count": 14,
     "metadata": {},
     "output_type": "execute_result"
    }
   ],
   "source": [
    "import math\n",
    "from functools import reduce\n",
    "def gcd(l):\n",
    "    x = reduce(math.gcd, l)\n",
    "    return x\n",
    "gcd([10,20,30])"
   ]
  },
  {
   "cell_type": "markdown",
   "metadata": {},
   "source": [
    "A number/string is a palindrome if the digits/characters are the same when\n",
    "read both forward and backward. Examples include &quot;racecar&quot; and 12321.\n",
    "Given a positive number n, check if n or the binary representation of n is\n",
    "palindromic. Return the following:\n",
    "- &quot;Decimal only.&quot; if only n is a palindrome.\n",
    "- &quot;Binary only.&quot; if only the binary representation of n is a palindrome.\n",
    "- &quot;Decimal and binary.&quot; if both are palindromes.\n",
    "- &quot;Neither!&quot; if neither are palindromes."
   ]
  },
  {
   "cell_type": "code",
   "execution_count": 47,
   "metadata": {},
   "outputs": [
    {
     "name": "stdout",
     "output_type": "stream",
     "text": [
      "binary and decimal\n",
      "binary\n"
     ]
    }
   ],
   "source": [
    "def binary(num):\n",
    "        return(bin(num).replace(\"0b\",\"\")) \n",
    "\n",
    "def palindrome_type(n):\n",
    "    m=n\n",
    "    m=str(m)\n",
    "    m=m[::-1]\n",
    "    x=int(m)\n",
    "    j=binary(n)\n",
    "    j=int(j)\n",
    "    k=str(j)\n",
    "    k=k[::-1]\n",
    "    k=int(k)\n",
    "    \n",
    "    if x==n and k!=j:\n",
    "        return(\"decimal\")\n",
    "    elif x!=n and k==j:\n",
    "        return(\"binary\")\n",
    "    elif x==n and k==j:\n",
    "        return(\"binary and decimal\")\n",
    "print(palindrome_type(313))\n",
    "print(palindrome_type(427787))\n",
    "    "
   ]
  },
  {
   "cell_type": "code",
   "execution_count": null,
   "metadata": {},
   "outputs": [],
   "source": []
  }
 ],
 "metadata": {
  "kernelspec": {
   "display_name": "Python 3",
   "language": "python",
   "name": "python3"
  },
  "language_info": {
   "codemirror_mode": {
    "name": "ipython",
    "version": 3
   },
   "file_extension": ".py",
   "mimetype": "text/x-python",
   "name": "python",
   "nbconvert_exporter": "python",
   "pygments_lexer": "ipython3",
   "version": "3.8.3"
  }
 },
 "nbformat": 4,
 "nbformat_minor": 4
}
