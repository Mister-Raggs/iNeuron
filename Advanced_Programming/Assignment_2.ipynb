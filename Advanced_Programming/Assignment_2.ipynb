{
 "cells": [
  {
   "cell_type": "markdown",
   "metadata": {},
   "source": [
    "Write a function that takes a positive integer num and calculates how many\n",
    "dots exist in a pentagonal shape around the center dot on the Nth iteration.\n",
    "In the image below you can see the first iteration is only a single dot. On the\n",
    "second, there are 6 dots. On the third, there are 16 dots, and on the fourth\n",
    "there are 31 dots."
   ]
  },
  {
   "cell_type": "code",
   "execution_count": 9,
   "metadata": {},
   "outputs": [
    {
     "data": {
      "text/plain": [
       "('no of dots in 8 iteration.', 141)"
      ]
     },
     "execution_count": 9,
     "metadata": {},
     "output_type": "execute_result"
    }
   ],
   "source": [
    "def pentagon(n):\n",
    "    return(\"no of dots in {} iteration.\".format(n),(5 * n * n - 5 * n + 2) // 2)\n",
    "pentagon(8)\n"
   ]
  },
  {
   "cell_type": "markdown",
   "metadata": {},
   "source": [
    "Make a function that encrypts a given input with these steps:\n",
    "Input: &quot;apple&quot;\n",
    "Step 1: Reverse the input: &quot;elppa&quot;\n",
    "Step 2: Replace all vowels using the following chart:\n",
    "step3 add aca"
   ]
  },
  {
   "cell_type": "code",
   "execution_count": 15,
   "metadata": {},
   "outputs": [
    {
     "name": "stdout",
     "output_type": "stream",
     "text": [
      "1lpp0\n"
     ]
    },
    {
     "data": {
      "text/plain": [
       "'1lpp0aca'"
      ]
     },
     "execution_count": 15,
     "metadata": {},
     "output_type": "execute_result"
    }
   ],
   "source": [
    "def encrypt(s):\n",
    "    \n",
    "    x=\"aca\"\n",
    "    s=s[::-1]\n",
    "    for i in s:\n",
    "        \n",
    "        if i==\"a\":\n",
    "            s=s.replace(i,\"0\")\n",
    "        elif i==\"e\":\n",
    "            s=s.replace(i,\"1\")\n",
    "        elif i==\"i\":\n",
    "            s=s.replace(i,\"2\")\n",
    "        elif i==\"o\":\n",
    "            s=s.replace(i,\"2\")\n",
    "        elif i==\"u\":\n",
    "            s=s.replace(i,\"3\")\n",
    "    print(s)\n",
    "    s=s+x\n",
    "    return(s)\n",
    "encrypt(\"apple\")\n",
    "        "
   ]
  },
  {
   "cell_type": "markdown",
   "metadata": {},
   "source": [
    "Given the month and year as numbers, return whether that month contains\n",
    "a Friday 13th.(i.e You can check Python&#39;s datetime module)"
   ]
  },
  {
   "cell_type": "code",
   "execution_count": 18,
   "metadata": {},
   "outputs": [
    {
     "data": {
      "text/plain": [
       "False"
      ]
     },
     "execution_count": 18,
     "metadata": {},
     "output_type": "execute_result"
    }
   ],
   "source": [
    "import datetime\n",
    "def friday_13(m,y):\n",
    "    date = datetime.date(y, m, 13)\n",
    "    return date.strftime(\"%A\") == \"Friday\"\n",
    "friday_13(5,2000)"
   ]
  },
  {
   "cell_type": "markdown",
   "metadata": {},
   "source": [
    "Write a regular expression that will help us count how many bad cookies\n",
    "are produced every day. You must use RegEx negative lookbehind."
   ]
  },
  {
   "cell_type": "code",
   "execution_count": null,
   "metadata": {},
   "outputs": [],
   "source": []
  },
  {
   "cell_type": "markdown",
   "metadata": {},
   "source": [
    "Given a list of words in the singular form, return a set of those words in the\n",
    "plural form if they appear more than once in the list."
   ]
  },
  {
   "cell_type": "code",
   "execution_count": 17,
   "metadata": {},
   "outputs": [
    {
     "data": {
      "text/plain": [
       "{'cows', 'pig'}"
      ]
     },
     "execution_count": 17,
     "metadata": {},
     "output_type": "execute_result"
    }
   ],
   "source": [
    "def pluralize(l):\n",
    "    m=[i for i in l if l.count(i)>1]\n",
    "    k=[i for i in l if l.count(i)==1]\n",
    "\n",
    "    x=\"s\"\n",
    "    for i in range(len(m)):\n",
    "        m[i]=m[i]+x\n",
    "    l=k+m\n",
    "    l=set(l)\n",
    "    return(l)\n",
    "pluralize([\"cow\",\"cow\",\"cow\",\"pig\"])\n",
    "\n",
    "\n",
    "\n",
    "\n"
   ]
  },
  {
   "cell_type": "markdown",
   "metadata": {},
   "source": [
    "\n",
    "\n",
    "\n",
    "        "
   ]
  },
  {
   "cell_type": "markdown",
   "metadata": {},
   "source": []
  },
  {
   "cell_type": "markdown",
   "metadata": {},
   "source": [
    "\n",
    "\n",
    "    "
   ]
  },
  {
   "cell_type": "code",
   "execution_count": null,
   "metadata": {},
   "outputs": [],
   "source": []
  }
 ],
 "metadata": {
  "kernelspec": {
   "display_name": "Python 3",
   "language": "python",
   "name": "python3"
  },
  "language_info": {
   "codemirror_mode": {
    "name": "ipython",
    "version": 3
   },
   "file_extension": ".py",
   "mimetype": "text/x-python",
   "name": "python",
   "nbconvert_exporter": "python",
   "pygments_lexer": "ipython3",
   "version": "3.8.3"
  }
 },
 "nbformat": 4,
 "nbformat_minor": 4
}
