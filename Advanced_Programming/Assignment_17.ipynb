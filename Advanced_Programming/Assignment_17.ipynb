{
 "cells": [
  {
   "cell_type": "markdown",
   "metadata": {},
   "source": [
    "Create a function that transposes a 2D matrix."
   ]
  },
  {
   "cell_type": "code",
   "execution_count": 6,
   "metadata": {},
   "outputs": [
    {
     "data": {
      "text/plain": [
       "[[5, 6, 9], [5, 7, 9]]"
      ]
     },
     "execution_count": 6,
     "metadata": {},
     "output_type": "execute_result"
    }
   ],
   "source": [
    "def transpose(m):\n",
    "    rez = [[m[j][i] for j in range(len(m))] for i in range(len(m[0]))]\n",
    "    return(rez)\n",
    "transpose([[5,5],[6,7],[9,9]])\n"
   ]
  },
  {
   "cell_type": "markdown",
   "metadata": {},
   "source": [
    "Create a function that determines whether a string is a valid hex code.\n",
    "A hex code must begin with a pound key # and is exactly 6 characters in\n",
    "length. Each character must be a digit from 0-9 or an alphabetic character\n",
    "from A-F. All alphabetic characters may be uppercase or lowercase."
   ]
  },
  {
   "cell_type": "code",
   "execution_count": 3,
   "metadata": {},
   "outputs": [
    {
     "name": "stdout",
     "output_type": "stream",
     "text": [
      "True\n",
      "False\n"
     ]
    }
   ],
   "source": [
    "def  is_valid_hex(a):\n",
    "    x=0\n",
    "    b=\"abcdef\"\n",
    "    if len(a)!=7:\n",
    "        x=1\n",
    "    elif a[0]!=\"#\":\n",
    "        x=2\n",
    "    else:\n",
    "        for i in a:\n",
    "            if i==\"#\":\n",
    "                continue\n",
    "            else:\n",
    "                if i.isdigit()==False and i.isalpha()==False:\n",
    "                    x=3\n",
    "    for i in a:\n",
    "        if i.isalpha()==True:\n",
    "            if i not in b:\n",
    "                x=4\n",
    "    if x==1:\n",
    "        return(False)\n",
    "    elif x==2:\n",
    "        return(False)\n",
    "    elif x==3:\n",
    "        return(False)\n",
    "    elif x==4:\n",
    "        return(False)\n",
    "    elif x==0:\n",
    "        return(True)\n",
    "print(is_valid_hex(\"#d5a5c2\"))\n",
    "print(is_valid_hex(\"ad5c5c2\"))\n",
    "        "
   ]
  },
  {
   "cell_type": "code",
   "execution_count": null,
   "metadata": {},
   "outputs": [],
   "source": []
  }
 ],
 "metadata": {
  "kernelspec": {
   "display_name": "Python 3",
   "language": "python",
   "name": "python3"
  },
  "language_info": {
   "codemirror_mode": {
    "name": "ipython",
    "version": 3
   },
   "file_extension": ".py",
   "mimetype": "text/x-python",
   "name": "python",
   "nbconvert_exporter": "python",
   "pygments_lexer": "ipython3",
   "version": "3.8.3"
  }
 },
 "nbformat": 4,
 "nbformat_minor": 4
}
