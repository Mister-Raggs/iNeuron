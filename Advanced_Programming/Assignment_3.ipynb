{
 "cells": [
  {
   "cell_type": "markdown",
   "metadata": {},
   "source": [
    "1. Create a function to perform basic arithmetic operations that includes\n",
    "addition, subtraction, multiplication and division on a string number (e.g. &quot;12 +\n",
    "24&quot; or &quot;23 - 21&quot; or &quot;12 // 12&quot; or &quot;12 * 21&quot;).\n",
    "Here, we have 1 followed by a space, operator followed by another space\n",
    "and 2. For the challenge, we are going to have only two numbers between 1\n",
    "valid operator. The return value should be a number.\n",
    "eval() is not allowed. In case of division, whenever the second number equals\n",
    "&quot;0&quot; return -1."
   ]
  },
  {
   "cell_type": "code",
   "execution_count": 16,
   "metadata": {},
   "outputs": [
    {
     "name": "stdout",
     "output_type": "stream",
     "text": [
      "('multiplication ', 156)\n",
      "('subtraction= ', 0)\n"
     ]
    }
   ],
   "source": [
    "def arithmetic_operations(a):\n",
    "    for i in a:\n",
    "        if i==\"+\":\n",
    "            s=a.split(i)\n",
    "            m=0\n",
    "            for i in range(len(s)):\n",
    "                s[i]=int(s[i])\n",
    "            for i in s:\n",
    "                m=m+i\n",
    "            return(\"sum= \",m)\n",
    "        elif i==\"-\":\n",
    "            s=a.split(i)\n",
    "            for i in range(len(s)):\n",
    "                s[i]=int(s[i])\n",
    "\n",
    "            m=max(s)-min(s)\n",
    "            return(\"subtraction= \",m)\n",
    "        elif i==\"//\":\n",
    "            s=a.split(i)\n",
    "            for i in range(len(s)):\n",
    "                s[i]=int(s[i])\n",
    "            if s[1]==0:\n",
    "                return(\"-1\")\n",
    "            else:\n",
    "                return(s[0]/s[1])\n",
    "        elif i==\"*\":\n",
    "            s=a.split(\"*\")\n",
    "            m=1\n",
    "            for i in range(len(s)):\n",
    "                s[i]=int(s[i])\n",
    "            for i in s:\n",
    "                m=m*i\n",
    "            return(\"multiplication \",m)\n",
    "print(arithmetic_operations(\"12*13\"))\n",
    "print(arithmetic_operations(\"12-12\"))\n"
   ]
  },
  {
   "cell_type": "markdown",
   "metadata": {},
   "source": [
    "Write a function that takes the coordinates of three points in the form of a\n",
    "2d array and returns the perimeter of the triangle. The given points are the\n",
    "vertices of a triangle on a two-dimensional plane."
   ]
  },
  {
   "cell_type": "code",
   "execution_count": 17,
   "metadata": {},
   "outputs": [
    {
     "data": {
      "text/plain": [
       "('perimeter of triangle', 47.07918859608948)"
      ]
     },
     "execution_count": 17,
     "metadata": {},
     "output_type": "execute_result"
    }
   ],
   "source": [
    "import math\n",
    "def perimeter(l):\n",
    "    \n",
    "    x1=l[0][0]\n",
    "    y1=l[0][1]\n",
    "    x2=l[1][0]\n",
    "    y2=l[1][1]\n",
    "    x3=l[2][0]\n",
    "    y3=l[2][1]\n",
    "    p=math.sqrt((x2-x1)**2+(y2-y1)**2)+math.sqrt((x3-x2)**2+(y3-y2)**2)+math.sqrt((x1-x3)**2+(y1-y3)**2)\n",
    "    return(\"perimeter of triangle\",p)\n",
    "perimeter([[15,7],[5,22],[11,1]])\n",
    "    "
   ]
  },
  {
   "cell_type": "markdown",
   "metadata": {},
   "source": [
    "A city skyline can be represented as a 2-D list with 1s representing\n",
    "buildings. In the example below, the height of the tallest building is 4 (second-\n",
    "most right column).Create a function that takes a skyline (2-D list of 0&#39;s and 1&#39;s) and returns the\n",
    "height of the tallest skyscraper."
   ]
  },
  {
   "cell_type": "code",
   "execution_count": 1,
   "metadata": {
    "scrolled": true
   },
   "outputs": [
    {
     "data": {
      "text/plain": [
       "3"
      ]
     },
     "execution_count": 1,
     "metadata": {},
     "output_type": "execute_result"
    }
   ],
   "source": [
    "def skyline(l):\n",
    "    m=[]\n",
    "    for i in range(len(l[0])):\n",
    "        s=0\n",
    "        for j in range(len(l)):\n",
    "            s=s+l[j][i]\n",
    "        m.append(s)\n",
    "    return(max(m))\n",
    "skyline([[1,0,0,1],\n",
    "         [1,0,1,0],\n",
    "         [1,0,1,1]])\n"
   ]
  },
  {
   "cell_type": "markdown",
   "metadata": {},
   "source": [
    "A financial institution provides professional services to banks and claims\n",
    "charges from the customers based on the number of man-days provided.\n",
    "Internally, it has set a scheme to motivate and reward staff to meet and\n",
    "exceed targeted billable utilization and revenues by paying a bonus for each\n",
    "day claimed from customers in excess of a threshold target.\n",
    "This quarterly scheme is calculated with a threshold target of 32 days per\n",
    "quarter, and the incentive payment for each billable day in excess of such\n",
    "threshold target is shown as follows:Please note that incentive payment is calculated progressively. As an\n",
    "example, if an employee reached total billable days of 45 in a quarter, his/her\n",
    "incentive payment is computed as follows:\n",
    "32*0 + 8*325 + 5*550 = 5350\n",
    "Write a function to read the billable days of an employee and return the bonus\n",
    "he/she has obtained in that quarter."
   ]
  },
  {
   "cell_type": "code",
   "execution_count": 2,
   "metadata": {},
   "outputs": [
    {
     "data": {
      "text/plain": [
       "8200"
      ]
     },
     "execution_count": 2,
     "metadata": {},
     "output_type": "execute_result"
    }
   ],
   "source": [
    "def bonus(n):\n",
    "    bonus=0\n",
    "    bonus1=325*8\n",
    "    bonus2=550*8\n",
    "    bonus3=0\n",
    "    if n<=32:\n",
    "        bonus=0\n",
    "        return(bonus)\n",
    "    elif 32<n<=40:\n",
    "        n=n-32\n",
    "        bonus1=n*325\n",
    "        return(bonus1+bonus)\n",
    "    elif 40<n<=48:\n",
    "        n=n-40\n",
    "        bonus2=n*550\n",
    "        return(bonus2+bonus1+bonus)\n",
    "    elif n>48:\n",
    "        n=n-48\n",
    "        bonus3=n*600\n",
    "        return(bonus+bonus1+bonus2+bonus3)\n",
    "bonus(50)"
   ]
  },
  {
   "cell_type": "markdown",
   "metadata": {},
   "source": [
    "A number is said to be Disarium if the sum of its digits raised to their\n",
    "respective positions is the number itself.\n",
    "Create a function that determines whether a number is a Disarium or not."
   ]
  },
  {
   "cell_type": "code",
   "execution_count": 18,
   "metadata": {},
   "outputs": [
    {
     "name": "stdout",
     "output_type": "stream",
     "text": [
      "dissarium no\n",
      "not a dissarium no\n"
     ]
    }
   ],
   "source": [
    "import math\n",
    "def dissarium(n):\n",
    "    m=n\n",
    "    s=0\n",
    "    count=len(str(m))\n",
    "    while(m!=0):\n",
    "        a=m%10\n",
    "        s=s+math.pow(a,count)\n",
    "        count=count-1\n",
    "        m=m//10\n",
    "    if s==n:\n",
    "        return(\"dissarium no\")\n",
    "    else:\n",
    "        return(\"not a dissarium no\")\n",
    "print(dissarium(135))\n",
    "print(dissarium(75))"
   ]
  },
  {
   "cell_type": "code",
   "execution_count": null,
   "metadata": {},
   "outputs": [],
   "source": []
  }
 ],
 "metadata": {
  "kernelspec": {
   "display_name": "Python 3",
   "language": "python",
   "name": "python3"
  },
  "language_info": {
   "codemirror_mode": {
    "name": "ipython",
    "version": 3
   },
   "file_extension": ".py",
   "mimetype": "text/x-python",
   "name": "python",
   "nbconvert_exporter": "python",
   "pygments_lexer": "ipython3",
   "version": "3.8.3"
  }
 },
 "nbformat": 4,
 "nbformat_minor": 4
}
