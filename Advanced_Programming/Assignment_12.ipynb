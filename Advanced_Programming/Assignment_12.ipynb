{
 "cells": [
  {
   "cell_type": "markdown",
   "metadata": {},
   "source": [
    "For this challenge, forget how to add two numbers together. The best\n",
    "explanation on what to do for this function is this meme:"
   ]
  },
  {
   "cell_type": "code",
   "execution_count": 2,
   "metadata": {},
   "outputs": [
    {
     "data": {
      "text/plain": [
       "11610"
      ]
     },
     "execution_count": 2,
     "metadata": {},
     "output_type": "execute_result"
    }
   ],
   "source": [
    "def meme_sum(a,b):\n",
    "    a=\",\".join(str(a))\n",
    "    b=\",\".join(str(b))\n",
    "    a=a.split(\",\")\n",
    "    b=b.split(\",\")\n",
    "    for i in range(len(a)):\n",
    "        a[i]=int(a[i])\n",
    "    for i in range(len(b)):\n",
    "        b[i]=int(b[i])\n",
    "    y=[]\n",
    "    for i in range(len(a)):\n",
    "        y.append(str(a[i]+b[i]))\n",
    "\n",
    "    r=\"\".join(y)\n",
    "    return(int(r))\n",
    "meme_sum(245,925)"
   ]
  },
  {
   "cell_type": "markdown",
   "metadata": {},
   "source": [
    "Given an integer, create a function that returns the next prime. If the\n",
    "number is prime, return the number itself."
   ]
  },
  {
   "cell_type": "code",
   "execution_count": 4,
   "metadata": {},
   "outputs": [
    {
     "name": "stdout",
     "output_type": "stream",
     "text": [
      "13\n",
      "17\n"
     ]
    }
   ],
   "source": [
    "def is_prime(n):\n",
    "    x=0\n",
    "    for i in range(2,n):\n",
    "        if n%i==0:\n",
    "            x=1\n",
    "            break\n",
    "    if x==0:\n",
    "        return(\"prime\")\n",
    "    else:\n",
    "        return(\"nprime\")\n",
    "def next_prime(x):\n",
    "    m=x\n",
    "    while True:\n",
    "        x=x+1\n",
    "        for i in range(2,x):\n",
    "            if x%i==0:\n",
    "                break\n",
    "        else:\n",
    "            if is_prime(m)==\"prime\":\n",
    "                return(m)\n",
    "            else:\n",
    "                return(x)\n",
    "print(next_prime(13))\n",
    "print(next_prime(14))"
   ]
  },
  {
   "cell_type": "markdown",
   "metadata": {},
   "source": [
    "If a person traveled up a hill for 18mins at 20mph and then traveled back\n",
    "down the same path at 60mph then their average speed traveled was 30mph.\n",
    "Write a function that returns the average speed traveled given an uphill time,\n",
    "uphill rate and a downhill rate. Uphill time is given in minutes. Return the rate\n",
    "as an integer (mph). No rounding is necessary."
   ]
  },
  {
   "cell_type": "code",
   "execution_count": 5,
   "metadata": {},
   "outputs": [
    {
     "data": {
      "text/plain": [
       "30.0"
      ]
     },
     "execution_count": 5,
     "metadata": {},
     "output_type": "execute_result"
    }
   ],
   "source": [
    "def avg_speed(a,b,c):\n",
    "    distance_covered1=(a/60)*b\n",
    "    time_taken2=distance_covered1/c\n",
    "    total_timetaken=time_taken2+a/60\n",
    "    total_distance=distance_covered1*2\n",
    "    average_speed=total_distance/total_timetaken\n",
    "    return(average_speed)\n",
    "avg_speed(18,20,60)\n"
   ]
  },
  {
   "cell_type": "markdown",
   "metadata": {},
   "source": [
    "The Kempner Function, applied to a composite number, permits to find the\n",
    "smallest integer greater than zero whose factorial is exactly divided by the\n",
    "number.\n",
    "kempner(6) ➞ 3\n",
    "1! = 1 % 6 &gt; 0\n",
    "2! = 2 % 6 &gt; 0\n",
    "3! = 6 % 6 === 0\n",
    "kempner(10) ➞ 5\n",
    "1! = 1 % 10 &gt; 0\n",
    "2! = 2 % 10 &gt; 0\n",
    "3! = 6 % 10 &gt; 0\n",
    "4! = 24 % 10 &gt; 0\n",
    "5! = 120 % 10 === 0\n",
    "A Kempner Function applied to a prime will always return the prime itself."
   ]
  },
  {
   "cell_type": "code",
   "execution_count": 3,
   "metadata": {},
   "outputs": [
    {
     "name": "stdout",
     "output_type": "stream",
     "text": [
      "5\n",
      "5\n"
     ]
    }
   ],
   "source": [
    "def kempner(n):\n",
    "    l=[]\n",
    "    k=[]\n",
    "    for i in range(1,n+1):\n",
    "        l.append(i)\n",
    "    for i in range(1,len(l)):\n",
    "        l[i]=l[i]*l[i-1]\n",
    "    for i in l:\n",
    "        if i%n==0:\n",
    "            k.append(l.index(i)+1)\n",
    "    return(k[0])\n",
    "print(kempner(5))\n",
    "print(kempner(10))"
   ]
  },
  {
   "cell_type": "markdown",
   "metadata": {},
   "source": [
    "You work in a factory, and your job is to take items from a conveyor belt\n",
    "and pack them into boxes. Each box can hold a maximum of 10 kgs. Given a\n",
    "list containing the weight (in kg) of each item, how many boxes would you\n",
    "need to pack all of the items?"
   ]
  },
  {
   "cell_type": "code",
   "execution_count": 9,
   "metadata": {},
   "outputs": [
    {
     "name": "stdout",
     "output_type": "stream",
     "text": [
      "4\n",
      "2\n"
     ]
    }
   ],
   "source": [
    "def no_boxes(l):\n",
    "    sum=0\n",
    "    for i in l:\n",
    "        sum=sum+i\n",
    "    boxes=round(sum/10)\n",
    "    return(boxes)\n",
    "print(no_boxes([2, 1, 2, 5, 4, 3, 6, 1, 1, 9, 3, 2]))\n",
    "print(no_boxes([3,7,5]))\n",
    "   "
   ]
  },
  {
   "cell_type": "code",
   "execution_count": null,
   "metadata": {},
   "outputs": [],
   "source": []
  }
 ],
 "metadata": {
  "kernelspec": {
   "display_name": "Python 3",
   "language": "python",
   "name": "python3"
  },
  "language_info": {
   "codemirror_mode": {
    "name": "ipython",
    "version": 3
   },
   "file_extension": ".py",
   "mimetype": "text/x-python",
   "name": "python",
   "nbconvert_exporter": "python",
   "pygments_lexer": "ipython3",
   "version": "3.8.3"
  }
 },
 "nbformat": 4,
 "nbformat_minor": 4
}
